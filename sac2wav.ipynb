{
 "cells": [
  {
   "cell_type": "markdown",
   "metadata": {},
   "source": [
    "# A simple notebook to turn SAC to WAV files "
   ]
  },
  {
   "cell_type": "markdown",
   "metadata": {},
   "source": [
    "## How to set up directories, codes and files"
   ]
  },
  {
   "cell_type": "markdown",
   "metadata": {},
   "source": [
    "Download obspyDMT into a local floder:\n",
    "    \n",
    "        git clone https://github.com/kasra-hosseini/obspyDMT.git /path/to/my/obspyDMT\n",
    "\n",
    "obspyDMT can be installed by:\n",
    "\n",
    "        cd /path/to/my/obspyDMT\n",
    "        pip install -e .\n",
    "\n",
    "Please **do not use** >>pip install obspyDMT<<. "
   ]
  },
  {
   "cell_type": "markdown",
   "metadata": {},
   "source": [
    "Copy **process_unit_wav.py** which you can find in this project folder into:\n",
    "    \n",
    "    /path/to/my/obspyDMT/obspyDMT\n",
    "\n",
    "You will find there also some other files named **process_unitXXX.py** in this path."
   ]
  },
  {
   "cell_type": "markdown",
   "metadata": {},
   "source": [
    "## What else you will need to run this notebook"
   ]
  },
  {
   "cell_type": "markdown",
   "metadata": {},
   "source": [
    "The usual suspects:\n",
    "\n",
    "    Anaconda\n",
    "    obspy\n",
    "    numpy, scipy, ...\n",
    "    cartopy \n",
    "\n",
    "The extras:\n",
    "    \n",
    "    SoundFile\n",
    "    natsorted\n",
    "    "
   ]
  },
  {
   "cell_type": "markdown",
   "metadata": {},
   "source": [
    "## Useful links\n",
    "    \n",
    "   **Websites for finding earthquakes, networks and stations:**\n",
    "    - http://www.fdsn.org/networks/\n",
    "    - http://ds.iris.edu/wilber3/find_event\n",
    "    \n",
    "   **Understanding network codes:**\n",
    "    - https://ds.iris.edu/ds/nodes/dmc/tools/data_channels/#???\n",
    "    - https://ds.iris.edu/ds/nodes/dmc/data/formats/seed-channel-naming/\n",
    "    \n",
    "   **How to quickly download earthquakes:**\n",
    "    - https://github.com/kasra-hosseini/obspyDMT\n",
    "    \n",
    "   **Learn more about python, jupyter notebooks and obspy:**\n",
    "    - http://seismo-live.org/\n",
    "    \n",
    "   **How to install Anaconda:**\n",
    "    - https://docs.anaconda.com/anaconda/install/mac-os/\n",
    "    \n",
    "   **What we are using to export the waveforms to WAV files:**\n",
    "    - https://pysoundfile.readthedocs.io/en/latest/"
   ]
  },
  {
   "cell_type": "markdown",
   "metadata": {},
   "source": [
    "ATTENTION 1: \n",
    "It you have a \"%%capture\" at the top of the cell no output will be shown. If you are suspicious that something is going terribly wrong you can comment out this line and see the whole output again.\n",
    "\n",
    "ATTENTION 2:\n",
    "Basemap is deprecated in favor of the Cartopy project. "
   ]
  },
  {
   "cell_type": "markdown",
   "metadata": {},
   "source": [
    "## Import \n",
    "\n",
    "You usually do not change this part."
   ]
  },
  {
   "cell_type": "code",
   "execution_count": 1,
   "metadata": {},
   "outputs": [],
   "source": [
    "# solve issue wi\\th autocomplete\n",
    "%config Completer.use_jedi = False\n",
    "%load_ext autoreload\n",
    "%autoreload 2\n",
    "%matplotlib notebook"
   ]
  },
  {
   "cell_type": "code",
   "execution_count": 2,
   "metadata": {},
   "outputs": [],
   "source": [
    "import os\n",
    "import sys\n",
    "import time\n",
    "import glob\n",
    "from IPython import display\n",
    "\n",
    "from soundfile import SoundFile\n",
    "from natsort import natsorted\n",
    "\n",
    "import matplotlib.pyplot as plt\n",
    "from matplotlib import cm\n",
    "import cartopy.crs as ccrs\n",
    "\n",
    "import numpy as np\n",
    "import pandas as pd\n",
    "from obspy import read, Trace\n",
    "from obspy.signal.tf_misfit import plot_tfr\n",
    "\n",
    "# the file src_sac2wav contains written functions for exporting sac to wav files\n",
    "from src_sac2wav import *"
   ]
  },
  {
   "cell_type": "markdown",
   "metadata": {},
   "source": [
    "## Download the data|"
   ]
  },
  {
   "cell_type": "markdown",
   "metadata": {},
   "source": [
    "<img src=\"DMT_logo.png\" width=\"200\" align=\"center\">"
   ]
  },
  {
   "cell_type": "markdown",
   "metadata": {},
   "source": [
    "### Input for Download"
   ]
  },
  {
   "cell_type": "code",
   "execution_count": 3,
   "metadata": {},
   "outputs": [],
   "source": [
    "# ==============\n",
    "# DOWNLOAD input \n",
    "# ==============\n",
    "\n",
    "save_path = '/mnt/seismodata2/MT/_OUTPUT_/test_sac2wav_10.08.2021'\n",
    "\n",
    "# Choose between \"event\" and \"continuous\" or \"day\" mode.\n",
    "# When you are choosing \"continuous\" or \"day\" mode, day files will be downloaded regardless of the mode. \n",
    "# In continuous mode the day files are later merged to one long trace and exported as WAV. \n",
    "mode = 'continuous'\n",
    "\n",
    "# Does not download anything but just gives you a table of available events in the timespan you define in start_time/end_time\n",
    "event_info = False\n",
    "\n",
    "start_time = '2020-02-01'\n",
    "end_time = '2021-03-01'\n",
    "\n",
    "# preset and offset make only sense in event mode, will not be used with continuous or day mode!\n",
    "preset = None  # in [SEC] default: 0; put None if you want to use default values\n",
    "offset = 0  # default: 1800 for event-based mode and 0 for continuous mode\n",
    "\n",
    "min_mag = '8.0'\n",
    "max_mag = '10'\n",
    "\n",
    "samplingrate = None  # or None \n",
    "waveform_format = 'sac'  # or mseed \n",
    "\n",
    "event_catalog = 'NEIC_USGS'\n",
    "data_source = 'IRIS'  # all or RESIF\n",
    "\n",
    "network = 'EI'\n",
    "station = 'DSB'\n",
    "channel = 'H*'\n",
    "\n",
    "# ATTENTION!! If this is set to TRUE and the datapath is found, delete it before running obspyDMT\n",
    "reset = False\n",
    "\n",
    "# parallel request is on default with 4 cores \n",
    "parallel_request = True\n",
    "\n",
    "# parallel processing is on default with 4 cores\n",
    "parallel_process = True\n",
    "\n",
    "# instrument response, yes/no\n",
    "instrument_correction = True\n",
    "\n",
    "# process_unit that you want to use:\n",
    "process_unit = 'process_unit_wav'\n",
    "#Apply a bandpass filter to the seismograms before deconvolution, syntax: 'None' or '(f1,f2,f3,f4)' \n",
    "# which are the four corner frequencies of a cosine taper, default: '(0.008, 0.012, 3.0, 4.0)'.\n",
    "pre_filt = '(0.008, 0.012, 3.0, 4.0)'  # or False for default/ None for none"
   ]
  },
  {
   "cell_type": "code",
   "execution_count": 4,
   "metadata": {},
   "outputs": [],
   "source": [
    "# output paths will be generated:\n",
    "wav_save, save_fig_path = generate_output_folders(mode, save_path)"
   ]
  },
  {
   "cell_type": "markdown",
   "metadata": {},
   "source": [
    "Generate the obspyDMT command first:"
   ]
  },
  {
   "cell_type": "code",
   "execution_count": null,
   "metadata": {},
   "outputs": [],
   "source": [
    "##### here the input from above is put together for obspyDMT \n",
    "execute_DMT = f'obspyDMT --datapath {save_path} --min_date {start_time} --max_date {end_time}'\\\n",
    "              f' --waveform_format {waveform_format} --data_source {data_source}'\\\n",
    "              f' --pre_process {process_unit}'\n",
    "\n",
    "if mode == 'event':\n",
    "    execute_DMT = execute_DMT + f' --min_mag {min_mag} --max_mag {max_mag}'\\\n",
    "                                f' --event_catalog {event_catalog}'\n",
    "    if preset:\n",
    "        execute_DMT = execute_DMT + f' --preset {preset}'\n",
    "\n",
    "    if offset:\n",
    "        execute_DMT = execute_DMT + f' --offset {offset}'\n",
    "\n",
    "elif mode == 'continuous' or mode == 'day':\n",
    "    execute_DMT = execute_DMT + f' --continuous '\n",
    "\n",
    "else:\n",
    "    sys.exit(f'Mode: {mode} not implemented. Forced exit!')\n",
    "\n",
    "# if samplingrate is not None then add the sampling rate modifier otherwise it \n",
    "# should not change the sampling rate of the waveforms\n",
    "\n",
    "if station == '*':\n",
    "    # This means all channels are considered but some datacentres don't like the wildcard\n",
    "    pass\n",
    "elif station != '*':\n",
    "    execute_DMT = execute_DMT + f' --sta {station}'\n",
    "\n",
    "if channel == '*':\n",
    "    pass\n",
    "elif channel != '*':   \n",
    "    execute_DMT = execute_DMT + f' --cha {channel}'\n",
    "\n",
    "if network == '*':\n",
    "    pass\n",
    "elif network != '*':\n",
    "    execute_DMT = execute_DMT + f' --net {network}'\n",
    "\n",
    "if samplingrate: \n",
    "    execute_DMT = execute_DMT + f' --sampling_rate {samplingrate}'\n",
    "\n",
    "if instrument_correction:\n",
    "    execute_DMT = execute_DMT + f' --instrument_correction'\n",
    "\n",
    "if parallel_request:\n",
    "    execute_DMT = execute_DMT + f' --req_parallel --req_np 10'\n",
    "\n",
    "if parallel_process:\n",
    "    execute_DMT = execute_DMT + f' --parallel_process --process_np 10'\n",
    "\n",
    "if pre_filt:\n",
    "    execute_DMT = execute_DMT + f' --pre_filt {pre_filt}'\n",
    "\n",
    "if event_info:\n",
    "    execute_DMT = execute_DMT + f' --event_info'\n",
    "    \n",
    "if reset:\n",
    "    execute_DMT = execute_DMT + f'  --reset'\n",
    "        \n",
    "print(f'Executing following command in the next cell:\\n\\n{execute_DMT}')"
   ]
  },
  {
   "cell_type": "markdown",
   "metadata": {},
   "source": [
    "Attention! Only execute the next line if you want to download or update your dataset. If you just want to plot or export some specific data you already downloaded then you do not have to execute the next line!"
   ]
  },
  {
   "cell_type": "code",
   "execution_count": null,
   "metadata": {
    "scrolled": true
   },
   "outputs": [],
   "source": [
    "!{execute_DMT}"
   ]
  },
  {
   "cell_type": "markdown",
   "metadata": {},
   "source": [
    "In case your download was interrupted and raw was not converted to processed, execute this next cell. Otherwise, please skip."
   ]
  },
  {
   "cell_type": "code",
   "execution_count": null,
   "metadata": {
    "scrolled": true
   },
   "outputs": [],
   "source": [
    "proc_DMT = f'{execute_DMT} --local'\n",
    "!{proc_DMT}"
   ]
  },
  {
   "cell_type": "markdown",
   "metadata": {},
   "source": [
    "## Access downloaded data and save as WAV files"
   ]
  },
  {
   "cell_type": "markdown",
   "metadata": {},
   "source": [
    "### Reading station information"
   ]
  },
  {
   "cell_type": "markdown",
   "metadata": {},
   "source": [
    "No visible output generated with %%caputre.\n",
    "\n",
    "Attnetnion: In some cases there might be a gap in data and the %%capture suppress the Warning messages! If you want to see them then comment the first line of the next cell."
   ]
  },
  {
   "cell_type": "code",
   "execution_count": null,
   "metadata": {
    "scrolled": true
   },
   "outputs": [],
   "source": [
    "%%capture\n",
    "# find read_station_information function in src_sac2wav.py if you want to know what is happening inside this function\n",
    "df_all = read_station_information(save_path, '*')\n",
    "# you can change the '*' to a specific event, but this wildcard will give you everything \n",
    "# a data frame (df) is generated with all station event information for your current download"
   ]
  },
  {
   "cell_type": "markdown",
   "metadata": {},
   "source": [
    "Here, you can look at the data frame:"
   ]
  },
  {
   "cell_type": "code",
   "execution_count": null,
   "metadata": {
    "scrolled": true
   },
   "outputs": [],
   "source": [
    "print(df_all)"
   ]
  },
  {
   "cell_type": "markdown",
   "metadata": {},
   "source": [
    "## Plot station event distribution"
   ]
  },
  {
   "cell_type": "code",
   "execution_count": null,
   "metadata": {
    "scrolled": false
   },
   "outputs": [],
   "source": [
    "fig = plt.figure(figsize=(10, 5))\n",
    "ax = fig.add_subplot(1, 1, 1, projection=ccrs.Robinson())\n",
    "\n",
    "ax.set_global()\n",
    "ax.stock_img()\n",
    "ax.coastlines()\n",
    "\n",
    "df1 = df_all.drop_duplicates(['stalon','stalat'])\n",
    "ax.scatter(df1['stalon'].astype(float), df1['stalat'].astype(float), c='b', marker='v', s=15, alpha=0.7,  transform=ccrs.PlateCarree())\n",
    "\n",
    "if mode == 'event':\n",
    "    df2 = df_all.drop_duplicates(['evlon','evlat'])\n",
    "    ax.scatter(df2['evlon'].astype(float), df2['evlat'].astype(float), c='r', marker='*', s=65, alpha=0.7, transform=ccrs.PlateCarree())\n",
    "\n",
    "# always save this plot\n",
    "plt.savefig(os.path.join(save_fig_path, 'station_event_map.png'), dpi=300)\n",
    "plt.show()"
   ]
  },
  {
   "cell_type": "markdown",
   "metadata": {},
   "source": [
    "### Creating Poly-WAV's"
   ]
  },
  {
   "cell_type": "markdown",
   "metadata": {},
   "source": [
    "Seperate WAV files are automatically written when data is downloaded. When exporting poly-WAV files and Hydrophone channel is not present for landstation a zero trace is created and exportet instead.\n",
    "\n",
    "Even if you can download all possible channels (e.g. Water current, temperature, etc... see also here: https://ds.iris.edu/ds/nodes/dmc/tools/data_channels/#VOC) only seismometer channels are exported to WAV files. Only channels starting with:\n",
    "\n",
    "    XX E       Extremely Short Period  ≥ 80 to < 250< 10 sec\n",
    "    XX S       Short Period  ≥ 10 to < 80< 10 sec\n",
    "    \n",
    "    H       High Broad Band ≥ 80 to < 250≥ 10 sec\n",
    "    B       Broad Band≥ 10 to < 80≥ 10 sec\n",
    "    M       Mid Period> 1 to < 10LLong Period≈ 1\n",
    "    L\t    Long Period\t≈ 1\n",
    "    V       Very Long Period≈ 0.1\n",
    "    \n",
    "    XX U       Ultra Long Period≈ 0.01\n",
    "    XX R       Extremely Long Period≥ 0.0001 to < 0.001\n",
    "\n",
    "will be considered for converting for WAV files. There are even longer/shorter period channels which can be added at a later stage if desired.\n",
    "\n",
    "For instance\n",
    "\n",
    "    VOC measures water current\n",
    "    VKI measures inside Temperature\n",
    "and\n",
    "\n",
    "    the “LOG” channel for the console log\n",
    "    the “SOH” channel for the main state of health channel\n",
    "\n",
    "are skipped. "
   ]
  },
  {
   "cell_type": "markdown",
   "metadata": {},
   "source": [
    "**Note!** framerate and bitrate are set to 48000 and PCM_24 when downloaded for the single WAV files. You can change that for the poly files. If you want to change it for the single files you have to change it in **process_unit_wav.py** at the bottom of the file (don't forget to save your changes!). "
   ]
  },
  {
   "cell_type": "markdown",
   "metadata": {},
   "source": [
    "**Attention!** you are setting the mode (event, continous, day) on top of the notebook. Here, you can define another folder to process if you wish. Default is to use the above settings."
   ]
  },
  {
   "cell_type": "markdown",
   "metadata": {},
   "source": [
    "### There can be several processed folders depending on your above input\n",
    "\n",
    "'processed': [yes] 'sampling_rate' and [yes] 'instrument_correction'\n",
    "\n",
    "'resamp' : [yes] 'sampling_rate' and [no] 'instrument_correction'\n",
    "\n",
    "'instr': [no] 'sampling_rate' and [yes] 'instrument_correction'\n",
    "\n",
    "'noinstr_noresamp': [no] 'sampling_rate' and [no] 'instrument_correction'"
   ]
  },
  {
   "cell_type": "code",
   "execution_count": 11,
   "metadata": {},
   "outputs": [
    {
     "name": "stdout",
     "output_type": "stream",
     "text": [
      "00000 | /mnt/seismodata2/MT/_OUTPUT_/test_sac2wav_10.08.2021/continuous01/proc_noinstr_noresamp/EI.DSB..HHE | 8640001 | 2750.0\n",
      "00001 | /mnt/seismodata2/MT/_OUTPUT_/test_sac2wav_10.08.2021/continuous01/proc_noinstr_noresamp/EI.DSB..HHN | 8640001 | 2444.0\n",
      "00002 | /mnt/seismodata2/MT/_OUTPUT_/test_sac2wav_10.08.2021/continuous01/proc_noinstr_noresamp/EI.DSB..HHZ | 8640001 | 3392.0\n",
      "00003 | /mnt/seismodata2/MT/_OUTPUT_/test_sac2wav_10.08.2021/continuous02/proc_noinstr_noresamp/EI.DSB..HHE | 8640001 | 2449.0\n",
      "00004 | /mnt/seismodata2/MT/_OUTPUT_/test_sac2wav_10.08.2021/continuous02/proc_noinstr_noresamp/EI.DSB..HHN | 8640001 | 2333.0\n",
      "00005 | /mnt/seismodata2/MT/_OUTPUT_/test_sac2wav_10.08.2021/continuous02/proc_noinstr_noresamp/EI.DSB..HHZ | 8640001 | 2587.0\n",
      "00006 | /mnt/seismodata2/MT/_OUTPUT_/test_sac2wav_10.08.2021/continuous03/proc_noinstr_noresamp/EI.DSB..HHE | 8640001 | 3872.0\n",
      "00007 | /mnt/seismodata2/MT/_OUTPUT_/test_sac2wav_10.08.2021/continuous03/proc_noinstr_noresamp/EI.DSB..HHN | 8640001 | 3532.0\n",
      "00008 | /mnt/seismodata2/MT/_OUTPUT_/test_sac2wav_10.08.2021/continuous03/proc_noinstr_noresamp/EI.DSB..HHZ | 8640001 | 4508.0\n",
      "00009 | /mnt/seismodata2/MT/_OUTPUT_/test_sac2wav_10.08.2021/continuous04/proc_noinstr_noresamp/EI.DSB..HHE | 8640001 | 4438.0\n",
      "00010 | /mnt/seismodata2/MT/_OUTPUT_/test_sac2wav_10.08.2021/continuous04/proc_noinstr_noresamp/EI.DSB..HHN | 8640001 | 3796.0\n",
      "00011 | /mnt/seismodata2/MT/_OUTPUT_/test_sac2wav_10.08.2021/continuous04/proc_noinstr_noresamp/EI.DSB..HHZ | 8640001 | 4262.0\n",
      "00012 | /mnt/seismodata2/MT/_OUTPUT_/test_sac2wav_10.08.2021/continuous05/proc_noinstr_noresamp/EI.DSB..HHE | 8640001 | 1774.0\n",
      "00013 | /mnt/seismodata2/MT/_OUTPUT_/test_sac2wav_10.08.2021/continuous05/proc_noinstr_noresamp/EI.DSB..HHN | 8640001 | 2204.0\n",
      "00014 | /mnt/seismodata2/MT/_OUTPUT_/test_sac2wav_10.08.2021/continuous05/proc_noinstr_noresamp/EI.DSB..HHZ | 8640001 | 1980.0\n",
      "00015 | /mnt/seismodata2/MT/_OUTPUT_/test_sac2wav_10.08.2021/continuous06/proc_noinstr_noresamp/EI.DSB..HHE | 8640001 | 1958.0\n",
      "00016 | /mnt/seismodata2/MT/_OUTPUT_/test_sac2wav_10.08.2021/continuous06/proc_noinstr_noresamp/EI.DSB..HHN | 8640001 | 2347.0\n",
      "00017 | /mnt/seismodata2/MT/_OUTPUT_/test_sac2wav_10.08.2021/continuous06/proc_noinstr_noresamp/EI.DSB..HHZ | 8640001 | 2313.0\n",
      "00018 | /mnt/seismodata2/MT/_OUTPUT_/test_sac2wav_10.08.2021/continuous07/proc_noinstr_noresamp/EI.DSB..HHE | 8640001 | 2316.0\n",
      "00019 | /mnt/seismodata2/MT/_OUTPUT_/test_sac2wav_10.08.2021/continuous07/proc_noinstr_noresamp/EI.DSB..HHN | 8640001 | 2217.0\n",
      "00020 | /mnt/seismodata2/MT/_OUTPUT_/test_sac2wav_10.08.2021/continuous07/proc_noinstr_noresamp/EI.DSB..HHZ | 8640001 | 2823.0\n",
      "00021 | /mnt/seismodata2/MT/_OUTPUT_/test_sac2wav_10.08.2021/continuous08/proc_noinstr_noresamp/EI.DSB..HHE | 8640001 | 4032.0\n",
      "00022 | /mnt/seismodata2/MT/_OUTPUT_/test_sac2wav_10.08.2021/continuous08/proc_noinstr_noresamp/EI.DSB..HHN | 8640001 | 3282.0\n",
      "00023 | /mnt/seismodata2/MT/_OUTPUT_/test_sac2wav_10.08.2021/continuous08/proc_noinstr_noresamp/EI.DSB..HHZ | 8640001 | 4920.0\n",
      "00024 | /mnt/seismodata2/MT/_OUTPUT_/test_sac2wav_10.08.2021/continuous09/proc_noinstr_noresamp/EI.DSB..HHE | 8640001 | 4922.0\n",
      "00025 | /mnt/seismodata2/MT/_OUTPUT_/test_sac2wav_10.08.2021/continuous09/proc_noinstr_noresamp/EI.DSB..HHN | 8640001 | 5214.0\n",
      "00026 | /mnt/seismodata2/MT/_OUTPUT_/test_sac2wav_10.08.2021/continuous09/proc_noinstr_noresamp/EI.DSB..HHZ | 8640001 | 6558.0\n",
      "00027 | /mnt/seismodata2/MT/_OUTPUT_/test_sac2wav_10.08.2021/continuous10/proc_noinstr_noresamp/EI.DSB..HHE | 8640001 | 7223.0\n",
      "00028 | /mnt/seismodata2/MT/_OUTPUT_/test_sac2wav_10.08.2021/continuous10/proc_noinstr_noresamp/EI.DSB..HHN | 8640001 | 6280.0\n",
      "00029 | /mnt/seismodata2/MT/_OUTPUT_/test_sac2wav_10.08.2021/continuous10/proc_noinstr_noresamp/EI.DSB..HHZ | 8640001 | 7785.0\n",
      "00030 | /mnt/seismodata2/MT/_OUTPUT_/test_sac2wav_10.08.2021/continuous11/proc_noinstr_noresamp/EI.DSB..HHE | 8640001 | 6833.0\n",
      "00031 | /mnt/seismodata2/MT/_OUTPUT_/test_sac2wav_10.08.2021/continuous11/proc_noinstr_noresamp/EI.DSB..HHN | 8640001 | 6002.0\n",
      "00032 | /mnt/seismodata2/MT/_OUTPUT_/test_sac2wav_10.08.2021/continuous11/proc_noinstr_noresamp/EI.DSB..HHZ | 8640001 | 8072.0\n",
      "00033 | /mnt/seismodata2/MT/_OUTPUT_/test_sac2wav_10.08.2021/continuous12/proc_noinstr_noresamp/EI.DSB..HHE | 8640001 | 4782.0\n",
      "00034 | /mnt/seismodata2/MT/_OUTPUT_/test_sac2wav_10.08.2021/continuous12/proc_noinstr_noresamp/EI.DSB..HHN | 8640001 | 4660.0\n",
      "00035 | /mnt/seismodata2/MT/_OUTPUT_/test_sac2wav_10.08.2021/continuous12/proc_noinstr_noresamp/EI.DSB..HHZ | 8640001 | 5702.0\n",
      "00036 | /mnt/seismodata2/MT/_OUTPUT_/test_sac2wav_10.08.2021/continuous13/proc_noinstr_noresamp/EI.DSB..HHE | 8640001 | 8576.0\n",
      "00037 | /mnt/seismodata2/MT/_OUTPUT_/test_sac2wav_10.08.2021/continuous13/proc_noinstr_noresamp/EI.DSB..HHN | 8640001 | 16327.0\n",
      "00038 | /mnt/seismodata2/MT/_OUTPUT_/test_sac2wav_10.08.2021/continuous13/proc_noinstr_noresamp/EI.DSB..HHZ | 8640001 | 22718.0\n",
      "00039 | /mnt/seismodata2/MT/_OUTPUT_/test_sac2wav_10.08.2021/continuous14/proc_noinstr_noresamp/EI.DSB..HHE | 8640001 | 6296.0\n",
      "00040 | /mnt/seismodata2/MT/_OUTPUT_/test_sac2wav_10.08.2021/continuous14/proc_noinstr_noresamp/EI.DSB..HHN | 8640001 | 5896.0\n",
      "00041 | /mnt/seismodata2/MT/_OUTPUT_/test_sac2wav_10.08.2021/continuous14/proc_noinstr_noresamp/EI.DSB..HHZ | 8640001 | 7628.0\n",
      "00042 | /mnt/seismodata2/MT/_OUTPUT_/test_sac2wav_10.08.2021/continuous15/proc_noinstr_noresamp/EI.DSB..HHE | 8640001 | 6991.0\n",
      "00043 | /mnt/seismodata2/MT/_OUTPUT_/test_sac2wav_10.08.2021/continuous15/proc_noinstr_noresamp/EI.DSB..HHN | 8640001 | 5715.0\n",
      "00044 | /mnt/seismodata2/MT/_OUTPUT_/test_sac2wav_10.08.2021/continuous15/proc_noinstr_noresamp/EI.DSB..HHZ | 8640001 | 7605.0\n",
      "00045 | /mnt/seismodata2/MT/_OUTPUT_/test_sac2wav_10.08.2021/continuous16/proc_noinstr_noresamp/EI.DSB..HHE | 8640001 | 7433.0\n",
      "00046 | /mnt/seismodata2/MT/_OUTPUT_/test_sac2wav_10.08.2021/continuous16/proc_noinstr_noresamp/EI.DSB..HHN | 8640001 | 6544.0\n",
      "00047 | /mnt/seismodata2/MT/_OUTPUT_/test_sac2wav_10.08.2021/continuous16/proc_noinstr_noresamp/EI.DSB..HHZ | 8640001 | 8641.0\n",
      "00048 | /mnt/seismodata2/MT/_OUTPUT_/test_sac2wav_10.08.2021/continuous17/proc_noinstr_noresamp/EI.DSB..HHE | 8640001 | 7038.0\n",
      "00049 | /mnt/seismodata2/MT/_OUTPUT_/test_sac2wav_10.08.2021/continuous17/proc_noinstr_noresamp/EI.DSB..HHN | 8640001 | 6941.0\n",
      "00050 | /mnt/seismodata2/MT/_OUTPUT_/test_sac2wav_10.08.2021/continuous17/proc_noinstr_noresamp/EI.DSB..HHZ | 8640001 | 7382.0\n",
      "00051 | /mnt/seismodata2/MT/_OUTPUT_/test_sac2wav_10.08.2021/continuous18/proc_noinstr_noresamp/EI.DSB..HHE | 8640001 | 4245.0\n",
      "00052 | /mnt/seismodata2/MT/_OUTPUT_/test_sac2wav_10.08.2021/continuous18/proc_noinstr_noresamp/EI.DSB..HHN | 8640001 | 3823.0\n",
      "00053 | /mnt/seismodata2/MT/_OUTPUT_/test_sac2wav_10.08.2021/continuous18/proc_noinstr_noresamp/EI.DSB..HHZ | 8640001 | 4769.0\n",
      "00054 | /mnt/seismodata2/MT/_OUTPUT_/test_sac2wav_10.08.2021/continuous19/proc_noinstr_noresamp/EI.DSB..HHE | 8640001 | 19826.0\n",
      "00055 | /mnt/seismodata2/MT/_OUTPUT_/test_sac2wav_10.08.2021/continuous19/proc_noinstr_noresamp/EI.DSB..HHN | 8640001 | 16182.0\n",
      "00056 | /mnt/seismodata2/MT/_OUTPUT_/test_sac2wav_10.08.2021/continuous19/proc_noinstr_noresamp/EI.DSB..HHZ | 8640001 | 17776.0\n",
      "00057 | /mnt/seismodata2/MT/_OUTPUT_/test_sac2wav_10.08.2021/continuous20/proc_noinstr_noresamp/EI.DSB..HHE | 8640001 | 4425.0\n",
      "00058 | /mnt/seismodata2/MT/_OUTPUT_/test_sac2wav_10.08.2021/continuous20/proc_noinstr_noresamp/EI.DSB..HHN | 8640001 | 4095.0\n",
      "00059 | /mnt/seismodata2/MT/_OUTPUT_/test_sac2wav_10.08.2021/continuous20/proc_noinstr_noresamp/EI.DSB..HHZ | 8640001 | 5136.0\n",
      "00060 | /mnt/seismodata2/MT/_OUTPUT_/test_sac2wav_10.08.2021/continuous21/proc_noinstr_noresamp/EI.DSB..HHE | 8640001 | 6403.0\n",
      "00061 | /mnt/seismodata2/MT/_OUTPUT_/test_sac2wav_10.08.2021/continuous21/proc_noinstr_noresamp/EI.DSB..HHN | 8640001 | 4694.0\n",
      "00062 | /mnt/seismodata2/MT/_OUTPUT_/test_sac2wav_10.08.2021/continuous21/proc_noinstr_noresamp/EI.DSB..HHZ | 8640001 | 6775.0\n",
      "00063 | /mnt/seismodata2/MT/_OUTPUT_/test_sac2wav_10.08.2021/continuous22/proc_noinstr_noresamp/EI.DSB..HHE | 8640001 | 6448.0\n",
      "00064 | /mnt/seismodata2/MT/_OUTPUT_/test_sac2wav_10.08.2021/continuous22/proc_noinstr_noresamp/EI.DSB..HHN | 8640001 | 6475.0\n",
      "00065 | /mnt/seismodata2/MT/_OUTPUT_/test_sac2wav_10.08.2021/continuous22/proc_noinstr_noresamp/EI.DSB..HHZ | 8640001 | 7429.0\n"
     ]
    },
    {
     "name": "stdout",
     "output_type": "stream",
     "text": [
      "00066 | /mnt/seismodata2/MT/_OUTPUT_/test_sac2wav_10.08.2021/continuous23/proc_noinstr_noresamp/EI.DSB..HHE | 8640001 | 5625.0\n",
      "00067 | /mnt/seismodata2/MT/_OUTPUT_/test_sac2wav_10.08.2021/continuous23/proc_noinstr_noresamp/EI.DSB..HHN | 8640001 | 5006.0\n",
      "00068 | /mnt/seismodata2/MT/_OUTPUT_/test_sac2wav_10.08.2021/continuous23/proc_noinstr_noresamp/EI.DSB..HHZ | 8640001 | 6331.0\n",
      "00069 | /mnt/seismodata2/MT/_OUTPUT_/test_sac2wav_10.08.2021/continuous24/proc_noinstr_noresamp/EI.DSB..HHE | 8640001 | 3159.0\n",
      "00070 | /mnt/seismodata2/MT/_OUTPUT_/test_sac2wav_10.08.2021/continuous24/proc_noinstr_noresamp/EI.DSB..HHN | 8640001 | 3190.0\n",
      "00071 | /mnt/seismodata2/MT/_OUTPUT_/test_sac2wav_10.08.2021/continuous24/proc_noinstr_noresamp/EI.DSB..HHZ | 8640001 | 4204.0\n",
      "00072 | /mnt/seismodata2/MT/_OUTPUT_/test_sac2wav_10.08.2021/continuous25/proc_noinstr_noresamp/EI.DSB..HHE | 8640001 | 3326.0\n",
      "00073 | /mnt/seismodata2/MT/_OUTPUT_/test_sac2wav_10.08.2021/continuous25/proc_noinstr_noresamp/EI.DSB..HHN | 8640001 | 3458.0\n",
      "00074 | /mnt/seismodata2/MT/_OUTPUT_/test_sac2wav_10.08.2021/continuous25/proc_noinstr_noresamp/EI.DSB..HHZ | 8640001 | 3612.0\n",
      "00075 | /mnt/seismodata2/MT/_OUTPUT_/test_sac2wav_10.08.2021/continuous26/proc_noinstr_noresamp/EI.DSB..HHE | 8640001 | 3550.0\n",
      "00076 | /mnt/seismodata2/MT/_OUTPUT_/test_sac2wav_10.08.2021/continuous26/proc_noinstr_noresamp/EI.DSB..HHN | 8640001 | 3727.0\n",
      "00077 | /mnt/seismodata2/MT/_OUTPUT_/test_sac2wav_10.08.2021/continuous26/proc_noinstr_noresamp/EI.DSB..HHZ | 8640001 | 3811.0\n",
      "00078 | /mnt/seismodata2/MT/_OUTPUT_/test_sac2wav_10.08.2021/continuous27/proc_noinstr_noresamp/EI.DSB..HHE | 8640001 | 2505.0\n",
      "00079 | /mnt/seismodata2/MT/_OUTPUT_/test_sac2wav_10.08.2021/continuous27/proc_noinstr_noresamp/EI.DSB..HHN | 8640001 | 2621.0\n",
      "00080 | /mnt/seismodata2/MT/_OUTPUT_/test_sac2wav_10.08.2021/continuous27/proc_noinstr_noresamp/EI.DSB..HHZ | 8640001 | 2883.0\n",
      "00081 | /mnt/seismodata2/MT/_OUTPUT_/test_sac2wav_10.08.2021/continuous28/proc_noinstr_noresamp/EI.DSB..HHE | 8640001 | 2802.0\n",
      "00082 | /mnt/seismodata2/MT/_OUTPUT_/test_sac2wav_10.08.2021/continuous28/proc_noinstr_noresamp/EI.DSB..HHN | 8640001 | 2477.0\n",
      "00083 | /mnt/seismodata2/MT/_OUTPUT_/test_sac2wav_10.08.2021/continuous28/proc_noinstr_noresamp/EI.DSB..HHZ | 8640001 | 3185.0\n",
      "00084 | /mnt/seismodata2/MT/_OUTPUT_/test_sac2wav_10.08.2021/continuous29/proc_noinstr_noresamp/EI.DSB..HHE | 8640001 | 4789.0\n",
      "00085 | /mnt/seismodata2/MT/_OUTPUT_/test_sac2wav_10.08.2021/continuous29/proc_noinstr_noresamp/EI.DSB..HHN | 8640001 | 5852.0\n",
      "00086 | /mnt/seismodata2/MT/_OUTPUT_/test_sac2wav_10.08.2021/continuous29/proc_noinstr_noresamp/EI.DSB..HHZ | 8640001 | 7074.0\n",
      "Max amplitude of all channels: 22718.0\n"
     ]
    }
   ],
   "source": [
    "all_paths = glob.glob(os.path.join(save_path, 'continuous*', 'proc_noinstr_noresamp', '*'))\n",
    "all_paths = natsorted(all_paths)\n",
    "\n",
    "collect_max = []\n",
    "\n",
    "for i, path in enumerate(all_paths):\n",
    "    tr = read(path)[0]\n",
    "    maxtr = np.max(abs(tr.data))\n",
    "    print(f'{i:05d} | {path} | {tr.id} | {tr.stats.npts} | {maxtr}')\n",
    "    collect_max.append(maxtr)\n",
    "\n",
    "print(f'Max amplitude of all channels: {max(collect_max)}')"
   ]
  },
  {
   "cell_type": "code",
   "execution_count": 7,
   "metadata": {},
   "outputs": [],
   "source": [
    "# ================\n",
    "# SAC to WAV input \n",
    "# ================\n",
    "\n",
    "# this is the path of the above downloaded data, but you can also put a path to other previously downloaded data\n",
    "dmt_folder = save_path\n",
    "\n",
    "# this is the mode from above or adjust to something else you already downloaded\n",
    "wav_mode = 'continuous'\n",
    "\n",
    "# which folder you want to confert to poly wavs\n",
    "# put one of these four options:\n",
    "# 'processed', 'resamp', 'instr', 'noinstr_noresamp'\n",
    "folder_to_process = 'noinstr_noresamp'\n",
    "\n",
    "# if poly_wav files should be generated. (I left this flag but theoretically if \n",
    "# you do not want poly files you already have the single files from the obspyDMT download.)\n",
    "poly_wav = True\n",
    "\n",
    "# What and how much to process depending on the wav_mode/mode\n",
    "proc_wavs_events = ['20210304_192833.a']  # or ['*_*.*'] \n",
    "proc_wavs_days = [start_time, 3]  # or for days '*'\n",
    "\n",
    "# read: start_date | how many days after startdate | how many waveforms/chunks      \n",
    "proc_wavs_continuous = ['2020-02-11', '*' , 3]  # or for days '*' | start_time can also be in this format 'YYYY-MM-DD'\n",
    "\n",
    "station_selection = '*'  # or \"RR05\" or '*' or ['PL08', 'BIG2']\n",
    "channel_selection = '*' # please just give the first letter of the channel you want, eg. B, H, L ...\n",
    "\n",
    "# WAV settings\n",
    "framerate = 48000\n",
    "bitrate = 'PCM_24'\n",
    "\n",
    "# Normalisation factor\n",
    "norm = 25000 # or '-9' for chunk wise normalisation\n",
    "\n",
    "# generates automatically plots of SAC files in WAV folder\n",
    "plot_waveforms = True\n",
    "\n",
    "# just in case the paths do not exist yet\n",
    "wav_save, save_fig_path = generate_output_folders(wav_mode, dmt_folder)"
   ]
  },
  {
   "cell_type": "code",
   "execution_count": 8,
   "metadata": {
    "scrolled": false
   },
   "outputs": [
    {
     "name": "stdout",
     "output_type": "stream",
     "text": [
      "****************\n",
      "Mode: continuous\n",
      "****************\n",
      "2020-02-11T00:00:00.000000Z < 2020-02-01T00:00:00.000000Z: Continue searching for starttime.\n",
      "2020-02-11T00:00:00.000000Z < 2020-02-02T00:00:00.000000Z: Continue searching for starttime.\n",
      "2020-02-11T00:00:00.000000Z < 2020-02-03T00:00:00.000000Z: Continue searching for starttime.\n",
      "2020-02-11T00:00:00.000000Z < 2020-02-04T00:00:00.000000Z: Continue searching for starttime.\n",
      "2020-02-11T00:00:00.000000Z < 2020-02-05T00:00:00.000000Z: Continue searching for starttime.\n",
      "2020-02-11T00:00:00.000000Z < 2020-02-06T00:00:00.000000Z: Continue searching for starttime.\n",
      "2020-02-11T00:00:00.000000Z < 2020-02-07T00:00:00.000000Z: Continue searching for starttime.\n",
      "2020-02-11T00:00:00.000000Z < 2020-02-08T00:00:00.000000Z: Continue searching for starttime.\n",
      "2020-02-11T00:00:00.000000Z < 2020-02-09T00:00:00.000000Z: Continue searching for starttime.\n",
      "2020-02-11T00:00:00.000000Z < 2020-02-10T00:00:00.000000Z: Continue searching for starttime.\n",
      "Days to process:\n",
      "\t['continuous11', 'continuous12', 'continuous13']\n",
      "Working on station: DSB\n",
      "Location: \n",
      "Channel Group: ['HHE', 'HHN', 'HHZ', 'HDH']\n",
      "\n",
      "\tChannel HHE.\n",
      "\t\tFolder continuous11\n",
      "\t\t\tAdding EI.DSB..HHE.\n",
      "\t\tFolder continuous12\n",
      "\t\t\tAdding EI.DSB..HHE.\n",
      "\t\tFolder continuous13\n",
      "\t\t\tAdding EI.DSB..HHE.\n",
      "\tLength of trace: 25920001\n",
      "\n",
      "\tChannel HHN.\n",
      "\t\tFolder continuous11\n",
      "\t\t\tAdding EI.DSB..HHN.\n",
      "\t\tFolder continuous12\n",
      "\t\t\tAdding EI.DSB..HHN.\n",
      "\t\tFolder continuous13\n",
      "\t\t\tAdding EI.DSB..HHN.\n",
      "\tLength of trace: 25920001\n",
      "\n",
      "\tChannel HHZ.\n",
      "\t\tFolder continuous11\n",
      "\t\t\tAdding EI.DSB..HHZ.\n",
      "\t\tFolder continuous12\n",
      "\t\t\tAdding EI.DSB..HHZ.\n",
      "\t\tFolder continuous13\n",
      "\t\t\tAdding EI.DSB..HHZ.\n",
      "\tLength of trace: 25920001\n",
      "\n",
      "\tChannel HDH.\n",
      "\t\tFolder continuous11\n",
      "\t\t\t--Missing: continuous11/proc_noinstr_noresamp/*DSB**HDH\n",
      "\t\tFolder continuous12\n",
      "\t\t\t--Missing: continuous12/proc_noinstr_noresamp/*DSB**HDH\n",
      "\t\tFolder continuous13\n",
      "\t\t\t--Missing: continuous13/proc_noinstr_noresamp/*DSB**HDH\n",
      "\t\t\tAdding a zero trace for the hydrophone channel...\n",
      "\tNormalizing channelwise after merging continuous waveforms.\n",
      "\tMax values of channels HZEN (might be useful for norm factor): 0 22718.0 8576.0 16327.0\n",
      "\tNorm factor used for all components: 25000\n",
      "Clearing memeroy...\n",
      "Days to process:\n",
      "\t['continuous14', 'continuous15', 'continuous16']\n",
      "Working on station: DSB\n",
      "Location: \n",
      "Channel Group: ['HHE', 'HHN', 'HHZ', 'HDH']\n",
      "\n",
      "\tChannel HHE.\n",
      "\t\tFolder continuous14\n",
      "\t\t\tAdding EI.DSB..HHE.\n",
      "\t\tFolder continuous15\n",
      "\t\t\tAdding EI.DSB..HHE.\n",
      "\t\tFolder continuous16\n",
      "\t\t\tAdding EI.DSB..HHE.\n",
      "\tLength of trace: 25920001\n",
      "\n",
      "\tChannel HHN.\n",
      "\t\tFolder continuous14\n",
      "\t\t\tAdding EI.DSB..HHN.\n",
      "\t\tFolder continuous15\n",
      "\t\t\tAdding EI.DSB..HHN.\n",
      "\t\tFolder continuous16\n",
      "\t\t\tAdding EI.DSB..HHN.\n",
      "\tLength of trace: 25920001\n",
      "\n",
      "\tChannel HHZ.\n",
      "\t\tFolder continuous14\n",
      "\t\t\tAdding EI.DSB..HHZ.\n",
      "\t\tFolder continuous15\n",
      "\t\t\tAdding EI.DSB..HHZ.\n",
      "\t\tFolder continuous16\n",
      "\t\t\tAdding EI.DSB..HHZ.\n",
      "\tLength of trace: 25920001\n",
      "\n",
      "\tChannel HDH.\n",
      "\t\tFolder continuous14\n",
      "\t\t\t--Missing: continuous14/proc_noinstr_noresamp/*DSB**HDH\n",
      "\t\tFolder continuous15\n",
      "\t\t\t--Missing: continuous15/proc_noinstr_noresamp/*DSB**HDH\n",
      "\t\tFolder continuous16\n",
      "\t\t\t--Missing: continuous16/proc_noinstr_noresamp/*DSB**HDH\n",
      "\t\t\tAdding a zero trace for the hydrophone channel...\n",
      "\tNormalizing channelwise after merging continuous waveforms.\n",
      "\tMax values of channels HZEN (might be useful for norm factor): 0 8641.0 7433.0 6544.0\n",
      "\tNorm factor used for all components: 25000\n",
      "Clearing memeroy...\n",
      "Days to process:\n",
      "\t['continuous17', 'continuous18', 'continuous19']\n",
      "Working on station: DSB\n",
      "Location: \n",
      "Channel Group: ['HHE', 'HHN', 'HHZ', 'HDH']\n",
      "\n",
      "\tChannel HHE.\n",
      "\t\tFolder continuous17\n",
      "\t\t\tAdding EI.DSB..HHE.\n",
      "\t\tFolder continuous18\n",
      "\t\t\tAdding EI.DSB..HHE.\n",
      "\t\tFolder continuous19\n",
      "\t\t\tAdding EI.DSB..HHE.\n",
      "\tLength of trace: 25920001\n",
      "\n",
      "\tChannel HHN.\n",
      "\t\tFolder continuous17\n",
      "\t\t\tAdding EI.DSB..HHN.\n",
      "\t\tFolder continuous18\n",
      "\t\t\tAdding EI.DSB..HHN.\n",
      "\t\tFolder continuous19\n",
      "\t\t\tAdding EI.DSB..HHN.\n",
      "\tLength of trace: 25920001\n",
      "\n",
      "\tChannel HHZ.\n",
      "\t\tFolder continuous17\n",
      "\t\t\tAdding EI.DSB..HHZ.\n",
      "\t\tFolder continuous18\n",
      "\t\t\tAdding EI.DSB..HHZ.\n",
      "\t\tFolder continuous19\n",
      "\t\t\tAdding EI.DSB..HHZ.\n",
      "\tLength of trace: 25920001\n",
      "\n",
      "\tChannel HDH.\n",
      "\t\tFolder continuous17\n",
      "\t\t\t--Missing: continuous17/proc_noinstr_noresamp/*DSB**HDH\n",
      "\t\tFolder continuous18\n",
      "\t\t\t--Missing: continuous18/proc_noinstr_noresamp/*DSB**HDH\n",
      "\t\tFolder continuous19\n",
      "\t\t\t--Missing: continuous19/proc_noinstr_noresamp/*DSB**HDH\n",
      "\t\t\tAdding a zero trace for the hydrophone channel...\n",
      "\tNormalizing channelwise after merging continuous waveforms.\n",
      "\tMax values of channels HZEN (might be useful for norm factor): 0 17776.0 19826.0 16182.0\n",
      "\tNorm factor used for all components: 25000\n"
     ]
    },
    {
     "ename": "KeyboardInterrupt",
     "evalue": "",
     "output_type": "error",
     "traceback": [
      "\u001b[0;31m---------------------------------------------------------------------------\u001b[0m",
      "\u001b[0;31mKeyboardInterrupt\u001b[0m                         Traceback (most recent call last)",
      "\u001b[0;32m<ipython-input-8-6b5469a6ecba>\u001b[0m in \u001b[0;36m<module>\u001b[0;34m\u001b[0m\n\u001b[1;32m     13\u001b[0m     \u001b[0;31m# ATTNENTION uses all continuous* folders in save_path\u001b[0m\u001b[0;34m\u001b[0m\u001b[0;34m\u001b[0m\u001b[0;34m\u001b[0m\u001b[0m\n\u001b[1;32m     14\u001b[0m     export_continuous(df_wav, poly_wav, dmt_folder, folder_to_process, proc_wavs_continuous, station_selection,\n\u001b[0;32m---> 15\u001b[0;31m                       channel_selection, framerate, bitrate, norm, wav_save, plot_waveforms)\n\u001b[0m\u001b[1;32m     16\u001b[0m \u001b[0;34m\u001b[0m\u001b[0m\n\u001b[1;32m     17\u001b[0m \u001b[0;32melif\u001b[0m \u001b[0mwav_mode\u001b[0m \u001b[0;34m==\u001b[0m \u001b[0;34m'event'\u001b[0m\u001b[0;34m:\u001b[0m\u001b[0;34m\u001b[0m\u001b[0;34m\u001b[0m\u001b[0m\n",
      "\u001b[0;32m/mnt/home_geo/mariat/Codes/sac2wav/src_sac2wav.py\u001b[0m in \u001b[0;36mexport_continuous\u001b[0;34m(df, poly_wav, dmt_folder, folder_to_process, proc_wavs_continuous, station_selection, channel_selection, framerate, bitrate, norm, wav_save, plot_waveforms)\u001b[0m\n\u001b[1;32m    177\u001b[0m             \u001b[0mprint\u001b[0m\u001b[0;34m(\u001b[0m\u001b[0;34mf'Days to process:\\n\\t{chunk_to_proc}'\u001b[0m\u001b[0;34m)\u001b[0m\u001b[0;34m\u001b[0m\u001b[0;34m\u001b[0m\u001b[0m\n\u001b[1;32m    178\u001b[0m             proc_continuous(df, uniq_sta, station_selection, channel_selection,target_cha, uniq_modes, chunk_to_proc, proc_folder, \n\u001b[0;32m--> 179\u001b[0;31m                             framerate, bitrate, norm, poly_wav, fsr, fold_2_proc, dmt_folder, wav_save, plot_waveforms)\n\u001b[0m\u001b[1;32m    180\u001b[0m \u001b[0;34m\u001b[0m\u001b[0m\n\u001b[1;32m    181\u001b[0m \u001b[0;34m\u001b[0m\u001b[0m\n",
      "\u001b[0;32m/mnt/home_geo/mariat/Codes/sac2wav/src_sac2wav.py\u001b[0m in \u001b[0;36mproc_continuous\u001b[0;34m(df, uniq_sta, station_selection, channel_selection, target_cha, uniq_modes, days_to_proc, proc_folder, framerate, bitrate, norm, poly_wav, fsr, fold_2_proc, dmt_folder, wav_save, plot_waveforms)\u001b[0m\n\u001b[1;32m    385\u001b[0m \u001b[0;34m\u001b[0m\u001b[0m\n\u001b[1;32m    386\u001b[0m                 \u001b[0;32mif\u001b[0m \u001b[0mplot_waveforms\u001b[0m\u001b[0;34m:\u001b[0m\u001b[0;34m\u001b[0m\u001b[0;34m\u001b[0m\u001b[0m\n\u001b[0;32m--> 387\u001b[0;31m                     \u001b[0mplot_waves\u001b[0m\u001b[0;34m(\u001b[0m\u001b[0msta\u001b[0m\u001b[0;34m,\u001b[0m \u001b[0mcollect_tr\u001b[0m\u001b[0;34m,\u001b[0m \u001b[0mcollect_cha\u001b[0m\u001b[0;34m,\u001b[0m \u001b[0mtr\u001b[0m\u001b[0;34m.\u001b[0m\u001b[0mstats\u001b[0m\u001b[0;34m.\u001b[0m\u001b[0msampling_rate\u001b[0m\u001b[0;34m,\u001b[0m \u001b[0mtr\u001b[0m\u001b[0;34m.\u001b[0m\u001b[0mstats\u001b[0m\u001b[0;34m.\u001b[0m\u001b[0mnetwork\u001b[0m\u001b[0;34m,\u001b[0m \u001b[0mtr\u001b[0m\u001b[0;34m.\u001b[0m\u001b[0mstats\u001b[0m\u001b[0;34m.\u001b[0m\u001b[0mlocation\u001b[0m\u001b[0;34m,\u001b[0m \u001b[0;34m'continuous'\u001b[0m\u001b[0;34m,\u001b[0m \u001b[0mproc_folder\u001b[0m\u001b[0;34m,\u001b[0m \u001b[0mwav_save\u001b[0m\u001b[0;34m)\u001b[0m\u001b[0;34m\u001b[0m\u001b[0;34m\u001b[0m\u001b[0m\n\u001b[0m\u001b[1;32m    388\u001b[0m \u001b[0;34m\u001b[0m\u001b[0m\n\u001b[1;32m    389\u001b[0m                 \u001b[0;32mif\u001b[0m \u001b[0mpoly_wav\u001b[0m\u001b[0;34m:\u001b[0m\u001b[0;34m\u001b[0m\u001b[0;34m\u001b[0m\u001b[0m\n",
      "\u001b[0;32m/mnt/home_geo/mariat/Codes/sac2wav/src_sac2wav.py\u001b[0m in \u001b[0;36mplot_waves\u001b[0;34m(sta, collect_tr, collect_cha, sampling_rate, network, location, date_name, proc_folder, wav_save)\u001b[0m\n\u001b[1;32m    873\u001b[0m         \u001b[0maxs\u001b[0m\u001b[0;34m[\u001b[0m\u001b[0mj\u001b[0m\u001b[0;34m]\u001b[0m\u001b[0;34m.\u001b[0m\u001b[0mset_ylabel\u001b[0m\u001b[0;34m(\u001b[0m\u001b[0;34m'normalized'\u001b[0m\u001b[0;34m)\u001b[0m\u001b[0;34m\u001b[0m\u001b[0;34m\u001b[0m\u001b[0m\n\u001b[1;32m    874\u001b[0m \u001b[0;34m\u001b[0m\u001b[0m\n\u001b[0;32m--> 875\u001b[0;31m         \u001b[0maxs\u001b[0m\u001b[0;34m[\u001b[0m\u001b[0mj\u001b[0m\u001b[0;34m+\u001b[0m\u001b[0;36m1\u001b[0m\u001b[0;34m]\u001b[0m\u001b[0;34m.\u001b[0m\u001b[0mmagnitude_spectrum\u001b[0m\u001b[0;34m(\u001b[0m\u001b[0mdata\u001b[0m\u001b[0;34m,\u001b[0m \u001b[0mFs\u001b[0m\u001b[0;34m=\u001b[0m\u001b[0msampling_rate\u001b[0m\u001b[0;34m,\u001b[0m \u001b[0mcolor\u001b[0m\u001b[0;34m=\u001b[0m\u001b[0;34m'C2'\u001b[0m\u001b[0;34m,\u001b[0m \u001b[0malpha\u001b[0m\u001b[0;34m=\u001b[0m\u001b[0;36m0.5\u001b[0m\u001b[0;34m)\u001b[0m\u001b[0;34m\u001b[0m\u001b[0;34m\u001b[0m\u001b[0m\n\u001b[0m\u001b[1;32m    876\u001b[0m         \u001b[0maxs\u001b[0m\u001b[0;34m[\u001b[0m\u001b[0mj\u001b[0m\u001b[0;34m+\u001b[0m\u001b[0;36m1\u001b[0m\u001b[0;34m]\u001b[0m\u001b[0;34m.\u001b[0m\u001b[0mset_title\u001b[0m\u001b[0;34m(\u001b[0m\u001b[0;34mf'Spectrum: {cha}'\u001b[0m\u001b[0;34m,\u001b[0m \u001b[0mweight\u001b[0m\u001b[0;34m=\u001b[0m\u001b[0;34m'bold'\u001b[0m\u001b[0;34m)\u001b[0m\u001b[0;34m\u001b[0m\u001b[0;34m\u001b[0m\u001b[0m\n\u001b[1;32m    877\u001b[0m         \u001b[0maxs\u001b[0m\u001b[0;34m[\u001b[0m\u001b[0mj\u001b[0m\u001b[0;34m+\u001b[0m\u001b[0;36m1\u001b[0m\u001b[0;34m]\u001b[0m\u001b[0;34m.\u001b[0m\u001b[0mset_xscale\u001b[0m\u001b[0;34m(\u001b[0m\u001b[0;34m'log'\u001b[0m\u001b[0;34m)\u001b[0m\u001b[0;34m\u001b[0m\u001b[0;34m\u001b[0m\u001b[0m\n",
      "\u001b[0;32m/mnt/store/mariat/anaconda3/envs/py37/lib/python3.7/site-packages/matplotlib/__init__.py\u001b[0m in \u001b[0;36minner\u001b[0;34m(ax, data, *args, **kwargs)\u001b[0m\n\u001b[1;32m   1359\u001b[0m     \u001b[0;32mdef\u001b[0m \u001b[0minner\u001b[0m\u001b[0;34m(\u001b[0m\u001b[0max\u001b[0m\u001b[0;34m,\u001b[0m \u001b[0;34m*\u001b[0m\u001b[0margs\u001b[0m\u001b[0;34m,\u001b[0m \u001b[0mdata\u001b[0m\u001b[0;34m=\u001b[0m\u001b[0;32mNone\u001b[0m\u001b[0;34m,\u001b[0m \u001b[0;34m**\u001b[0m\u001b[0mkwargs\u001b[0m\u001b[0;34m)\u001b[0m\u001b[0;34m:\u001b[0m\u001b[0;34m\u001b[0m\u001b[0;34m\u001b[0m\u001b[0m\n\u001b[1;32m   1360\u001b[0m         \u001b[0;32mif\u001b[0m \u001b[0mdata\u001b[0m \u001b[0;32mis\u001b[0m \u001b[0;32mNone\u001b[0m\u001b[0;34m:\u001b[0m\u001b[0;34m\u001b[0m\u001b[0;34m\u001b[0m\u001b[0m\n\u001b[0;32m-> 1361\u001b[0;31m             \u001b[0;32mreturn\u001b[0m \u001b[0mfunc\u001b[0m\u001b[0;34m(\u001b[0m\u001b[0max\u001b[0m\u001b[0;34m,\u001b[0m \u001b[0;34m*\u001b[0m\u001b[0mmap\u001b[0m\u001b[0;34m(\u001b[0m\u001b[0msanitize_sequence\u001b[0m\u001b[0;34m,\u001b[0m \u001b[0margs\u001b[0m\u001b[0;34m)\u001b[0m\u001b[0;34m,\u001b[0m \u001b[0;34m**\u001b[0m\u001b[0mkwargs\u001b[0m\u001b[0;34m)\u001b[0m\u001b[0;34m\u001b[0m\u001b[0;34m\u001b[0m\u001b[0m\n\u001b[0m\u001b[1;32m   1362\u001b[0m \u001b[0;34m\u001b[0m\u001b[0m\n\u001b[1;32m   1363\u001b[0m         \u001b[0mbound\u001b[0m \u001b[0;34m=\u001b[0m \u001b[0mnew_sig\u001b[0m\u001b[0;34m.\u001b[0m\u001b[0mbind\u001b[0m\u001b[0;34m(\u001b[0m\u001b[0max\u001b[0m\u001b[0;34m,\u001b[0m \u001b[0;34m*\u001b[0m\u001b[0margs\u001b[0m\u001b[0;34m,\u001b[0m \u001b[0;34m**\u001b[0m\u001b[0mkwargs\u001b[0m\u001b[0;34m)\u001b[0m\u001b[0;34m\u001b[0m\u001b[0;34m\u001b[0m\u001b[0m\n",
      "\u001b[0;32m/mnt/store/mariat/anaconda3/envs/py37/lib/python3.7/site-packages/matplotlib/axes/_axes.py\u001b[0m in \u001b[0;36mmagnitude_spectrum\u001b[0;34m(self, x, Fs, Fc, window, pad_to, sides, scale, **kwargs)\u001b[0m\n\u001b[1;32m   7394\u001b[0m             \u001b[0mZ\u001b[0m \u001b[0;34m=\u001b[0m \u001b[0;36m20.\u001b[0m \u001b[0;34m*\u001b[0m \u001b[0mnp\u001b[0m\u001b[0;34m.\u001b[0m\u001b[0mlog10\u001b[0m\u001b[0;34m(\u001b[0m\u001b[0mspec\u001b[0m\u001b[0;34m)\u001b[0m\u001b[0;34m\u001b[0m\u001b[0;34m\u001b[0m\u001b[0m\n\u001b[1;32m   7395\u001b[0m \u001b[0;34m\u001b[0m\u001b[0m\n\u001b[0;32m-> 7396\u001b[0;31m         \u001b[0mline\u001b[0m\u001b[0;34m,\u001b[0m \u001b[0;34m=\u001b[0m \u001b[0mself\u001b[0m\u001b[0;34m.\u001b[0m\u001b[0mplot\u001b[0m\u001b[0;34m(\u001b[0m\u001b[0mfreqs\u001b[0m\u001b[0;34m,\u001b[0m \u001b[0mZ\u001b[0m\u001b[0;34m,\u001b[0m \u001b[0;34m**\u001b[0m\u001b[0mkwargs\u001b[0m\u001b[0;34m)\u001b[0m\u001b[0;34m\u001b[0m\u001b[0;34m\u001b[0m\u001b[0m\n\u001b[0m\u001b[1;32m   7397\u001b[0m         \u001b[0mself\u001b[0m\u001b[0;34m.\u001b[0m\u001b[0mset_xlabel\u001b[0m\u001b[0;34m(\u001b[0m\u001b[0;34m'Frequency'\u001b[0m\u001b[0;34m)\u001b[0m\u001b[0;34m\u001b[0m\u001b[0;34m\u001b[0m\u001b[0m\n\u001b[1;32m   7398\u001b[0m         \u001b[0mself\u001b[0m\u001b[0;34m.\u001b[0m\u001b[0mset_ylabel\u001b[0m\u001b[0;34m(\u001b[0m\u001b[0;34m'Magnitude (%s)'\u001b[0m \u001b[0;34m%\u001b[0m \u001b[0myunits\u001b[0m\u001b[0;34m)\u001b[0m\u001b[0;34m\u001b[0m\u001b[0;34m\u001b[0m\u001b[0m\n",
      "\u001b[0;32m/mnt/store/mariat/anaconda3/envs/py37/lib/python3.7/site-packages/matplotlib/axes/_axes.py\u001b[0m in \u001b[0;36mplot\u001b[0;34m(self, scalex, scaley, data, *args, **kwargs)\u001b[0m\n\u001b[1;32m   1605\u001b[0m         \u001b[0mlines\u001b[0m \u001b[0;34m=\u001b[0m \u001b[0;34m[\u001b[0m\u001b[0;34m*\u001b[0m\u001b[0mself\u001b[0m\u001b[0;34m.\u001b[0m\u001b[0m_get_lines\u001b[0m\u001b[0;34m(\u001b[0m\u001b[0;34m*\u001b[0m\u001b[0margs\u001b[0m\u001b[0;34m,\u001b[0m \u001b[0mdata\u001b[0m\u001b[0;34m=\u001b[0m\u001b[0mdata\u001b[0m\u001b[0;34m,\u001b[0m \u001b[0;34m**\u001b[0m\u001b[0mkwargs\u001b[0m\u001b[0;34m)\u001b[0m\u001b[0;34m]\u001b[0m\u001b[0;34m\u001b[0m\u001b[0;34m\u001b[0m\u001b[0m\n\u001b[1;32m   1606\u001b[0m         \u001b[0;32mfor\u001b[0m \u001b[0mline\u001b[0m \u001b[0;32min\u001b[0m \u001b[0mlines\u001b[0m\u001b[0;34m:\u001b[0m\u001b[0;34m\u001b[0m\u001b[0;34m\u001b[0m\u001b[0m\n\u001b[0;32m-> 1607\u001b[0;31m             \u001b[0mself\u001b[0m\u001b[0;34m.\u001b[0m\u001b[0madd_line\u001b[0m\u001b[0;34m(\u001b[0m\u001b[0mline\u001b[0m\u001b[0;34m)\u001b[0m\u001b[0;34m\u001b[0m\u001b[0;34m\u001b[0m\u001b[0m\n\u001b[0m\u001b[1;32m   1608\u001b[0m         \u001b[0mself\u001b[0m\u001b[0;34m.\u001b[0m\u001b[0m_request_autoscale_view\u001b[0m\u001b[0;34m(\u001b[0m\u001b[0mscalex\u001b[0m\u001b[0;34m=\u001b[0m\u001b[0mscalex\u001b[0m\u001b[0;34m,\u001b[0m \u001b[0mscaley\u001b[0m\u001b[0;34m=\u001b[0m\u001b[0mscaley\u001b[0m\u001b[0;34m)\u001b[0m\u001b[0;34m\u001b[0m\u001b[0;34m\u001b[0m\u001b[0m\n\u001b[1;32m   1609\u001b[0m         \u001b[0;32mreturn\u001b[0m \u001b[0mlines\u001b[0m\u001b[0;34m\u001b[0m\u001b[0;34m\u001b[0m\u001b[0m\n",
      "\u001b[0;32m/mnt/store/mariat/anaconda3/envs/py37/lib/python3.7/site-packages/matplotlib/axes/_base.py\u001b[0m in \u001b[0;36madd_line\u001b[0;34m(self, line)\u001b[0m\n\u001b[1;32m   2099\u001b[0m             \u001b[0mline\u001b[0m\u001b[0;34m.\u001b[0m\u001b[0mset_clip_path\u001b[0m\u001b[0;34m(\u001b[0m\u001b[0mself\u001b[0m\u001b[0;34m.\u001b[0m\u001b[0mpatch\u001b[0m\u001b[0;34m)\u001b[0m\u001b[0;34m\u001b[0m\u001b[0;34m\u001b[0m\u001b[0m\n\u001b[1;32m   2100\u001b[0m \u001b[0;34m\u001b[0m\u001b[0m\n\u001b[0;32m-> 2101\u001b[0;31m         \u001b[0mself\u001b[0m\u001b[0;34m.\u001b[0m\u001b[0m_update_line_limits\u001b[0m\u001b[0;34m(\u001b[0m\u001b[0mline\u001b[0m\u001b[0;34m)\u001b[0m\u001b[0;34m\u001b[0m\u001b[0;34m\u001b[0m\u001b[0m\n\u001b[0m\u001b[1;32m   2102\u001b[0m         \u001b[0;32mif\u001b[0m \u001b[0;32mnot\u001b[0m \u001b[0mline\u001b[0m\u001b[0;34m.\u001b[0m\u001b[0mget_label\u001b[0m\u001b[0;34m(\u001b[0m\u001b[0;34m)\u001b[0m\u001b[0;34m:\u001b[0m\u001b[0;34m\u001b[0m\u001b[0;34m\u001b[0m\u001b[0m\n\u001b[1;32m   2103\u001b[0m             \u001b[0mline\u001b[0m\u001b[0;34m.\u001b[0m\u001b[0mset_label\u001b[0m\u001b[0;34m(\u001b[0m\u001b[0;34m'_line%d'\u001b[0m \u001b[0;34m%\u001b[0m \u001b[0mlen\u001b[0m\u001b[0;34m(\u001b[0m\u001b[0mself\u001b[0m\u001b[0;34m.\u001b[0m\u001b[0mlines\u001b[0m\u001b[0;34m)\u001b[0m\u001b[0;34m)\u001b[0m\u001b[0;34m\u001b[0m\u001b[0;34m\u001b[0m\u001b[0m\n",
      "\u001b[0;32m/mnt/store/mariat/anaconda3/envs/py37/lib/python3.7/site-packages/matplotlib/axes/_base.py\u001b[0m in \u001b[0;36m_update_line_limits\u001b[0;34m(self, line)\u001b[0m\n\u001b[1;32m   2158\u001b[0m                                           \u001b[0mself\u001b[0m\u001b[0;34m.\u001b[0m\u001b[0mignore_existing_data_limits\u001b[0m\u001b[0;34m,\u001b[0m\u001b[0;34m\u001b[0m\u001b[0;34m\u001b[0m\u001b[0m\n\u001b[1;32m   2159\u001b[0m                                           \u001b[0mupdatex\u001b[0m\u001b[0;34m=\u001b[0m\u001b[0mupdatex\u001b[0m\u001b[0;34m,\u001b[0m\u001b[0;34m\u001b[0m\u001b[0;34m\u001b[0m\u001b[0m\n\u001b[0;32m-> 2160\u001b[0;31m                                           updatey=updatey)\n\u001b[0m\u001b[1;32m   2161\u001b[0m             \u001b[0mself\u001b[0m\u001b[0;34m.\u001b[0m\u001b[0mignore_existing_data_limits\u001b[0m \u001b[0;34m=\u001b[0m \u001b[0;32mFalse\u001b[0m\u001b[0;34m\u001b[0m\u001b[0;34m\u001b[0m\u001b[0m\n\u001b[1;32m   2162\u001b[0m \u001b[0;34m\u001b[0m\u001b[0m\n",
      "\u001b[0;32m/mnt/store/mariat/anaconda3/envs/py37/lib/python3.7/site-packages/matplotlib/transforms.py\u001b[0m in \u001b[0;36mupdate_from_path\u001b[0;34m(self, path, ignore, updatex, updatey)\u001b[0m\n\u001b[1;32m    899\u001b[0m \u001b[0;34m\u001b[0m\u001b[0m\n\u001b[1;32m    900\u001b[0m         points, minpos, changed = update_path_extents(\n\u001b[0;32m--> 901\u001b[0;31m             path, None, self._points, self._minpos, ignore)\n\u001b[0m\u001b[1;32m    902\u001b[0m \u001b[0;34m\u001b[0m\u001b[0m\n\u001b[1;32m    903\u001b[0m         \u001b[0;32mif\u001b[0m \u001b[0mchanged\u001b[0m\u001b[0;34m:\u001b[0m\u001b[0;34m\u001b[0m\u001b[0;34m\u001b[0m\u001b[0m\n",
      "\u001b[0;31mKeyboardInterrupt\u001b[0m: "
     ]
    }
   ],
   "source": [
    "# %%capture\n",
    "stars = '*'*len('Mode: ' + wav_mode)\n",
    "print(f'{stars}')\n",
    "print(f'Mode: {wav_mode}')\n",
    "print(f'{stars}')\n",
    "\n",
    "# creating a new panada dataframe based on above input \n",
    "df_wav = read_station_information(dmt_folder, '*')\n",
    "# you can change the '*' to a specific event, but this wildcard will give you everything \n",
    "\n",
    "if wav_mode == 'continuous':\n",
    "    # does generate continuous wav files;\n",
    "    # ATTNENTION uses all continuous* folders in save_path\n",
    "    export_continuous(df_wav, poly_wav, dmt_folder, folder_to_process, proc_wavs_continuous, station_selection,\n",
    "                      channel_selection, framerate, bitrate, norm, wav_save, plot_waveforms)\n",
    "\n",
    "elif wav_mode == 'event':\n",
    "    # genereates wav files containing specific events\n",
    "    export_event(df_wav, poly_wav, dmt_folder, folder_to_process, proc_wavs_events, station_selection,\n",
    "                 channel_selection, framerate, bitrate, wav_save, plot_waveforms)\n",
    "\n",
    "elif wav_mode == 'day':\n",
    "    # genereates wav files containing specific days\n",
    "    export_day(df_wav, poly_wav, dmt_folder, folder_to_process, proc_wavs_days, station_selection,\n",
    "               channel_selection, framerate, bitrate, wav_save, plot_waveforms)\n",
    "else: \n",
    "    sys.exit(f'Mode: {mode} does not exist or is not implemented. Forced exit!')"
   ]
  },
  {
   "cell_type": "markdown",
   "metadata": {},
   "source": [
    "## Plot a particular station that was already downloaded"
   ]
  },
  {
   "cell_type": "code",
   "execution_count": null,
   "metadata": {},
   "outputs": [],
   "source": [
    "# ==================\n",
    "# Post-proc and plot\n",
    "# ==================\n",
    "save_figs = True\n",
    "\n",
    "plot_instrument_response = True  # if save_figs = True -> automatically saves in plot folder, otherwise will not be saved\n",
    "\n",
    "filtering = True\n",
    "filter_type = 'bandpass'  # or 'lowpass', 'highpass'\n",
    "freqmin =  1/50 # Hz\n",
    "freqmax = 1     # Hz"
   ]
  },
  {
   "cell_type": "markdown",
   "metadata": {},
   "source": [
    "Attention: The next dataframe (df_all) gives out all download and not necessary what you converted from SAC to WAV (df_wav). "
   ]
  },
  {
   "cell_type": "code",
   "execution_count": null,
   "metadata": {},
   "outputs": [],
   "source": [
    "uniq_sta = df_all['station'].unique()\n",
    "uniq_cha = df_all['channel'].unique()\n",
    "uniq_modes = df_all['mode'].unique()\n",
    "print(f'Available stations:\\n{uniq_sta}')\n",
    "print(f'Available channels:\\n{uniq_cha}')\n",
    "print(f'Available modes/events:\\n{uniq_modes}')"
   ]
  },
  {
   "cell_type": "code",
   "execution_count": null,
   "metadata": {},
   "outputs": [],
   "source": [
    "# you could also define another folder/event that was previously downloaded, default here is save_path\n",
    "path_to_folder = save_path\n",
    "\n",
    "# specify event\n",
    "event = '20210304_192833.a'  # '20210304_192833.a' or \"continuous01\" \n",
    "\n",
    "# specify folder\n",
    "folder = 'proc_instr'  # 'processed' or \"raw\"\n",
    "\n",
    "# station\n",
    "sta = 'DSB'\n",
    "\n",
    "cha = 'B*'"
   ]
  },
  {
   "cell_type": "markdown",
   "metadata": {},
   "source": [
    "### Seismograms and Spectrum"
   ]
  },
  {
   "cell_type": "markdown",
   "metadata": {},
   "source": [
    "Here you plot all available channels of this one stations. Grouped stations and channels are automatically saved when converting from SAC to WAV."
   ]
  },
  {
   "cell_type": "code",
   "execution_count": null,
   "metadata": {
    "scrolled": false
   },
   "outputs": [],
   "source": [
    "chans = glob.glob(os.path.join(path_to_folder, event, folder, f'*{sta}*{cha}*'))\n",
    "chans.sort()\n",
    "\n",
    "fig, axs = plt.subplots(len(chans),2, figsize=(10, 3*len(chans)), facecolor='w', edgecolor='k')\n",
    "axs = axs.ravel()\n",
    "fig.subplots_adjust(hspace = 1, wspace=0.5)\n",
    "\n",
    "j = 0\n",
    "for i, trace in enumerate(chans):\n",
    "\n",
    "    tr = read(trace)[0]\n",
    "    if filtering:\n",
    "        tr.filter(filter_type, freqmin=freqmin, freqmax=freqmax)\n",
    "        # tr.filter('highpass',  freqmin=1/50, freqmax=50)\n",
    "    try:\n",
    "        data = tr.data / abs(tr.data).max()\n",
    "        axs[j].plot(tr.times(), data)\n",
    "        axs[j].set_title(tr.stats.channel, weight='bold')\n",
    "        axs[j].set_xlabel('samples')\n",
    "        axs[j].set_ylabel('normalized')\n",
    "\n",
    "        axs[j+1].magnitude_spectrum(data, Fs=tr.stats.sampling_rate, color='C2', alpha=0.5)\n",
    "        axs[j+1].set_title(f'Spectrum: {tr.stats.channel}', weight='bold')\n",
    "        axs[j+1].set_xscale('log')\n",
    "        axs[j+1].set_xlim(0.001, 30)\n",
    "\n",
    "        j += 2\n",
    "    except Exception as exp:\n",
    "        axs[j].set_title(tr.stats.channel, weight='bold')\n",
    "        axs[j].set_xlabel('samples')\n",
    "        axs[j].set_ylabel('normalized')\n",
    "        axs[j+1].set_title(f'Spectrum: {tr.stats.channel}', weight='bold')\n",
    "        axs[j+1].set_xscale('log')\n",
    "        axs[j+1].set_xlim(0.001, 30)\n",
    "        j += 2\n",
    "        continue\n",
    "\n",
    "if save_figs:\n",
    "    plt.savefig(os.path.join(save_fig_path, f'{sta}_{event}_{folder}_all_channels.png'), dpi=300)\n",
    "plt.show()"
   ]
  },
  {
   "cell_type": "markdown",
   "metadata": {},
   "source": [
    "A spectrogram my take some time depending on the length of the trace and other settings. Hence for now it is done separately."
   ]
  },
  {
   "cell_type": "markdown",
   "metadata": {},
   "source": [
    "### Spectrogram"
   ]
  },
  {
   "cell_type": "markdown",
   "metadata": {},
   "source": [
    "Change following settings\n",
    "\n",
    "- fmin    \n",
    "  minimal frequency to be analyzed\n",
    "- fmax    \n",
    "  maximal frequency to be analyzed\n",
    "- nf      \n",
    "  number of frequencies (will be chosen with logarithmic spacing)\n",
    "- w0    \n",
    "  parameter for the wavelet, tradeoff between time and frequency resolution\n",
    "- fft_zero_pad_fac      \n",
    "  integer, if > 0, the signal is zero padded to nfft = next_pow_2(len(st)) * fft_zero_pad_fac to get smoother spectrum in the low frequencies\n",
    "- clim\n",
    "  limits of the colorbars\n",
    "- cmap\n",
    "  colormap for TFEM/TFPM, either a string or matplotlib.cm.Colormap instance\n",
    "  Check here:\n",
    "  https://matplotlib.org/stable/tutorials/colors/colormaps.html"
   ]
  },
  {
   "cell_type": "code",
   "execution_count": null,
   "metadata": {
    "scrolled": false
   },
   "outputs": [],
   "source": [
    "# %%capture\n",
    "# dt time step between two samples in st (automatically set)\n",
    "fmin = 0.01\n",
    "fmax = 1.\n",
    "w0=4.\n",
    "nf=64\n",
    "fft_zero_pad_fac=4\n",
    "cmap = 'inferno'\n",
    "\n",
    "chans = glob.glob(os.path.join(path_to_folder, event, folder, f'*{sta}*{cha}*'))\n",
    "chans.sort()\n",
    "for trace in chans:\n",
    "    print(f'Plotting {trace}')\n",
    "    tr = read(trace)[0]\n",
    "    plot_tfr(tr.data, \n",
    "             dt=tr.stats.delta, \n",
    "             fmin=fmin, \n",
    "             fmax=fmax, \n",
    "             w0=w0, \n",
    "             nf=nf, \n",
    "             clim= np.mean(tr.data) + 4 * np.std(tr.data),\n",
    "             cmap=cmap,\n",
    "             fft_zero_pad_fac=fft_zero_pad_fac)\n",
    "    if save_figs:\n",
    "        plt.savefig(os.path.join(save_fig_path, f'{sta}_{tr.stats.channel}_spec_{event}_{folder}.png'), dpi=300)"
   ]
  },
  {
   "cell_type": "markdown",
   "metadata": {},
   "source": [
    "### Instrument response"
   ]
  },
  {
   "cell_type": "code",
   "execution_count": null,
   "metadata": {
    "scrolled": false
   },
   "outputs": [],
   "source": [
    "from obspy import read, read_inventory\n",
    "\n",
    "chans = glob.glob(os.path.join(path_to_folder, event, folder, f'*{sta}*{cha}*'))\n",
    "chans.sort()\n",
    "inresp = glob.glob(os.path.join(path_to_folder, event, 'resp', f'*{sta}*{cha}*'))\n",
    "inresp.sort()\n",
    "\n",
    "pre_filt = [0.001, 0.005, 45, 50]\n",
    "            \n",
    "for i, trace in enumerate(chans):\n",
    "    st = read(trace)\n",
    "    tr = st[0]\n",
    "    inv = read_inventory(inresp[i])\n",
    "    \n",
    "    if save_figs:\n",
    "        out_save = os.path.join(save_fig_path, f'{sta}_{tr.stats.channel}_instrument_response_{event}_{folder}.png')\n",
    "        tr.remove_response(inventory=inv, pre_filt = pre_filt, output=\"DISP\", plot=out_save)\n",
    "    else:\n",
    "        tr.remove_response(inventory=inv, pre_filt= pre_filt,output=\"DISP\", plot=True)      "
   ]
  },
  {
   "cell_type": "code",
   "execution_count": null,
   "metadata": {},
   "outputs": [],
   "source": []
  }
 ],
 "metadata": {
  "kernelspec": {
   "display_name": "Python 3",
   "language": "python",
   "name": "python3"
  },
  "language_info": {
   "codemirror_mode": {
    "name": "ipython",
    "version": 3
   },
   "file_extension": ".py",
   "mimetype": "text/x-python",
   "name": "python",
   "nbconvert_exporter": "python",
   "pygments_lexer": "ipython3",
   "version": "3.7.11"
  }
 },
 "nbformat": 4,
 "nbformat_minor": 4
}

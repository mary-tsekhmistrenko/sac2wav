{
 "cells": [
  {
   "cell_type": "markdown",
   "metadata": {},
   "source": [
    "# A simple notebook to turn SAC to WAV files "
   ]
  },
  {
   "cell_type": "markdown",
   "metadata": {},
   "source": [
    "## How to set up directories, codes and files"
   ]
  },
  {
   "cell_type": "markdown",
   "metadata": {},
   "source": [
    "Download obspyDMT into a local floder:\n",
    "    \n",
    "        git clone https://github.com/kasra-hosseini/obspyDMT.git /path/to/my/obspyDMT\n",
    "\n",
    "obspyDMT can be installed by:\n",
    "\n",
    "        cd /path/to/my/obspyDMT\n",
    "        pip install -e .\n",
    "\n",
    "Please **do not use** >>pip install obspyDMT<<. "
   ]
  },
  {
   "cell_type": "markdown",
   "metadata": {},
   "source": [
    "Copy **process_unit_wav.py** which you can find in this project folder into:\n",
    "    \n",
    "    /path/to/my/obspyDMT/obspyDMT\n",
    "\n",
    "You will find there also some other files named **process_unitXXX.py** in this path."
   ]
  },
  {
   "cell_type": "markdown",
   "metadata": {},
   "source": [
    "## What else you will need to run this notebook"
   ]
  },
  {
   "cell_type": "markdown",
   "metadata": {},
   "source": [
    "The usual suspects:\n",
    "\n",
    "    Anaconda\n",
    "    obspy\n",
    "    numpy, scipy, ...\n",
    "    cartopy \n",
    "\n",
    "The extras:\n",
    "    \n",
    "    SoundFile\n",
    "    natsorted\n",
    "    "
   ]
  },
  {
   "cell_type": "markdown",
   "metadata": {},
   "source": [
    "## Useful links\n",
    "    \n",
    "   **Websites for finding earthquakes, networks and stations:**\n",
    "    - http://www.fdsn.org/networks/\n",
    "    - http://ds.iris.edu/wilber3/find_event\n",
    "    \n",
    "   **Understanding network codes:**\n",
    "    - https://ds.iris.edu/ds/nodes/dmc/tools/data_channels/#???\n",
    "    - https://ds.iris.edu/ds/nodes/dmc/data/formats/seed-channel-naming/\n",
    "    \n",
    "   **How to quickly download earthquakes:**\n",
    "    - https://github.com/kasra-hosseini/obspyDMT\n",
    "    \n",
    "   **Learn more about python, jupyter notebooks and obspy:**\n",
    "    - http://seismo-live.org/\n",
    "    \n",
    "   **How to install Anaconda:**\n",
    "    - https://docs.anaconda.com/anaconda/install/mac-os/\n",
    "    \n",
    "   **What we are using to export the waveforms to WAV files:**\n",
    "    - https://pysoundfile.readthedocs.io/en/latest/"
   ]
  },
  {
   "cell_type": "markdown",
   "metadata": {},
   "source": [
    "ATTENTION 1: \n",
    "It you have a \"%%capture\" at the top of the cell no output will be shown. If you are suspicious that something is going terribly wrong you can comment out this line and see the whole output again.\n",
    "\n",
    "ATTENTION 2:\n",
    "Basemap is deprecated in favor of the Cartopy project. "
   ]
  },
  {
   "cell_type": "markdown",
   "metadata": {},
   "source": [
    "## Import \n",
    "\n",
    "You usually do not change this part."
   ]
  },
  {
   "cell_type": "code",
   "execution_count": 1,
   "metadata": {},
   "outputs": [],
   "source": [
    "# solve issue with autocomplete\n",
    "%config Completer.use_jedi = False\n",
    "%load_ext autoreload\n",
    "%autoreload 2\n",
    "%matplotlib notebook"
   ]
  },
  {
   "cell_type": "code",
   "execution_count": 2,
   "metadata": {},
   "outputs": [],
   "source": [
    "import os\n",
    "import sys\n",
    "import time\n",
    "import glob\n",
    "from IPython import display\n",
    "\n",
    "from soundfile import SoundFile\n",
    "from natsort import natsorted\n",
    "\n",
    "import matplotlib.pyplot as plt\n",
    "from matplotlib import cm\n",
    "import cartopy.crs as ccrs\n",
    "\n",
    "import numpy as np\n",
    "import pandas as pd\n",
    "from obspy import read, Trace\n",
    "from obspy.signal.tf_misfit import plot_tfr\n",
    "\n",
    "# the file src_sac2wav contains written functions for exporting sac to wav files\n",
    "from src_sac2wav import *"
   ]
  },
  {
   "cell_type": "markdown",
   "metadata": {},
   "source": [
    "## Download the data"
   ]
  },
  {
   "cell_type": "markdown",
   "metadata": {},
   "source": [
    "<img src=\"DMT_logo.png\" width=\"200\" align=\"center\">"
   ]
  },
  {
   "cell_type": "markdown",
   "metadata": {},
   "source": [
    "### Input for Download"
   ]
  },
  {
   "cell_type": "code",
   "execution_count": 19,
   "metadata": {},
   "outputs": [],
   "source": [
    "# ==============\n",
    "# DOWNLOAD input \n",
    "# ==============\n",
    "\n",
    "save_path = '/mnt/seismodata2/MT/_OUTPUT_/test_obspyDMT_jupyter_v04'\n",
    "\n",
    "# Choose between \"event\" and \"continuous\" or \"day\" mode.\n",
    "# When you are choosing \"continuous\" or \"day\" mode, day files will be downloaded regardless of the mode. \n",
    "# In continuous mode the day files are later merged to one long trace and exported as WAV. \n",
    "mode = 'continuous'\n",
    "\n",
    "# Does not download anything but just gives you a table of available events in the timespan you define in start_time/end_time\n",
    "event_info = False\n",
    "\n",
    "start_time = '2020-02-01'\n",
    "end_time = '2020-05-01'\n",
    "\n",
    "# preset and offset make only sense in event mode, will not be used with continuous or day mode!\n",
    "preset = 300  # in [SEC] default: 0; put None if you want to use default values\n",
    "offset = 7200  # default: 1800 for event-based mode and 0 for continuous mode\n",
    "\n",
    "min_mag = '8.0'\n",
    "max_mag = '10'\n",
    "\n",
    "samplingrate = None  # or None \n",
    "waveform_format = 'sac'  # or mseed \n",
    "\n",
    "event_catalog = 'NEIC_USGS'\n",
    "data_source = 'all'  # all or RESIF\n",
    "\n",
    "network = 'EI'\n",
    "station = '*'\n",
    "channel = '*'\n",
    "\n",
    "# ATTENTION!! If this is set to TRUE and the datapath is found, delete it before running obspyDMT\n",
    "reset = False\n",
    "\n",
    "# parallel request is on default with 4 cores \n",
    "parallel_request = True\n",
    "\n",
    "# parallel processing is on default with 4 cores\n",
    "parallel_process = True\n",
    "\n",
    "# instrument response, yes/no\n",
    "instrument_correction = True\n",
    "\n",
    "# process_unit that you want to use:\n",
    "process_unit = 'process_unit_wav'"
   ]
  },
  {
   "cell_type": "code",
   "execution_count": 20,
   "metadata": {},
   "outputs": [],
   "source": [
    "# output paths will be generated:\n",
    "wav_save, save_fig_path = generate_output_folders(mode, save_path)"
   ]
  },
  {
   "cell_type": "markdown",
   "metadata": {},
   "source": [
    "Generate the obspyDMT command first:"
   ]
  },
  {
   "cell_type": "code",
   "execution_count": 21,
   "metadata": {},
   "outputs": [
    {
     "name": "stdout",
     "output_type": "stream",
     "text": [
      "Executing following command in the next cell:\n",
      "\n",
      "obspyDMT --datapath /mnt/seismodata2/MT/_OUTPUT_/test_obspyDMT_jupyter_v04 --min_date 2020-02-01 --max_date 2020-05-01 --waveform_format sac --data_source all --pre_process process_unit_wav --continuous  --net EI --preset 300 --offset 7200 --instrument_correction --req_parallel --req_np 4 --parallel_process --process_np 4\n"
     ]
    }
   ],
   "source": [
    "##### here the input from above is put together for obspyDMT \n",
    "execute_DMT = f'obspyDMT --datapath {save_path} --min_date {start_time} --max_date {end_time}'\\\n",
    "              f' --waveform_format {waveform_format} --data_source {data_source}'\\\n",
    "              f' --pre_process {process_unit}'\n",
    "\n",
    "if mode == 'event':\n",
    "    execute_DMT = execute_DMT + f' --min_mag {min_mag} --max_mag {max_mag}'\\\n",
    "                                f' --event_catalog {event_catalog}'\n",
    "\n",
    "elif mode == 'continuous' or mode == 'day':\n",
    "    execute_DMT = execute_DMT + f' --continuous '\n",
    "\n",
    "else:\n",
    "    sys.exit(f'Mode: {mode} not implemented. Forced exit!')\n",
    "\n",
    "# if samplingrate is not None then add the sampling rate modifier otherwise it \n",
    "# should not change the sampling rate of the waveforms\n",
    "\n",
    "\n",
    "if station == '*':\n",
    "    # This means all channels are considered but some datacentres don't like the wildcard\n",
    "    pass\n",
    "elif station != '*':\n",
    "    execute_DMT = execute_DMT + f' --sta {station}'\n",
    "\n",
    "if channel == '*':\n",
    "    pass\n",
    "elif channel != '*':   \n",
    "    execute_DMT = execute_DMT + f' --cha {channel}'\n",
    "\n",
    "if network == '*':\n",
    "    pass\n",
    "elif network != '*':\n",
    "    execute_DMT = execute_DMT + f' --net {network}'\n",
    "\n",
    "if preset:\n",
    "    execute_DMT = execute_DMT + f' --preset {preset}'\n",
    "\n",
    "if offset:\n",
    "    execute_DMT = execute_DMT + f' --offset {offset}'\n",
    "\n",
    "if samplingrate: \n",
    "    execute_DMT = execute_DMT + f' --sampling_rate {samplingrate}'\n",
    "\n",
    "if instrument_correction:\n",
    "    execute_DMT = execute_DMT + f' --instrument_correction'\n",
    "\n",
    "if parallel_request:\n",
    "    execute_DMT = execute_DMT + f' --req_parallel --req_np 4'\n",
    "\n",
    "if parallel_process:\n",
    "    execute_DMT = execute_DMT + f' --parallel_process --process_np 4'\n",
    "\n",
    "if event_info:\n",
    "    execute_DMT = execute_DMT + f' --event_info'\n",
    "    \n",
    "if reset:\n",
    "    execute_DMT = execute_DMT + f'  --reset'\n",
    "        \n",
    "print(f'Executing following command in the next cell:\\n\\n{execute_DMT}')"
   ]
  },
  {
   "cell_type": "markdown",
   "metadata": {},
   "source": [
    "Attention! Only execute the next line if you want to download or update your dataset. If you just want to plot or export some specific data you already downloaded then you do not have to execute the next line!"
   ]
  },
  {
   "cell_type": "code",
   "execution_count": 18,
   "metadata": {
    "scrolled": true
   },
   "outputs": [
    {
     "name": "stdout",
     "output_type": "stream",
     "text": [
      "/mnt/store/mariat/anaconda3/envs/py37/lib/python3.7/site-packages/obspy/clients/arclink/__init__.py:178: ObsPyDeprecationWarning: The ArcLink protocol will be deprecated in the near future. Please, use the client contacting the routing service provided by EIDA: https://docs.obspy.org/packages/obspy.clients.fdsn.html#basic-routing-clients-usage\n",
      "  warnings.warn(msg, category=ObsPyDeprecationWarning)\n",
      "\u001b[H\u001b[2J--------------------------------------------------------------------------------\n",
      "\t\t   obspyDMT (obspy Data Management Tool)\n",
      "\n",
      "\tPython Toolbox for Retrieving, Processing and Management of\n",
      "\t\t\tLarge Seismological Datasets\n",
      "\n",
      ":copyright:\n",
      "The ObsPy Development Team (devs@obspy.org)\n",
      "\n",
      "Developed by Kasra Hosseini\n",
      "email: kasra.hosseinizad@earth.ox.ac.uk\n",
      "\n",
      ":license:\n",
      "GNU General Public License, Version 3\n",
      "(http://www.gnu.org/licenses/gpl-3.0-standalone.html)\n",
      "--------------------------------------------------------------------------------\n",
      "\n",
      "\n",
      "obspyDMT primary mode: event_based\n",
      "\n",
      "\n",
      "=================================\n",
      "Waveforms will be retrieved from:\n",
      "BGR,ETH,EMSC,GEONET,GFZ,ICGC,INGV,IPGP,IRIS,ISC,KNMI,KOERI,LMU,NCEDC,NIEP,NOA,ODC,ORFEUS,RESIF,RASPISHAKE,SCEDC,TEXNET,USGS,USP\n",
      "=================================\n",
      "\n",
      "\n",
      "\n",
      "Event(s) are based on:\tNEIC_USGS\n",
      "#Divisions: 0\n",
      "\n",
      "Assembling 1 xml files...\n",
      "1,\n",
      "cleaning up the temporary folder.\n",
      "\n",
      "0.302156924000883 sec to retrieve the event info form NEIC.\n",
      "\n",
      "#N LAT       LON       DEP DATETIME             MAG  AUTH  EV_ID              FLY  \n",
      "--------------------------------------------------------------------------------\n",
      "1   -29.723  -177.279  29  2021-03-04T19:28:33  8.1  None  20210304_192833.a  NAN\n",
      "--------------------------------------------------------------------------------\n",
      "\n",
      "Number of events/intervals: 1\n",
      "Time for retrieving and saving the event info: 0:00:00\n",
      "\n",
      "#Events after filtering: 1\n",
      "\n",
      "=============\n",
      "metadata mode\n",
      "=============\n",
      "initializing files and directories...DONE\n",
      "check the availability: BGR\n",
      "ERROR: availability -- BGR -- No data available for request.\n",
      "Detailed response of server:\n",
      "\n",
      "\n",
      "\n",
      "check the availability: ETH\n",
      "ERROR: availability -- ETH -- No data available for request.\n",
      "Detailed response of server:\n",
      "\n",
      "\n",
      "\n",
      "check the availability: EMSC\n",
      "ERROR: availability -- EMSC -- The current client does not have a station service.\n",
      "\n",
      "check the availability: GEONET\n",
      "ERROR: availability -- GEONET -- No data available for request.\n",
      "Detailed response of server:\n",
      "\n",
      "\n",
      "\n",
      "check the availability: GFZ\n",
      "ERROR: availability -- GFZ -- Document is empty, line 1, column 1 (<string>, line 1)\n",
      "\n",
      "check the availability: ICGC\n",
      "ERROR: availability -- ICGC -- Document is empty, line 1, column 1 (<string>, line 1)\n",
      "\n",
      "check the availability: INGV\n",
      "ERROR: availability -- INGV -- No data available for request.\n",
      "Detailed response of server:\n",
      "\n",
      "\n",
      "\n",
      "check the availability: IPGP\n",
      "ERROR: availability -- IPGP -- No data available for request.\n",
      "Detailed response of server:\n",
      "\n",
      "\n",
      "\n",
      "check the availability: IRIS\n",
      "check the availability: ISC\n",
      "ERROR: availability -- ISC -- The current client does not have a station service.\n",
      "\n",
      "check the availability: KNMI\n",
      "ERROR: availability -- KNMI -- No data available for request.\n",
      "Detailed response of server:\n",
      "\n",
      "\n",
      "\n",
      "check the availability: KOERI\n",
      "ERROR: availability -- KOERI -- No data available for request.\n",
      "Detailed response of server:\n",
      "\n",
      "\n",
      "\n",
      "check the availability: LMU\n",
      "ERROR: availability -- LMU -- The current client does not have a station service.\n",
      "\n",
      "check the availability: NCEDC\n",
      "ERROR: availability -- NCEDC -- No data available for request.\n",
      "Detailed response of server:\n",
      "\n",
      "\n",
      "\n",
      "check the availability: NIEP\n",
      "ERROR: availability -- NIEP -- No data available for request.\n",
      "Detailed response of server:\n",
      "\n",
      "\n",
      "\n",
      "check the availability: NOA\n",
      "ERROR: availability -- NOA -- No data available for request.\n",
      "Detailed response of server:\n",
      "\n",
      "\n",
      "\n",
      "check the availability: ODC\n",
      "ERROR: availability -- ODC -- No data available for request.\n",
      "Detailed response of server:\n",
      "\n",
      "\n",
      "\n",
      "check the availability: ORFEUS\n",
      "ERROR: availability -- ORFEUS -- No data available for request.\n",
      "Detailed response of server:\n",
      "\n",
      "\n",
      "\n",
      "check the availability: RESIF\n",
      "ERROR: availability -- RESIF -- No data available for request.\n",
      "Detailed response of server:\n",
      "\n",
      "\n",
      "\n",
      "check the availability: RASPISHAKE\n",
      "ERROR: availability -- RASPISHAKE -- Document is empty, line 1, column 1 (<string>, line 1)\n",
      "\n",
      "check the availability: SCEDC\n",
      "ERROR: availability -- SCEDC -- No data available for request.\n",
      "Detailed response of server:\n",
      "\n",
      "\n",
      "\n",
      "check the availability: TEXNET\n",
      "ERROR: availability -- TEXNET -- No data available for request.\n",
      "Detailed response of server:\n",
      "\n",
      "\n",
      "\n",
      "check the availability: USGS\n",
      "ERROR: availability -- USGS -- The current client does not have a station service.\n",
      "\n",
      "check the availability: USP\n",
      "ERROR: availability -- USP -- No data available for request.\n",
      "Detailed response of server:\n",
      "\n",
      "\n",
      "\n",
      "\n",
      "availability for event: 1/1 ---> DONE\n",
      "Time for checking the availability: 0:00:34.193465\n",
      "[INFO] requested data sources:\n",
      "IRIS \n",
      "\n",
      "IRIS -- event: /mnt/seismodata2/MT/_OUTPUT_/test_obspyDMT_jupyter_v03/20210304_192833.a\n",
      "\n",
      "========================\n",
      "DONE with Event: 20210304_192833.a\n",
      "Time: 0:00:00.054367\n",
      "========================\n",
      "[LOCAL] Path:\n",
      "/mnt/seismodata2/MT/_OUTPUT_/test_obspyDMT_jupyter_v03/20210304_192833.a\n",
      "[INFO] update station_event file...\n",
      "[1/3] start processing: IM.NV31..BHE\n",
      "[3/3] start processing: IM.NV31..BHZ\n",
      "Writing WAV file for IM.NV31..BHZ\n",
      "Writing WAV file for IM.NV31..BHE\n",
      "[2/3] start processing: IM.NV31..BHN\n",
      "Writing WAV file for IM.NV31..BHN\n",
      "\n",
      "\n",
      "================================\n",
      "All 3 processes are finished...\n",
      "================================\n",
      "\n",
      "\n",
      "==================================================\n",
      "obspyDMT main program has finished!\n",
      "\n",
      "/mnt/seismodata2/MT/_OUTPUT_/test_obspyDMT_jupyter_v03\n",
      "* Total time of execution: 0:00:36 (h:m:s)\n",
      "==================================================\n",
      "\n",
      "\n"
     ]
    }
   ],
   "source": [
    "!{execute_DMT}"
   ]
  },
  {
   "cell_type": "markdown",
   "metadata": {},
   "source": [
    "In case your download was interrupted and raw was not converted to processed, execute this next cell. Otherwise, please skip."
   ]
  },
  {
   "cell_type": "code",
   "execution_count": null,
   "metadata": {
    "scrolled": true
   },
   "outputs": [],
   "source": [
    "proc_DMT = f'{execute_DMT} --local'\n",
    "!{proc_DMT}"
   ]
  },
  {
   "cell_type": "markdown",
   "metadata": {},
   "source": [
    "## Access downloaded data and save as WAV files"
   ]
  },
  {
   "cell_type": "markdown",
   "metadata": {},
   "source": [
    "### Reading station information"
   ]
  },
  {
   "cell_type": "markdown",
   "metadata": {},
   "source": [
    "No visible output generated with %%caputre.\n",
    "\n",
    "Attnetnion: In some cases there might be a gap in data and the %%capture suppress the Warning messages! If you want to see them then comment the first line of the next cell."
   ]
  },
  {
   "cell_type": "code",
   "execution_count": 7,
   "metadata": {
    "scrolled": true
   },
   "outputs": [],
   "source": [
    "%%capture\n",
    "# find read_station_information function in src_sac2wav.py if you want to know what is happening inside this function\n",
    "df_all = read_station_information(save_path, '*')\n",
    "# you can change the '*' to a specific event, but this wildcard will give you everything \n",
    "# a data frame (df) is generated with all station event information for your current download"
   ]
  },
  {
   "cell_type": "markdown",
   "metadata": {},
   "source": [
    "Here, you can look at the data frame:"
   ]
  },
  {
   "cell_type": "code",
   "execution_count": 8,
   "metadata": {
    "scrolled": true
   },
   "outputs": [
    {
     "name": "stdout",
     "output_type": "stream",
     "text": [
      "  net station location channel   stalat       stalon  staele None  cata  \\\n",
      "0  IM    NV31              BHE  38.4328  -118.155403  1509.0  0.0  IRIS   \n",
      "1  IM    NV31              BHN  38.4328  -118.155403  1509.0  0.0  IRIS   \n",
      "2  IM    NV31              BHZ  38.4328  -118.155403  1509.0  0.0  IRIS   \n",
      "\n",
      "                mode     evlat      evlon  evdep  mag  None   None  10 None  \n",
      "0  20210304_192833.a  -29.7228  -177.2794  28.93  8.1  90.0    0.0  10       \n",
      "1  20210304_192833.a  -29.7228  -177.2794  28.93  8.1   0.0    0.0  10       \n",
      "2  20210304_192833.a  -29.7228  -177.2794  28.93  8.1   0.0  -90.0  10       \n"
     ]
    }
   ],
   "source": [
    "print(df_all)"
   ]
  },
  {
   "cell_type": "markdown",
   "metadata": {},
   "source": [
    "## Plot station event distribution"
   ]
  },
  {
   "cell_type": "code",
   "execution_count": 9,
   "metadata": {
    "scrolled": false
   },
   "outputs": [
    {
     "data": {
      "application/javascript": [
       "/* Put everything inside the global mpl namespace */\n",
       "window.mpl = {};\n",
       "\n",
       "\n",
       "mpl.get_websocket_type = function() {\n",
       "    if (typeof(WebSocket) !== 'undefined') {\n",
       "        return WebSocket;\n",
       "    } else if (typeof(MozWebSocket) !== 'undefined') {\n",
       "        return MozWebSocket;\n",
       "    } else {\n",
       "        alert('Your browser does not have WebSocket support. ' +\n",
       "              'Please try Chrome, Safari or Firefox ≥ 6. ' +\n",
       "              'Firefox 4 and 5 are also supported but you ' +\n",
       "              'have to enable WebSockets in about:config.');\n",
       "    };\n",
       "}\n",
       "\n",
       "mpl.figure = function(figure_id, websocket, ondownload, parent_element) {\n",
       "    this.id = figure_id;\n",
       "\n",
       "    this.ws = websocket;\n",
       "\n",
       "    this.supports_binary = (this.ws.binaryType != undefined);\n",
       "\n",
       "    if (!this.supports_binary) {\n",
       "        var warnings = document.getElementById(\"mpl-warnings\");\n",
       "        if (warnings) {\n",
       "            warnings.style.display = 'block';\n",
       "            warnings.textContent = (\n",
       "                \"This browser does not support binary websocket messages. \" +\n",
       "                    \"Performance may be slow.\");\n",
       "        }\n",
       "    }\n",
       "\n",
       "    this.imageObj = new Image();\n",
       "\n",
       "    this.context = undefined;\n",
       "    this.message = undefined;\n",
       "    this.canvas = undefined;\n",
       "    this.rubberband_canvas = undefined;\n",
       "    this.rubberband_context = undefined;\n",
       "    this.format_dropdown = undefined;\n",
       "\n",
       "    this.image_mode = 'full';\n",
       "\n",
       "    this.root = $('<div/>');\n",
       "    this._root_extra_style(this.root)\n",
       "    this.root.attr('style', 'display: inline-block');\n",
       "\n",
       "    $(parent_element).append(this.root);\n",
       "\n",
       "    this._init_header(this);\n",
       "    this._init_canvas(this);\n",
       "    this._init_toolbar(this);\n",
       "\n",
       "    var fig = this;\n",
       "\n",
       "    this.waiting = false;\n",
       "\n",
       "    this.ws.onopen =  function () {\n",
       "            fig.send_message(\"supports_binary\", {value: fig.supports_binary});\n",
       "            fig.send_message(\"send_image_mode\", {});\n",
       "            if (mpl.ratio != 1) {\n",
       "                fig.send_message(\"set_dpi_ratio\", {'dpi_ratio': mpl.ratio});\n",
       "            }\n",
       "            fig.send_message(\"refresh\", {});\n",
       "        }\n",
       "\n",
       "    this.imageObj.onload = function() {\n",
       "            if (fig.image_mode == 'full') {\n",
       "                // Full images could contain transparency (where diff images\n",
       "                // almost always do), so we need to clear the canvas so that\n",
       "                // there is no ghosting.\n",
       "                fig.context.clearRect(0, 0, fig.canvas.width, fig.canvas.height);\n",
       "            }\n",
       "            fig.context.drawImage(fig.imageObj, 0, 0);\n",
       "        };\n",
       "\n",
       "    this.imageObj.onunload = function() {\n",
       "        fig.ws.close();\n",
       "    }\n",
       "\n",
       "    this.ws.onmessage = this._make_on_message_function(this);\n",
       "\n",
       "    this.ondownload = ondownload;\n",
       "}\n",
       "\n",
       "mpl.figure.prototype._init_header = function() {\n",
       "    var titlebar = $(\n",
       "        '<div class=\"ui-dialog-titlebar ui-widget-header ui-corner-all ' +\n",
       "        'ui-helper-clearfix\"/>');\n",
       "    var titletext = $(\n",
       "        '<div class=\"ui-dialog-title\" style=\"width: 100%; ' +\n",
       "        'text-align: center; padding: 3px;\"/>');\n",
       "    titlebar.append(titletext)\n",
       "    this.root.append(titlebar);\n",
       "    this.header = titletext[0];\n",
       "}\n",
       "\n",
       "\n",
       "\n",
       "mpl.figure.prototype._canvas_extra_style = function(canvas_div) {\n",
       "\n",
       "}\n",
       "\n",
       "\n",
       "mpl.figure.prototype._root_extra_style = function(canvas_div) {\n",
       "\n",
       "}\n",
       "\n",
       "mpl.figure.prototype._init_canvas = function() {\n",
       "    var fig = this;\n",
       "\n",
       "    var canvas_div = $('<div/>');\n",
       "\n",
       "    canvas_div.attr('style', 'position: relative; clear: both; outline: 0');\n",
       "\n",
       "    function canvas_keyboard_event(event) {\n",
       "        return fig.key_event(event, event['data']);\n",
       "    }\n",
       "\n",
       "    canvas_div.keydown('key_press', canvas_keyboard_event);\n",
       "    canvas_div.keyup('key_release', canvas_keyboard_event);\n",
       "    this.canvas_div = canvas_div\n",
       "    this._canvas_extra_style(canvas_div)\n",
       "    this.root.append(canvas_div);\n",
       "\n",
       "    var canvas = $('<canvas/>');\n",
       "    canvas.addClass('mpl-canvas');\n",
       "    canvas.attr('style', \"left: 0; top: 0; z-index: 0; outline: 0\")\n",
       "\n",
       "    this.canvas = canvas[0];\n",
       "    this.context = canvas[0].getContext(\"2d\");\n",
       "\n",
       "    var backingStore = this.context.backingStorePixelRatio ||\n",
       "\tthis.context.webkitBackingStorePixelRatio ||\n",
       "\tthis.context.mozBackingStorePixelRatio ||\n",
       "\tthis.context.msBackingStorePixelRatio ||\n",
       "\tthis.context.oBackingStorePixelRatio ||\n",
       "\tthis.context.backingStorePixelRatio || 1;\n",
       "\n",
       "    mpl.ratio = (window.devicePixelRatio || 1) / backingStore;\n",
       "\n",
       "    var rubberband = $('<canvas/>');\n",
       "    rubberband.attr('style', \"position: absolute; left: 0; top: 0; z-index: 1;\")\n",
       "\n",
       "    var pass_mouse_events = true;\n",
       "\n",
       "    canvas_div.resizable({\n",
       "        start: function(event, ui) {\n",
       "            pass_mouse_events = false;\n",
       "        },\n",
       "        resize: function(event, ui) {\n",
       "            fig.request_resize(ui.size.width, ui.size.height);\n",
       "        },\n",
       "        stop: function(event, ui) {\n",
       "            pass_mouse_events = true;\n",
       "            fig.request_resize(ui.size.width, ui.size.height);\n",
       "        },\n",
       "    });\n",
       "\n",
       "    function mouse_event_fn(event) {\n",
       "        if (pass_mouse_events)\n",
       "            return fig.mouse_event(event, event['data']);\n",
       "    }\n",
       "\n",
       "    rubberband.mousedown('button_press', mouse_event_fn);\n",
       "    rubberband.mouseup('button_release', mouse_event_fn);\n",
       "    // Throttle sequential mouse events to 1 every 20ms.\n",
       "    rubberband.mousemove('motion_notify', mouse_event_fn);\n",
       "\n",
       "    rubberband.mouseenter('figure_enter', mouse_event_fn);\n",
       "    rubberband.mouseleave('figure_leave', mouse_event_fn);\n",
       "\n",
       "    canvas_div.on(\"wheel\", function (event) {\n",
       "        event = event.originalEvent;\n",
       "        event['data'] = 'scroll'\n",
       "        if (event.deltaY < 0) {\n",
       "            event.step = 1;\n",
       "        } else {\n",
       "            event.step = -1;\n",
       "        }\n",
       "        mouse_event_fn(event);\n",
       "    });\n",
       "\n",
       "    canvas_div.append(canvas);\n",
       "    canvas_div.append(rubberband);\n",
       "\n",
       "    this.rubberband = rubberband;\n",
       "    this.rubberband_canvas = rubberband[0];\n",
       "    this.rubberband_context = rubberband[0].getContext(\"2d\");\n",
       "    this.rubberband_context.strokeStyle = \"#000000\";\n",
       "\n",
       "    this._resize_canvas = function(width, height) {\n",
       "        // Keep the size of the canvas, canvas container, and rubber band\n",
       "        // canvas in synch.\n",
       "        canvas_div.css('width', width)\n",
       "        canvas_div.css('height', height)\n",
       "\n",
       "        canvas.attr('width', width * mpl.ratio);\n",
       "        canvas.attr('height', height * mpl.ratio);\n",
       "        canvas.attr('style', 'width: ' + width + 'px; height: ' + height + 'px;');\n",
       "\n",
       "        rubberband.attr('width', width);\n",
       "        rubberband.attr('height', height);\n",
       "    }\n",
       "\n",
       "    // Set the figure to an initial 600x600px, this will subsequently be updated\n",
       "    // upon first draw.\n",
       "    this._resize_canvas(600, 600);\n",
       "\n",
       "    // Disable right mouse context menu.\n",
       "    $(this.rubberband_canvas).bind(\"contextmenu\",function(e){\n",
       "        return false;\n",
       "    });\n",
       "\n",
       "    function set_focus () {\n",
       "        canvas.focus();\n",
       "        canvas_div.focus();\n",
       "    }\n",
       "\n",
       "    window.setTimeout(set_focus, 100);\n",
       "}\n",
       "\n",
       "mpl.figure.prototype._init_toolbar = function() {\n",
       "    var fig = this;\n",
       "\n",
       "    var nav_element = $('<div/>');\n",
       "    nav_element.attr('style', 'width: 100%');\n",
       "    this.root.append(nav_element);\n",
       "\n",
       "    // Define a callback function for later on.\n",
       "    function toolbar_event(event) {\n",
       "        return fig.toolbar_button_onclick(event['data']);\n",
       "    }\n",
       "    function toolbar_mouse_event(event) {\n",
       "        return fig.toolbar_button_onmouseover(event['data']);\n",
       "    }\n",
       "\n",
       "    for(var toolbar_ind in mpl.toolbar_items) {\n",
       "        var name = mpl.toolbar_items[toolbar_ind][0];\n",
       "        var tooltip = mpl.toolbar_items[toolbar_ind][1];\n",
       "        var image = mpl.toolbar_items[toolbar_ind][2];\n",
       "        var method_name = mpl.toolbar_items[toolbar_ind][3];\n",
       "\n",
       "        if (!name) {\n",
       "            // put a spacer in here.\n",
       "            continue;\n",
       "        }\n",
       "        var button = $('<button/>');\n",
       "        button.addClass('ui-button ui-widget ui-state-default ui-corner-all ' +\n",
       "                        'ui-button-icon-only');\n",
       "        button.attr('role', 'button');\n",
       "        button.attr('aria-disabled', 'false');\n",
       "        button.click(method_name, toolbar_event);\n",
       "        button.mouseover(tooltip, toolbar_mouse_event);\n",
       "\n",
       "        var icon_img = $('<span/>');\n",
       "        icon_img.addClass('ui-button-icon-primary ui-icon');\n",
       "        icon_img.addClass(image);\n",
       "        icon_img.addClass('ui-corner-all');\n",
       "\n",
       "        var tooltip_span = $('<span/>');\n",
       "        tooltip_span.addClass('ui-button-text');\n",
       "        tooltip_span.html(tooltip);\n",
       "\n",
       "        button.append(icon_img);\n",
       "        button.append(tooltip_span);\n",
       "\n",
       "        nav_element.append(button);\n",
       "    }\n",
       "\n",
       "    var fmt_picker_span = $('<span/>');\n",
       "\n",
       "    var fmt_picker = $('<select/>');\n",
       "    fmt_picker.addClass('mpl-toolbar-option ui-widget ui-widget-content');\n",
       "    fmt_picker_span.append(fmt_picker);\n",
       "    nav_element.append(fmt_picker_span);\n",
       "    this.format_dropdown = fmt_picker[0];\n",
       "\n",
       "    for (var ind in mpl.extensions) {\n",
       "        var fmt = mpl.extensions[ind];\n",
       "        var option = $(\n",
       "            '<option/>', {selected: fmt === mpl.default_extension}).html(fmt);\n",
       "        fmt_picker.append(option);\n",
       "    }\n",
       "\n",
       "    // Add hover states to the ui-buttons\n",
       "    $( \".ui-button\" ).hover(\n",
       "        function() { $(this).addClass(\"ui-state-hover\");},\n",
       "        function() { $(this).removeClass(\"ui-state-hover\");}\n",
       "    );\n",
       "\n",
       "    var status_bar = $('<span class=\"mpl-message\"/>');\n",
       "    nav_element.append(status_bar);\n",
       "    this.message = status_bar[0];\n",
       "}\n",
       "\n",
       "mpl.figure.prototype.request_resize = function(x_pixels, y_pixels) {\n",
       "    // Request matplotlib to resize the figure. Matplotlib will then trigger a resize in the client,\n",
       "    // which will in turn request a refresh of the image.\n",
       "    this.send_message('resize', {'width': x_pixels, 'height': y_pixels});\n",
       "}\n",
       "\n",
       "mpl.figure.prototype.send_message = function(type, properties) {\n",
       "    properties['type'] = type;\n",
       "    properties['figure_id'] = this.id;\n",
       "    this.ws.send(JSON.stringify(properties));\n",
       "}\n",
       "\n",
       "mpl.figure.prototype.send_draw_message = function() {\n",
       "    if (!this.waiting) {\n",
       "        this.waiting = true;\n",
       "        this.ws.send(JSON.stringify({type: \"draw\", figure_id: this.id}));\n",
       "    }\n",
       "}\n",
       "\n",
       "\n",
       "mpl.figure.prototype.handle_save = function(fig, msg) {\n",
       "    var format_dropdown = fig.format_dropdown;\n",
       "    var format = format_dropdown.options[format_dropdown.selectedIndex].value;\n",
       "    fig.ondownload(fig, format);\n",
       "}\n",
       "\n",
       "\n",
       "mpl.figure.prototype.handle_resize = function(fig, msg) {\n",
       "    var size = msg['size'];\n",
       "    if (size[0] != fig.canvas.width || size[1] != fig.canvas.height) {\n",
       "        fig._resize_canvas(size[0], size[1]);\n",
       "        fig.send_message(\"refresh\", {});\n",
       "    };\n",
       "}\n",
       "\n",
       "mpl.figure.prototype.handle_rubberband = function(fig, msg) {\n",
       "    var x0 = msg['x0'] / mpl.ratio;\n",
       "    var y0 = (fig.canvas.height - msg['y0']) / mpl.ratio;\n",
       "    var x1 = msg['x1'] / mpl.ratio;\n",
       "    var y1 = (fig.canvas.height - msg['y1']) / mpl.ratio;\n",
       "    x0 = Math.floor(x0) + 0.5;\n",
       "    y0 = Math.floor(y0) + 0.5;\n",
       "    x1 = Math.floor(x1) + 0.5;\n",
       "    y1 = Math.floor(y1) + 0.5;\n",
       "    var min_x = Math.min(x0, x1);\n",
       "    var min_y = Math.min(y0, y1);\n",
       "    var width = Math.abs(x1 - x0);\n",
       "    var height = Math.abs(y1 - y0);\n",
       "\n",
       "    fig.rubberband_context.clearRect(\n",
       "        0, 0, fig.canvas.width / mpl.ratio, fig.canvas.height / mpl.ratio);\n",
       "\n",
       "    fig.rubberband_context.strokeRect(min_x, min_y, width, height);\n",
       "}\n",
       "\n",
       "mpl.figure.prototype.handle_figure_label = function(fig, msg) {\n",
       "    // Updates the figure title.\n",
       "    fig.header.textContent = msg['label'];\n",
       "}\n",
       "\n",
       "mpl.figure.prototype.handle_cursor = function(fig, msg) {\n",
       "    var cursor = msg['cursor'];\n",
       "    switch(cursor)\n",
       "    {\n",
       "    case 0:\n",
       "        cursor = 'pointer';\n",
       "        break;\n",
       "    case 1:\n",
       "        cursor = 'default';\n",
       "        break;\n",
       "    case 2:\n",
       "        cursor = 'crosshair';\n",
       "        break;\n",
       "    case 3:\n",
       "        cursor = 'move';\n",
       "        break;\n",
       "    }\n",
       "    fig.rubberband_canvas.style.cursor = cursor;\n",
       "}\n",
       "\n",
       "mpl.figure.prototype.handle_message = function(fig, msg) {\n",
       "    fig.message.textContent = msg['message'];\n",
       "}\n",
       "\n",
       "mpl.figure.prototype.handle_draw = function(fig, msg) {\n",
       "    // Request the server to send over a new figure.\n",
       "    fig.send_draw_message();\n",
       "}\n",
       "\n",
       "mpl.figure.prototype.handle_image_mode = function(fig, msg) {\n",
       "    fig.image_mode = msg['mode'];\n",
       "}\n",
       "\n",
       "mpl.figure.prototype.updated_canvas_event = function() {\n",
       "    // Called whenever the canvas gets updated.\n",
       "    this.send_message(\"ack\", {});\n",
       "}\n",
       "\n",
       "// A function to construct a web socket function for onmessage handling.\n",
       "// Called in the figure constructor.\n",
       "mpl.figure.prototype._make_on_message_function = function(fig) {\n",
       "    return function socket_on_message(evt) {\n",
       "        if (evt.data instanceof Blob) {\n",
       "            /* FIXME: We get \"Resource interpreted as Image but\n",
       "             * transferred with MIME type text/plain:\" errors on\n",
       "             * Chrome.  But how to set the MIME type?  It doesn't seem\n",
       "             * to be part of the websocket stream */\n",
       "            evt.data.type = \"image/png\";\n",
       "\n",
       "            /* Free the memory for the previous frames */\n",
       "            if (fig.imageObj.src) {\n",
       "                (window.URL || window.webkitURL).revokeObjectURL(\n",
       "                    fig.imageObj.src);\n",
       "            }\n",
       "\n",
       "            fig.imageObj.src = (window.URL || window.webkitURL).createObjectURL(\n",
       "                evt.data);\n",
       "            fig.updated_canvas_event();\n",
       "            fig.waiting = false;\n",
       "            return;\n",
       "        }\n",
       "        else if (typeof evt.data === 'string' && evt.data.slice(0, 21) == \"data:image/png;base64\") {\n",
       "            fig.imageObj.src = evt.data;\n",
       "            fig.updated_canvas_event();\n",
       "            fig.waiting = false;\n",
       "            return;\n",
       "        }\n",
       "\n",
       "        var msg = JSON.parse(evt.data);\n",
       "        var msg_type = msg['type'];\n",
       "\n",
       "        // Call the  \"handle_{type}\" callback, which takes\n",
       "        // the figure and JSON message as its only arguments.\n",
       "        try {\n",
       "            var callback = fig[\"handle_\" + msg_type];\n",
       "        } catch (e) {\n",
       "            console.log(\"No handler for the '\" + msg_type + \"' message type: \", msg);\n",
       "            return;\n",
       "        }\n",
       "\n",
       "        if (callback) {\n",
       "            try {\n",
       "                // console.log(\"Handling '\" + msg_type + \"' message: \", msg);\n",
       "                callback(fig, msg);\n",
       "            } catch (e) {\n",
       "                console.log(\"Exception inside the 'handler_\" + msg_type + \"' callback:\", e, e.stack, msg);\n",
       "            }\n",
       "        }\n",
       "    };\n",
       "}\n",
       "\n",
       "// from http://stackoverflow.com/questions/1114465/getting-mouse-location-in-canvas\n",
       "mpl.findpos = function(e) {\n",
       "    //this section is from http://www.quirksmode.org/js/events_properties.html\n",
       "    var targ;\n",
       "    if (!e)\n",
       "        e = window.event;\n",
       "    if (e.target)\n",
       "        targ = e.target;\n",
       "    else if (e.srcElement)\n",
       "        targ = e.srcElement;\n",
       "    if (targ.nodeType == 3) // defeat Safari bug\n",
       "        targ = targ.parentNode;\n",
       "\n",
       "    // jQuery normalizes the pageX and pageY\n",
       "    // pageX,Y are the mouse positions relative to the document\n",
       "    // offset() returns the position of the element relative to the document\n",
       "    var x = e.pageX - $(targ).offset().left;\n",
       "    var y = e.pageY - $(targ).offset().top;\n",
       "\n",
       "    return {\"x\": x, \"y\": y};\n",
       "};\n",
       "\n",
       "/*\n",
       " * return a copy of an object with only non-object keys\n",
       " * we need this to avoid circular references\n",
       " * http://stackoverflow.com/a/24161582/3208463\n",
       " */\n",
       "function simpleKeys (original) {\n",
       "  return Object.keys(original).reduce(function (obj, key) {\n",
       "    if (typeof original[key] !== 'object')\n",
       "        obj[key] = original[key]\n",
       "    return obj;\n",
       "  }, {});\n",
       "}\n",
       "\n",
       "mpl.figure.prototype.mouse_event = function(event, name) {\n",
       "    var canvas_pos = mpl.findpos(event)\n",
       "\n",
       "    if (name === 'button_press')\n",
       "    {\n",
       "        this.canvas.focus();\n",
       "        this.canvas_div.focus();\n",
       "    }\n",
       "\n",
       "    var x = canvas_pos.x * mpl.ratio;\n",
       "    var y = canvas_pos.y * mpl.ratio;\n",
       "\n",
       "    this.send_message(name, {x: x, y: y, button: event.button,\n",
       "                             step: event.step,\n",
       "                             guiEvent: simpleKeys(event)});\n",
       "\n",
       "    /* This prevents the web browser from automatically changing to\n",
       "     * the text insertion cursor when the button is pressed.  We want\n",
       "     * to control all of the cursor setting manually through the\n",
       "     * 'cursor' event from matplotlib */\n",
       "    event.preventDefault();\n",
       "    return false;\n",
       "}\n",
       "\n",
       "mpl.figure.prototype._key_event_extra = function(event, name) {\n",
       "    // Handle any extra behaviour associated with a key event\n",
       "}\n",
       "\n",
       "mpl.figure.prototype.key_event = function(event, name) {\n",
       "\n",
       "    // Prevent repeat events\n",
       "    if (name == 'key_press')\n",
       "    {\n",
       "        if (event.which === this._key)\n",
       "            return;\n",
       "        else\n",
       "            this._key = event.which;\n",
       "    }\n",
       "    if (name == 'key_release')\n",
       "        this._key = null;\n",
       "\n",
       "    var value = '';\n",
       "    if (event.ctrlKey && event.which != 17)\n",
       "        value += \"ctrl+\";\n",
       "    if (event.altKey && event.which != 18)\n",
       "        value += \"alt+\";\n",
       "    if (event.shiftKey && event.which != 16)\n",
       "        value += \"shift+\";\n",
       "\n",
       "    value += 'k';\n",
       "    value += event.which.toString();\n",
       "\n",
       "    this._key_event_extra(event, name);\n",
       "\n",
       "    this.send_message(name, {key: value,\n",
       "                             guiEvent: simpleKeys(event)});\n",
       "    return false;\n",
       "}\n",
       "\n",
       "mpl.figure.prototype.toolbar_button_onclick = function(name) {\n",
       "    if (name == 'download') {\n",
       "        this.handle_save(this, null);\n",
       "    } else {\n",
       "        this.send_message(\"toolbar_button\", {name: name});\n",
       "    }\n",
       "};\n",
       "\n",
       "mpl.figure.prototype.toolbar_button_onmouseover = function(tooltip) {\n",
       "    this.message.textContent = tooltip;\n",
       "};\n",
       "mpl.toolbar_items = [[\"Home\", \"Reset original view\", \"fa fa-home icon-home\", \"home\"], [\"Back\", \"Back to previous view\", \"fa fa-arrow-left icon-arrow-left\", \"back\"], [\"Forward\", \"Forward to next view\", \"fa fa-arrow-right icon-arrow-right\", \"forward\"], [\"\", \"\", \"\", \"\"], [\"Pan\", \"Pan axes with left mouse, zoom with right\", \"fa fa-arrows icon-move\", \"pan\"], [\"Zoom\", \"Zoom to rectangle\", \"fa fa-square-o icon-check-empty\", \"zoom\"], [\"\", \"\", \"\", \"\"], [\"Download\", \"Download plot\", \"fa fa-floppy-o icon-save\", \"download\"]];\n",
       "\n",
       "mpl.extensions = [\"eps\", \"jpeg\", \"pdf\", \"png\", \"ps\", \"raw\", \"svg\", \"tif\"];\n",
       "\n",
       "mpl.default_extension = \"png\";var comm_websocket_adapter = function(comm) {\n",
       "    // Create a \"websocket\"-like object which calls the given IPython comm\n",
       "    // object with the appropriate methods. Currently this is a non binary\n",
       "    // socket, so there is still some room for performance tuning.\n",
       "    var ws = {};\n",
       "\n",
       "    ws.close = function() {\n",
       "        comm.close()\n",
       "    };\n",
       "    ws.send = function(m) {\n",
       "        //console.log('sending', m);\n",
       "        comm.send(m);\n",
       "    };\n",
       "    // Register the callback with on_msg.\n",
       "    comm.on_msg(function(msg) {\n",
       "        //console.log('receiving', msg['content']['data'], msg);\n",
       "        // Pass the mpl event to the overridden (by mpl) onmessage function.\n",
       "        ws.onmessage(msg['content']['data'])\n",
       "    });\n",
       "    return ws;\n",
       "}\n",
       "\n",
       "mpl.mpl_figure_comm = function(comm, msg) {\n",
       "    // This is the function which gets called when the mpl process\n",
       "    // starts-up an IPython Comm through the \"matplotlib\" channel.\n",
       "\n",
       "    var id = msg.content.data.id;\n",
       "    // Get hold of the div created by the display call when the Comm\n",
       "    // socket was opened in Python.\n",
       "    var element = $(\"#\" + id);\n",
       "    var ws_proxy = comm_websocket_adapter(comm)\n",
       "\n",
       "    function ondownload(figure, format) {\n",
       "        window.open(figure.imageObj.src);\n",
       "    }\n",
       "\n",
       "    var fig = new mpl.figure(id, ws_proxy,\n",
       "                           ondownload,\n",
       "                           element.get(0));\n",
       "\n",
       "    // Call onopen now - mpl needs it, as it is assuming we've passed it a real\n",
       "    // web socket which is closed, not our websocket->open comm proxy.\n",
       "    ws_proxy.onopen();\n",
       "\n",
       "    fig.parent_element = element.get(0);\n",
       "    fig.cell_info = mpl.find_output_cell(\"<div id='\" + id + \"'></div>\");\n",
       "    if (!fig.cell_info) {\n",
       "        console.error(\"Failed to find cell for figure\", id, fig);\n",
       "        return;\n",
       "    }\n",
       "\n",
       "    var output_index = fig.cell_info[2]\n",
       "    var cell = fig.cell_info[0];\n",
       "\n",
       "};\n",
       "\n",
       "mpl.figure.prototype.handle_close = function(fig, msg) {\n",
       "    var width = fig.canvas.width/mpl.ratio\n",
       "    fig.root.unbind('remove')\n",
       "\n",
       "    // Update the output cell to use the data from the current canvas.\n",
       "    fig.push_to_output();\n",
       "    var dataURL = fig.canvas.toDataURL();\n",
       "    // Re-enable the keyboard manager in IPython - without this line, in FF,\n",
       "    // the notebook keyboard shortcuts fail.\n",
       "    IPython.keyboard_manager.enable()\n",
       "    $(fig.parent_element).html('<img src=\"' + dataURL + '\" width=\"' + width + '\">');\n",
       "    fig.close_ws(fig, msg);\n",
       "}\n",
       "\n",
       "mpl.figure.prototype.close_ws = function(fig, msg){\n",
       "    fig.send_message('closing', msg);\n",
       "    // fig.ws.close()\n",
       "}\n",
       "\n",
       "mpl.figure.prototype.push_to_output = function(remove_interactive) {\n",
       "    // Turn the data on the canvas into data in the output cell.\n",
       "    var width = this.canvas.width/mpl.ratio\n",
       "    var dataURL = this.canvas.toDataURL();\n",
       "    this.cell_info[1]['text/html'] = '<img src=\"' + dataURL + '\" width=\"' + width + '\">';\n",
       "}\n",
       "\n",
       "mpl.figure.prototype.updated_canvas_event = function() {\n",
       "    // Tell IPython that the notebook contents must change.\n",
       "    IPython.notebook.set_dirty(true);\n",
       "    this.send_message(\"ack\", {});\n",
       "    var fig = this;\n",
       "    // Wait a second, then push the new image to the DOM so\n",
       "    // that it is saved nicely (might be nice to debounce this).\n",
       "    setTimeout(function () { fig.push_to_output() }, 1000);\n",
       "}\n",
       "\n",
       "mpl.figure.prototype._init_toolbar = function() {\n",
       "    var fig = this;\n",
       "\n",
       "    var nav_element = $('<div/>');\n",
       "    nav_element.attr('style', 'width: 100%');\n",
       "    this.root.append(nav_element);\n",
       "\n",
       "    // Define a callback function for later on.\n",
       "    function toolbar_event(event) {\n",
       "        return fig.toolbar_button_onclick(event['data']);\n",
       "    }\n",
       "    function toolbar_mouse_event(event) {\n",
       "        return fig.toolbar_button_onmouseover(event['data']);\n",
       "    }\n",
       "\n",
       "    for(var toolbar_ind in mpl.toolbar_items){\n",
       "        var name = mpl.toolbar_items[toolbar_ind][0];\n",
       "        var tooltip = mpl.toolbar_items[toolbar_ind][1];\n",
       "        var image = mpl.toolbar_items[toolbar_ind][2];\n",
       "        var method_name = mpl.toolbar_items[toolbar_ind][3];\n",
       "\n",
       "        if (!name) { continue; };\n",
       "\n",
       "        var button = $('<button class=\"btn btn-default\" href=\"#\" title=\"' + name + '\"><i class=\"fa ' + image + ' fa-lg\"></i></button>');\n",
       "        button.click(method_name, toolbar_event);\n",
       "        button.mouseover(tooltip, toolbar_mouse_event);\n",
       "        nav_element.append(button);\n",
       "    }\n",
       "\n",
       "    // Add the status bar.\n",
       "    var status_bar = $('<span class=\"mpl-message\" style=\"text-align:right; float: right;\"/>');\n",
       "    nav_element.append(status_bar);\n",
       "    this.message = status_bar[0];\n",
       "\n",
       "    // Add the close button to the window.\n",
       "    var buttongrp = $('<div class=\"btn-group inline pull-right\"></div>');\n",
       "    var button = $('<button class=\"btn btn-mini btn-primary\" href=\"#\" title=\"Stop Interaction\"><i class=\"fa fa-power-off icon-remove icon-large\"></i></button>');\n",
       "    button.click(function (evt) { fig.handle_close(fig, {}); } );\n",
       "    button.mouseover('Stop Interaction', toolbar_mouse_event);\n",
       "    buttongrp.append(button);\n",
       "    var titlebar = this.root.find($('.ui-dialog-titlebar'));\n",
       "    titlebar.prepend(buttongrp);\n",
       "}\n",
       "\n",
       "mpl.figure.prototype._root_extra_style = function(el){\n",
       "    var fig = this\n",
       "    el.on(\"remove\", function(){\n",
       "\tfig.close_ws(fig, {});\n",
       "    });\n",
       "}\n",
       "\n",
       "mpl.figure.prototype._canvas_extra_style = function(el){\n",
       "    // this is important to make the div 'focusable\n",
       "    el.attr('tabindex', 0)\n",
       "    // reach out to IPython and tell the keyboard manager to turn it's self\n",
       "    // off when our div gets focus\n",
       "\n",
       "    // location in version 3\n",
       "    if (IPython.notebook.keyboard_manager) {\n",
       "        IPython.notebook.keyboard_manager.register_events(el);\n",
       "    }\n",
       "    else {\n",
       "        // location in version 2\n",
       "        IPython.keyboard_manager.register_events(el);\n",
       "    }\n",
       "\n",
       "}\n",
       "\n",
       "mpl.figure.prototype._key_event_extra = function(event, name) {\n",
       "    var manager = IPython.notebook.keyboard_manager;\n",
       "    if (!manager)\n",
       "        manager = IPython.keyboard_manager;\n",
       "\n",
       "    // Check for shift+enter\n",
       "    if (event.shiftKey && event.which == 13) {\n",
       "        this.canvas_div.blur();\n",
       "        // select the cell after this one\n",
       "        var index = IPython.notebook.find_cell_index(this.cell_info[0]);\n",
       "        IPython.notebook.select(index + 1);\n",
       "    }\n",
       "}\n",
       "\n",
       "mpl.figure.prototype.handle_save = function(fig, msg) {\n",
       "    fig.ondownload(fig, null);\n",
       "}\n",
       "\n",
       "\n",
       "mpl.find_output_cell = function(html_output) {\n",
       "    // Return the cell and output element which can be found *uniquely* in the notebook.\n",
       "    // Note - this is a bit hacky, but it is done because the \"notebook_saving.Notebook\"\n",
       "    // IPython event is triggered only after the cells have been serialised, which for\n",
       "    // our purposes (turning an active figure into a static one), is too late.\n",
       "    var cells = IPython.notebook.get_cells();\n",
       "    var ncells = cells.length;\n",
       "    for (var i=0; i<ncells; i++) {\n",
       "        var cell = cells[i];\n",
       "        if (cell.cell_type === 'code'){\n",
       "            for (var j=0; j<cell.output_area.outputs.length; j++) {\n",
       "                var data = cell.output_area.outputs[j];\n",
       "                if (data.data) {\n",
       "                    // IPython >= 3 moved mimebundle to data attribute of output\n",
       "                    data = data.data;\n",
       "                }\n",
       "                if (data['text/html'] == html_output) {\n",
       "                    return [cell, data, j];\n",
       "                }\n",
       "            }\n",
       "        }\n",
       "    }\n",
       "}\n",
       "\n",
       "// Register the function which deals with the matplotlib target/channel.\n",
       "// The kernel may be null if the page has been refreshed.\n",
       "if (IPython.notebook.kernel != null) {\n",
       "    IPython.notebook.kernel.comm_manager.register_target('matplotlib', mpl.mpl_figure_comm);\n",
       "}\n"
      ],
      "text/plain": [
       "<IPython.core.display.Javascript object>"
      ]
     },
     "metadata": {},
     "output_type": "display_data"
    },
    {
     "data": {
      "text/html": [
       "<img src=\"data:image/png;base64,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\" width=\"1000\">"
      ],
      "text/plain": [
       "<IPython.core.display.HTML object>"
      ]
     },
     "metadata": {},
     "output_type": "display_data"
    }
   ],
   "source": [
    "fig = plt.figure(figsize=(10, 5))\n",
    "ax = fig.add_subplot(1, 1, 1, projection=ccrs.Robinson())\n",
    "\n",
    "ax.set_global()\n",
    "ax.stock_img()\n",
    "ax.coastlines()\n",
    "\n",
    "df1 = df_all.drop_duplicates(['stalon','stalat'])\n",
    "ax.scatter(df1['stalon'].astype(float), df1['stalat'].astype(float), c='b', marker='v', s=15, alpha=0.7,  transform=ccrs.PlateCarree())\n",
    "\n",
    "if mode == 'event':\n",
    "    df2 = df_all.drop_duplicates(['evlon','evlat'])\n",
    "    ax.scatter(df2['evlon'].astype(float), df2['evlat'].astype(float), c='r', marker='*', s=65, alpha=0.7, transform=ccrs.PlateCarree())\n",
    "\n",
    "# always save this plot\n",
    "plt.savefig(os.path.join(save_fig_path, 'station_event_map.png'), dpi=300)\n",
    "plt.show()"
   ]
  },
  {
   "cell_type": "markdown",
   "metadata": {},
   "source": [
    "### Creating Poly-WAV's"
   ]
  },
  {
   "cell_type": "markdown",
   "metadata": {},
   "source": [
    "Seperate WAV files are automatically written when data is downloaded. When exporting poly-WAV files and Hydrophone channel is not present for landstation a zero trace is created and exportet instead.\n",
    "\n",
    "Even if you can download all possible channels (e.g. Water current, temperature, etc... see also here: https://ds.iris.edu/ds/nodes/dmc/tools/data_channels/#VOC) only seismometer channels are exported to WAV files. Only channels starting with:\n",
    "\n",
    "    XX E       Extremely Short Period  ≥ 80 to < 250< 10 sec\n",
    "    XX S       Short Period  ≥ 10 to < 80< 10 sec\n",
    "    \n",
    "    H       High Broad Band ≥ 80 to < 250≥ 10 sec\n",
    "    B       Broad Band≥ 10 to < 80≥ 10 sec\n",
    "    M       Mid Period> 1 to < 10LLong Period≈ 1\n",
    "    L\t    Long Period\t≈ 1\n",
    "    V       Very Long Period≈ 0.1\n",
    "    \n",
    "    XX U       Ultra Long Period≈ 0.01\n",
    "    XX R       Extremely Long Period≥ 0.0001 to < 0.001\n",
    "\n",
    "will be considered for converting for WAV files. There are even longer/shorter period channels which can be added at a later stage if desired.\n",
    "\n",
    "For instance\n",
    "\n",
    "    VOC measures water current\n",
    "    VKI measures inside Temperature\n",
    "and\n",
    "\n",
    "    the “LOG” channel for the console log\n",
    "    the “SOH” channel for the main state of health channel\n",
    "\n",
    "are skipped. "
   ]
  },
  {
   "cell_type": "markdown",
   "metadata": {},
   "source": [
    "**Note!** framerate and bitrate are set to 48000 and PCM_24 when downloaded for the single WAV files. You can change that for the poly files. If you want to change it for the single files you have to change it in **process_unit_wav.py** at the bottom of the file (don't forget to save your changes!). "
   ]
  },
  {
   "cell_type": "markdown",
   "metadata": {},
   "source": [
    "**Attention!** you are setting the mode (event, continous, day) on top of the notebook. Here, you can define another folder to process if you wish. Default is to use the above settings."
   ]
  },
  {
   "cell_type": "markdown",
   "metadata": {},
   "source": [
    "### There can be several processed folders depending on your above input\n",
    "\n",
    "'processed': [yes] 'sampling_rate' and [yes] 'instrument_correction'\n",
    "\n",
    "'resamp' : [yes] 'sampling_rate' and [no] 'instrument_correction'\n",
    "\n",
    "'instr': [no] 'sampling_rate' and [yes] 'instrument_correction'\n",
    "\n",
    "'noinstr_noresamp': [no] 'sampling_rate' and [no] 'instrument_correction'"
   ]
  },
  {
   "cell_type": "code",
   "execution_count": 130,
   "metadata": {},
   "outputs": [],
   "source": [
    "# ================\n",
    "# SAC to WAV input \n",
    "# ================\n",
    "\n",
    "# this is the path of the above downloaded data, but you can also put a path to other previously downloaded data\n",
    "dmt_folder = '/mnt/seismodata2/MT/_OUTPUT_/test_obspyDMT_jupyter_v04'\n",
    "\n",
    "# this is the mode from above or adjust to something else you already downloaded\n",
    "wav_mode = 'day'\n",
    "\n",
    "# which folder you want to confert to poly wavs\n",
    "# put one of these four options:\n",
    "# 'processed', 'resamp', 'instr', 'noinstr_noresamp'\n",
    "folder_to_process = 'instr'\n",
    "\n",
    "# What and how much to process depending on the wav_mode/mode\n",
    "proc_wavs_events = ['20210304_192833.a']  # or ['*_*.*'] \n",
    "proc_wavs_days = [start_time, 5]  # or for days '*'\n",
    "proc_wavs_continuous = [start_time, 5]  # or for days '*' | start_time can also be in this format 'YYYY-MM-DD'\n",
    "\n",
    "station_selection = '*'  # or \"RR05\" or '*' or ['PL08', 'BIG2']\n",
    "channel_selection = 'B*'\n",
    "network_selection = '*'\n",
    "\n",
    "# WAV settings\n",
    "framerate = 48000\n",
    "bitrate = 'PCM_24'\n",
    "\n",
    "# generates automatically plots of SAC files in WAV folder\n",
    "plot_waveforms = True\n",
    "\n",
    "# just in case the paths do not exist yet\n",
    "wav_save, save_fig_path = generate_output_folders(wav_mode, dmt_folder)"
   ]
  },
  {
   "cell_type": "code",
   "execution_count": 134,
   "metadata": {
    "scrolled": true
   },
   "outputs": [
    {
     "name": "stdout",
     "output_type": "stream",
     "text": [
      "*********\n",
      "Mode: day\n",
      "*********\n"
     ]
    },
    {
     "name": "stderr",
     "output_type": "stream",
     "text": [
      "/mnt/home_geo/mariat/Codes/sac2wav/src_sac2wav.py:80: UserWarning: loadtxt: Empty input file: \"/mnt/seismodata2/MT/_OUTPUT_/test_obspyDMT_jupyter_v04/continuous06/info/station_event\"\n",
      "  sta_info = np.loadtxt(file, delimiter=',', dtype=object)\n",
      "/mnt/home_geo/mariat/Codes/sac2wav/src_sac2wav.py:80: UserWarning: loadtxt: Empty input file: \"/mnt/seismodata2/MT/_OUTPUT_/test_obspyDMT_jupyter_v04/continuous07/info/station_event\"\n",
      "  sta_info = np.loadtxt(file, delimiter=',', dtype=object)\n",
      "/mnt/home_geo/mariat/Codes/sac2wav/src_sac2wav.py:80: UserWarning: loadtxt: Empty input file: \"/mnt/seismodata2/MT/_OUTPUT_/test_obspyDMT_jupyter_v04/continuous08/info/station_event\"\n",
      "  sta_info = np.loadtxt(file, delimiter=',', dtype=object)\n",
      "/mnt/home_geo/mariat/Codes/sac2wav/src_sac2wav.py:80: UserWarning: loadtxt: Empty input file: \"/mnt/seismodata2/MT/_OUTPUT_/test_obspyDMT_jupyter_v04/continuous09/info/station_event\"\n",
      "  sta_info = np.loadtxt(file, delimiter=',', dtype=object)\n",
      "/mnt/home_geo/mariat/Codes/sac2wav/src_sac2wav.py:80: UserWarning: loadtxt: Empty input file: \"/mnt/seismodata2/MT/_OUTPUT_/test_obspyDMT_jupyter_v04/continuous45/info/station_event\"\n",
      "  sta_info = np.loadtxt(file, delimiter=',', dtype=object)\n",
      "/mnt/home_geo/mariat/Codes/sac2wav/src_sac2wav.py:80: UserWarning: loadtxt: Empty input file: \"/mnt/seismodata2/MT/_OUTPUT_/test_obspyDMT_jupyter_v04/continuous46/info/station_event\"\n",
      "  sta_info = np.loadtxt(file, delimiter=',', dtype=object)\n",
      "/mnt/home_geo/mariat/Codes/sac2wav/src_sac2wav.py:80: UserWarning: loadtxt: Empty input file: \"/mnt/seismodata2/MT/_OUTPUT_/test_obspyDMT_jupyter_v04/continuous47/info/station_event\"\n",
      "  sta_info = np.loadtxt(file, delimiter=',', dtype=object)\n",
      "/mnt/home_geo/mariat/Codes/sac2wav/src_sac2wav.py:80: UserWarning: loadtxt: Empty input file: \"/mnt/seismodata2/MT/_OUTPUT_/test_obspyDMT_jupyter_v04/continuous48/info/station_event\"\n",
      "  sta_info = np.loadtxt(file, delimiter=',', dtype=object)\n",
      "/mnt/home_geo/mariat/Codes/sac2wav/src_sac2wav.py:80: UserWarning: loadtxt: Empty input file: \"/mnt/seismodata2/MT/_OUTPUT_/test_obspyDMT_jupyter_v04/continuous49/info/station_event\"\n",
      "  sta_info = np.loadtxt(file, delimiter=',', dtype=object)\n",
      "/mnt/home_geo/mariat/Codes/sac2wav/src_sac2wav.py:80: UserWarning: loadtxt: Empty input file: \"/mnt/seismodata2/MT/_OUTPUT_/test_obspyDMT_jupyter_v04/continuous50/info/station_event\"\n",
      "  sta_info = np.loadtxt(file, delimiter=',', dtype=object)\n",
      "/mnt/home_geo/mariat/Codes/sac2wav/src_sac2wav.py:80: UserWarning: loadtxt: Empty input file: \"/mnt/seismodata2/MT/_OUTPUT_/test_obspyDMT_jupyter_v04/continuous51/info/station_event\"\n",
      "  sta_info = np.loadtxt(file, delimiter=',', dtype=object)\n",
      "/mnt/home_geo/mariat/Codes/sac2wav/src_sac2wav.py:80: UserWarning: loadtxt: Empty input file: \"/mnt/seismodata2/MT/_OUTPUT_/test_obspyDMT_jupyter_v04/continuous70/info/station_event\"\n",
      "  sta_info = np.loadtxt(file, delimiter=',', dtype=object)\n",
      "/mnt/home_geo/mariat/Codes/sac2wav/src_sac2wav.py:80: UserWarning: loadtxt: Empty input file: \"/mnt/seismodata2/MT/_OUTPUT_/test_obspyDMT_jupyter_v04/continuous71/info/station_event\"\n",
      "  sta_info = np.loadtxt(file, delimiter=',', dtype=object)\n",
      "/mnt/home_geo/mariat/Codes/sac2wav/src_sac2wav.py:80: UserWarning: loadtxt: Empty input file: \"/mnt/seismodata2/MT/_OUTPUT_/test_obspyDMT_jupyter_v04/continuous72/info/station_event\"\n",
      "  sta_info = np.loadtxt(file, delimiter=',', dtype=object)\n",
      "/mnt/home_geo/mariat/Codes/sac2wav/src_sac2wav.py:80: UserWarning: loadtxt: Empty input file: \"/mnt/seismodata2/MT/_OUTPUT_/test_obspyDMT_jupyter_v04/continuous73/info/station_event\"\n",
      "  sta_info = np.loadtxt(file, delimiter=',', dtype=object)\n",
      "/mnt/home_geo/mariat/Codes/sac2wav/src_sac2wav.py:80: UserWarning: loadtxt: Empty input file: \"/mnt/seismodata2/MT/_OUTPUT_/test_obspyDMT_jupyter_v04/continuous74/info/station_event\"\n",
      "  sta_info = np.loadtxt(file, delimiter=',', dtype=object)\n",
      "/mnt/home_geo/mariat/Codes/sac2wav/src_sac2wav.py:80: UserWarning: loadtxt: Empty input file: \"/mnt/seismodata2/MT/_OUTPUT_/test_obspyDMT_jupyter_v04/continuous75/info/station_event\"\n",
      "  sta_info = np.loadtxt(file, delimiter=',', dtype=object)\n",
      "/mnt/home_geo/mariat/Codes/sac2wav/src_sac2wav.py:80: UserWarning: loadtxt: Empty input file: \"/mnt/seismodata2/MT/_OUTPUT_/test_obspyDMT_jupyter_v04/continuous77/info/station_event\"\n",
      "  sta_info = np.loadtxt(file, delimiter=',', dtype=object)\n",
      "/mnt/home_geo/mariat/Codes/sac2wav/src_sac2wav.py:80: UserWarning: loadtxt: Empty input file: \"/mnt/seismodata2/MT/_OUTPUT_/test_obspyDMT_jupyter_v04/continuous79/info/station_event\"\n",
      "  sta_info = np.loadtxt(file, delimiter=',', dtype=object)\n",
      "/mnt/home_geo/mariat/Codes/sac2wav/src_sac2wav.py:80: UserWarning: loadtxt: Empty input file: \"/mnt/seismodata2/MT/_OUTPUT_/test_obspyDMT_jupyter_v04/continuous80/info/station_event\"\n",
      "  sta_info = np.loadtxt(file, delimiter=',', dtype=object)\n",
      "/mnt/home_geo/mariat/Codes/sac2wav/src_sac2wav.py:80: UserWarning: loadtxt: Empty input file: \"/mnt/seismodata2/MT/_OUTPUT_/test_obspyDMT_jupyter_v04/continuous82/info/station_event\"\n",
      "  sta_info = np.loadtxt(file, delimiter=',', dtype=object)\n",
      "/mnt/home_geo/mariat/Codes/sac2wav/src_sac2wav.py:80: UserWarning: loadtxt: Empty input file: \"/mnt/seismodata2/MT/_OUTPUT_/test_obspyDMT_jupyter_v04/continuous83/info/station_event\"\n",
      "  sta_info = np.loadtxt(file, delimiter=',', dtype=object)\n",
      "/mnt/home_geo/mariat/Codes/sac2wav/src_sac2wav.py:80: UserWarning: loadtxt: Empty input file: \"/mnt/seismodata2/MT/_OUTPUT_/test_obspyDMT_jupyter_v04/continuous84/info/station_event\"\n",
      "  sta_info = np.loadtxt(file, delimiter=',', dtype=object)\n",
      "/mnt/home_geo/mariat/Codes/sac2wav/src_sac2wav.py:80: UserWarning: loadtxt: Empty input file: \"/mnt/seismodata2/MT/_OUTPUT_/test_obspyDMT_jupyter_v04/continuous85/info/station_event\"\n",
      "  sta_info = np.loadtxt(file, delimiter=',', dtype=object)\n",
      "/mnt/home_geo/mariat/Codes/sac2wav/src_sac2wav.py:80: UserWarning: loadtxt: Empty input file: \"/mnt/seismodata2/MT/_OUTPUT_/test_obspyDMT_jupyter_v04/continuous86/info/station_event\"\n",
      "  sta_info = np.loadtxt(file, delimiter=',', dtype=object)\n",
      "/mnt/home_geo/mariat/Codes/sac2wav/src_sac2wav.py:80: UserWarning: loadtxt: Empty input file: \"/mnt/seismodata2/MT/_OUTPUT_/test_obspyDMT_jupyter_v04/continuous87/info/station_event\"\n",
      "  sta_info = np.loadtxt(file, delimiter=',', dtype=object)\n",
      "/mnt/home_geo/mariat/Codes/sac2wav/src_sac2wav.py:80: UserWarning: loadtxt: Empty input file: \"/mnt/seismodata2/MT/_OUTPUT_/test_obspyDMT_jupyter_v04/continuous89/info/station_event\"\n",
      "  sta_info = np.loadtxt(file, delimiter=',', dtype=object)\n",
      "/mnt/home_geo/mariat/Codes/sac2wav/src_sac2wav.py:80: UserWarning: loadtxt: Empty input file: \"/mnt/seismodata2/MT/_OUTPUT_/test_obspyDMT_jupyter_v04/continuous90/info/station_event\"\n",
      "  sta_info = np.loadtxt(file, delimiter=',', dtype=object)\n",
      "/mnt/home_geo/mariat/Codes/sac2wav/src_sac2wav.py:80: UserWarning: loadtxt: Empty input file: \"/mnt/seismodata2/MT/_OUTPUT_/test_obspyDMT_jupyter_v04/continuous91/info/station_event\"\n",
      "  sta_info = np.loadtxt(file, delimiter=',', dtype=object)\n"
     ]
    },
    {
     "name": "stdout",
     "output_type": "stream",
     "text": [
      "Days to process:\n",
      "['continuous01', 'continuous02', 'continuous03', 'continuous04', 'continuous05']\n",
      "Searching SACs in continuous01\n",
      "\tReading for DSB\n",
      "\t\tSearching in ['BHE', 'BHN', 'BHZ', 'BDH']\n",
      "\t\t\tFound DSB.BHE\n",
      "\t\t\tFound DSB.BHN\n",
      "\t\t\tFound DSB.BHZ\n",
      "\t\t\tAdding a zero trace for the hydrophone channel...\n"
     ]
    },
    {
     "name": "stderr",
     "output_type": "stream",
     "text": [
      "/mnt/home_geo/mariat/Codes/sac2wav/src_sac2wav.py:678: RuntimeWarning: invalid value encountered in true_divide\n",
      "  data = collect_tr[:,i] / abs(collect_tr[:,i]).max()\n"
     ]
    },
    {
     "name": "stdout",
     "output_type": "stream",
     "text": [
      "\t\tSearching in ['HHE', 'HHN', 'HHZ', 'HDH']\n",
      "\t\t\tFound DSB.HHE\n",
      "\t\t\tFound DSB.HHN\n",
      "\t\t\tFound DSB.HHZ\n",
      "\t\t\tAdding a zero trace for the hydrophone channel...\n"
     ]
    },
    {
     "name": "stderr",
     "output_type": "stream",
     "text": [
      "/mnt/home_geo/mariat/Codes/sac2wav/src_sac2wav.py:678: RuntimeWarning: invalid value encountered in true_divide\n",
      "  data = collect_tr[:,i] / abs(collect_tr[:,i]).max()\n"
     ]
    },
    {
     "name": "stdout",
     "output_type": "stream",
     "text": [
      "\t\tSearching in ['LHE', 'LHN', 'LHZ', 'LDH']\n",
      "\t\t\tFound DSB.LHE\n",
      "\t\t\tFound DSB.LHN\n",
      "\t\t\tFound DSB.LHZ\n",
      "\t\t\tAdding a zero trace for the hydrophone channel...\n"
     ]
    },
    {
     "name": "stderr",
     "output_type": "stream",
     "text": [
      "/mnt/home_geo/mariat/Codes/sac2wav/src_sac2wav.py:678: RuntimeWarning: invalid value encountered in true_divide\n",
      "  data = collect_tr[:,i] / abs(collect_tr[:,i]).max()\n"
     ]
    },
    {
     "name": "stdout",
     "output_type": "stream",
     "text": [
      "\tReading for IDGL\n",
      "\t\tSearching in ['BHE', 'BHN', 'BHZ', 'BDH']\n",
      "\t\t\tFound IDGL.BHE\n",
      "\t\t\tFound IDGL.BHN\n",
      "\t\t\tFound IDGL.BHZ\n",
      "\t\t\tAdding a zero trace for the hydrophone channel...\n"
     ]
    },
    {
     "name": "stderr",
     "output_type": "stream",
     "text": [
      "/mnt/home_geo/mariat/Codes/sac2wav/src_sac2wav.py:678: RuntimeWarning: invalid value encountered in true_divide\n",
      "  data = collect_tr[:,i] / abs(collect_tr[:,i]).max()\n"
     ]
    },
    {
     "name": "stdout",
     "output_type": "stream",
     "text": [
      "\t\tSearching in ['HHE', 'HHN', 'HHZ', 'HDH']\n",
      "\t\t\tFound IDGL.HHE\n",
      "\t\t\tFound IDGL.HHN\n",
      "\t\t\tFound IDGL.HHZ\n",
      "\t\t\tAdding a zero trace for the hydrophone channel...\n"
     ]
    },
    {
     "name": "stderr",
     "output_type": "stream",
     "text": [
      "/mnt/home_geo/mariat/Codes/sac2wav/src_sac2wav.py:678: RuntimeWarning: invalid value encountered in true_divide\n",
      "  data = collect_tr[:,i] / abs(collect_tr[:,i]).max()\n"
     ]
    },
    {
     "name": "stdout",
     "output_type": "stream",
     "text": [
      "\t\tSearching in ['LHE', 'LHN', 'LHZ', 'LDH']\n",
      "\t\t\tFound IDGL.LHE\n",
      "\t\t\tFound IDGL.LHN\n",
      "\t\t\tFound IDGL.LHZ\n",
      "\t\t\tAdding a zero trace for the hydrophone channel...\n"
     ]
    },
    {
     "name": "stderr",
     "output_type": "stream",
     "text": [
      "/mnt/home_geo/mariat/Codes/sac2wav/src_sac2wav.py:678: RuntimeWarning: invalid value encountered in true_divide\n",
      "  data = collect_tr[:,i] / abs(collect_tr[:,i]).max()\n"
     ]
    },
    {
     "name": "stdout",
     "output_type": "stream",
     "text": [
      "\tReading for IGLA\n",
      "\t\tSearching in ['BHE', 'BHN', 'BHZ', 'BDH']\n",
      "\t\t\tFound IGLA.BHE\n",
      "\t\t\tFound IGLA.BHN\n",
      "\t\t\tFound IGLA.BHZ\n",
      "\t\t\tAdding a zero trace for the hydrophone channel...\n"
     ]
    },
    {
     "name": "stderr",
     "output_type": "stream",
     "text": [
      "/mnt/home_geo/mariat/Codes/sac2wav/src_sac2wav.py:678: RuntimeWarning: invalid value encountered in true_divide\n",
      "  data = collect_tr[:,i] / abs(collect_tr[:,i]).max()\n"
     ]
    },
    {
     "name": "stdout",
     "output_type": "stream",
     "text": [
      "\t\tSearching in ['HHE', 'HHN', 'HHZ', 'HDH']\n",
      "\t\t\tFound IGLA.HHE\n",
      "\t\t\tFound IGLA.HHN\n",
      "\t\t\tFound IGLA.HHZ\n",
      "\t\t\tAdding a zero trace for the hydrophone channel...\n"
     ]
    },
    {
     "name": "stderr",
     "output_type": "stream",
     "text": [
      "/mnt/home_geo/mariat/Codes/sac2wav/src_sac2wav.py:678: RuntimeWarning: invalid value encountered in true_divide\n",
      "  data = collect_tr[:,i] / abs(collect_tr[:,i]).max()\n"
     ]
    },
    {
     "name": "stdout",
     "output_type": "stream",
     "text": [
      "\t\tSearching in ['LHE', 'LHN', 'LHZ', 'LDH']\n",
      "\t\t\tFound IGLA.LHE\n",
      "\t\t\tFound IGLA.LHN\n",
      "\t\t\tFound IGLA.LHZ\n",
      "\t\t\tAdding a zero trace for the hydrophone channel...\n"
     ]
    },
    {
     "name": "stderr",
     "output_type": "stream",
     "text": [
      "/mnt/home_geo/mariat/Codes/sac2wav/src_sac2wav.py:678: RuntimeWarning: invalid value encountered in true_divide\n",
      "  data = collect_tr[:,i] / abs(collect_tr[:,i]).max()\n"
     ]
    },
    {
     "name": "stdout",
     "output_type": "stream",
     "text": [
      "\tReading for ILTH\n",
      "\t\tSearching in ['BHE', 'BHN', 'BHZ', 'BDH']\n",
      "\t\t\tFound ILTH.BHE\n",
      "\t\t\tFound ILTH.BHN\n",
      "\t\t\tFound ILTH.BHZ\n",
      "\t\t\tAdding a zero trace for the hydrophone channel...\n"
     ]
    },
    {
     "name": "stderr",
     "output_type": "stream",
     "text": [
      "/mnt/home_geo/mariat/Codes/sac2wav/src_sac2wav.py:678: RuntimeWarning: invalid value encountered in true_divide\n",
      "  data = collect_tr[:,i] / abs(collect_tr[:,i]).max()\n"
     ]
    },
    {
     "name": "stdout",
     "output_type": "stream",
     "text": [
      "\t\tSearching in ['HHE', 'HHN', 'HHZ', 'HDH']\n",
      "\t\t\tFound ILTH.HHE\n",
      "\t\t\tFound ILTH.HHN\n",
      "\t\t\tFound ILTH.HHZ\n",
      "\t\t\tAdding a zero trace for the hydrophone channel...\n"
     ]
    },
    {
     "name": "stderr",
     "output_type": "stream",
     "text": [
      "/mnt/home_geo/mariat/Codes/sac2wav/src_sac2wav.py:678: RuntimeWarning: invalid value encountered in true_divide\n",
      "  data = collect_tr[:,i] / abs(collect_tr[:,i]).max()\n"
     ]
    },
    {
     "name": "stdout",
     "output_type": "stream",
     "text": [
      "\t\tSearching in ['LHE', 'LHN', 'LHZ', 'LDH']\n",
      "\t\t\tFound ILTH.LHE\n",
      "\t\t\tFound ILTH.LHN\n",
      "\t\t\tFound ILTH.LHZ\n",
      "\t\t\tAdding a zero trace for the hydrophone channel...\n"
     ]
    },
    {
     "name": "stderr",
     "output_type": "stream",
     "text": [
      "/mnt/home_geo/mariat/Codes/sac2wav/src_sac2wav.py:678: RuntimeWarning: invalid value encountered in true_divide\n",
      "  data = collect_tr[:,i] / abs(collect_tr[:,i]).max()\n"
     ]
    },
    {
     "name": "stdout",
     "output_type": "stream",
     "text": [
      "\tReading for IWEX\n",
      "\t\tSearching in ['BHE', 'BHN', 'BHZ', 'BDH']\n",
      "\t\t\tFound IWEX.BHE\n",
      "\t\t\tFound IWEX.BHN\n",
      "\t\t\tFound IWEX.BHZ\n",
      "\t\t\tAdding a zero trace for the hydrophone channel...\n"
     ]
    },
    {
     "name": "stderr",
     "output_type": "stream",
     "text": [
      "/mnt/home_geo/mariat/Codes/sac2wav/src_sac2wav.py:678: RuntimeWarning: invalid value encountered in true_divide\n",
      "  data = collect_tr[:,i] / abs(collect_tr[:,i]).max()\n"
     ]
    },
    {
     "name": "stdout",
     "output_type": "stream",
     "text": [
      "\t\tSearching in ['HHE', 'HHN', 'HHZ', 'HDH']\n",
      "\t\t\tFound IWEX.HHE\n",
      "\t\t\tFound IWEX.HHN\n",
      "\t\t\tFound IWEX.HHZ\n",
      "\t\t\tAdding a zero trace for the hydrophone channel...\n"
     ]
    },
    {
     "name": "stderr",
     "output_type": "stream",
     "text": [
      "/mnt/home_geo/mariat/Codes/sac2wav/src_sac2wav.py:678: RuntimeWarning: invalid value encountered in true_divide\n",
      "  data = collect_tr[:,i] / abs(collect_tr[:,i]).max()\n"
     ]
    },
    {
     "name": "stdout",
     "output_type": "stream",
     "text": [
      "\t\tSearching in ['LHE', 'LHN', 'LHZ', 'LDH']\n",
      "\t\t\tFound IWEX.LHE\n",
      "\t\t\tFound IWEX.LHN\n",
      "\t\t\tFound IWEX.LHZ\n",
      "\t\t\tAdding a zero trace for the hydrophone channel...\n"
     ]
    },
    {
     "name": "stderr",
     "output_type": "stream",
     "text": [
      "/mnt/home_geo/mariat/Codes/sac2wav/src_sac2wav.py:678: RuntimeWarning: invalid value encountered in true_divide\n",
      "  data = collect_tr[:,i] / abs(collect_tr[:,i]).max()\n"
     ]
    },
    {
     "name": "stdout",
     "output_type": "stream",
     "text": [
      "\tReading for VAL\n",
      "\t\tSearching in ['BHE', 'BHN', 'BHZ', 'BDH']\n",
      "\t\t\tFound VAL.BHE\n",
      "\t\t\tFound VAL.BHN\n",
      "\t\t\tFound VAL.BHZ\n",
      "\t\t\tAdding a zero trace for the hydrophone channel...\n"
     ]
    },
    {
     "name": "stderr",
     "output_type": "stream",
     "text": [
      "/mnt/home_geo/mariat/Codes/sac2wav/src_sac2wav.py:678: RuntimeWarning: invalid value encountered in true_divide\n",
      "  data = collect_tr[:,i] / abs(collect_tr[:,i]).max()\n"
     ]
    },
    {
     "name": "stdout",
     "output_type": "stream",
     "text": [
      "\t\tSearching in ['HHE', 'HHN', 'HHZ', 'HDH']\n",
      "\t\t\tFound VAL.HHE\n",
      "\t\t\tFound VAL.HHN\n",
      "\t\t\tFound VAL.HHZ\n",
      "\t\t\tAdding a zero trace for the hydrophone channel...\n"
     ]
    },
    {
     "name": "stderr",
     "output_type": "stream",
     "text": [
      "/mnt/home_geo/mariat/Codes/sac2wav/src_sac2wav.py:678: RuntimeWarning: invalid value encountered in true_divide\n",
      "  data = collect_tr[:,i] / abs(collect_tr[:,i]).max()\n"
     ]
    },
    {
     "name": "stdout",
     "output_type": "stream",
     "text": [
      "\t\tSearching in ['LHE', 'LHN', 'LHZ', 'LDH']\n",
      "\t\t\tFound VAL.LHE\n",
      "\t\t\tFound VAL.LHN\n",
      "\t\t\tFound VAL.LHZ\n",
      "\t\t\tAdding a zero trace for the hydrophone channel...\n"
     ]
    },
    {
     "name": "stderr",
     "output_type": "stream",
     "text": [
      "/mnt/home_geo/mariat/Codes/sac2wav/src_sac2wav.py:678: RuntimeWarning: invalid value encountered in true_divide\n",
      "  data = collect_tr[:,i] / abs(collect_tr[:,i]).max()\n"
     ]
    },
    {
     "name": "stdout",
     "output_type": "stream",
     "text": [
      "Searching SACs in continuous02\n",
      "\tReading for DSB\n",
      "\t\tSearching in ['BHE', 'BHN', 'BHZ', 'BDH']\n",
      "\t\t\tFound DSB.BHE\n",
      "\t\t\tFound DSB.BHN\n",
      "\t\t\tFound DSB.BHZ\n",
      "\t\t\tAdding a zero trace for the hydrophone channel...\n"
     ]
    },
    {
     "name": "stderr",
     "output_type": "stream",
     "text": [
      "/mnt/home_geo/mariat/Codes/sac2wav/src_sac2wav.py:678: RuntimeWarning: invalid value encountered in true_divide\n",
      "  data = collect_tr[:,i] / abs(collect_tr[:,i]).max()\n"
     ]
    },
    {
     "name": "stdout",
     "output_type": "stream",
     "text": [
      "\t\tSearching in ['HHE', 'HHN', 'HHZ', 'HDH']\n",
      "\t\t\tFound DSB.HHE\n",
      "\t\t\tFound DSB.HHN\n",
      "\t\t\tFound DSB.HHZ\n",
      "\t\t\tAdding a zero trace for the hydrophone channel...\n"
     ]
    },
    {
     "name": "stderr",
     "output_type": "stream",
     "text": [
      "/mnt/home_geo/mariat/Codes/sac2wav/src_sac2wav.py:678: RuntimeWarning: invalid value encountered in true_divide\n",
      "  data = collect_tr[:,i] / abs(collect_tr[:,i]).max()\n"
     ]
    },
    {
     "name": "stdout",
     "output_type": "stream",
     "text": [
      "\t\tSearching in ['LHE', 'LHN', 'LHZ', 'LDH']\n",
      "\t\t\tFound DSB.LHE\n",
      "\t\t\tFound DSB.LHN\n",
      "\t\t\tFound DSB.LHZ\n",
      "\t\t\tAdding a zero trace for the hydrophone channel...\n"
     ]
    },
    {
     "name": "stderr",
     "output_type": "stream",
     "text": [
      "/mnt/home_geo/mariat/Codes/sac2wav/src_sac2wav.py:678: RuntimeWarning: invalid value encountered in true_divide\n",
      "  data = collect_tr[:,i] / abs(collect_tr[:,i]).max()\n"
     ]
    },
    {
     "name": "stdout",
     "output_type": "stream",
     "text": [
      "\tReading for IDGL\n",
      "\t\tSearching in ['BHE', 'BHN', 'BHZ', 'BDH']\n",
      "\t\t\tFound IDGL.BHE\n",
      "\t\t\tFound IDGL.BHN\n",
      "\t\t\tFound IDGL.BHZ\n",
      "\t\t\tAdding a zero trace for the hydrophone channel...\n"
     ]
    },
    {
     "name": "stderr",
     "output_type": "stream",
     "text": [
      "/mnt/home_geo/mariat/Codes/sac2wav/src_sac2wav.py:678: RuntimeWarning: invalid value encountered in true_divide\n",
      "  data = collect_tr[:,i] / abs(collect_tr[:,i]).max()\n"
     ]
    },
    {
     "name": "stdout",
     "output_type": "stream",
     "text": [
      "\t\tSearching in ['HHE', 'HHN', 'HHZ', 'HDH']\n",
      "\t\t\tFound IDGL.HHE\n",
      "\t\t\tFound IDGL.HHN\n",
      "\t\t\tFound IDGL.HHZ\n",
      "\t\t\tAdding a zero trace for the hydrophone channel...\n"
     ]
    },
    {
     "name": "stderr",
     "output_type": "stream",
     "text": [
      "/mnt/home_geo/mariat/Codes/sac2wav/src_sac2wav.py:678: RuntimeWarning: invalid value encountered in true_divide\n",
      "  data = collect_tr[:,i] / abs(collect_tr[:,i]).max()\n"
     ]
    },
    {
     "name": "stdout",
     "output_type": "stream",
     "text": [
      "\t\tSearching in ['LHE', 'LHN', 'LHZ', 'LDH']\n",
      "\t\t\tFound IDGL.LHE\n",
      "\t\t\tFound IDGL.LHN\n",
      "\t\t\tFound IDGL.LHZ\n",
      "\t\t\tAdding a zero trace for the hydrophone channel...\n"
     ]
    },
    {
     "name": "stderr",
     "output_type": "stream",
     "text": [
      "/mnt/home_geo/mariat/Codes/sac2wav/src_sac2wav.py:678: RuntimeWarning: invalid value encountered in true_divide\n",
      "  data = collect_tr[:,i] / abs(collect_tr[:,i]).max()\n"
     ]
    },
    {
     "name": "stdout",
     "output_type": "stream",
     "text": [
      "\tReading for IGLA\n",
      "\t\tSearching in ['BHE', 'BHN', 'BHZ', 'BDH']\n",
      "\t\t\tFound IGLA.BHE\n",
      "\t\t\tFound IGLA.BHN\n",
      "\t\t\tFound IGLA.BHZ\n",
      "\t\t\tAdding a zero trace for the hydrophone channel...\n"
     ]
    },
    {
     "name": "stderr",
     "output_type": "stream",
     "text": [
      "/mnt/home_geo/mariat/Codes/sac2wav/src_sac2wav.py:678: RuntimeWarning: invalid value encountered in true_divide\n",
      "  data = collect_tr[:,i] / abs(collect_tr[:,i]).max()\n"
     ]
    },
    {
     "name": "stdout",
     "output_type": "stream",
     "text": [
      "\t\tSearching in ['HHE', 'HHN', 'HHZ', 'HDH']\n",
      "\t\t\tFound IGLA.HHE\n",
      "\t\t\tFound IGLA.HHN\n",
      "\t\t\tFound IGLA.HHZ\n",
      "\t\t\tAdding a zero trace for the hydrophone channel...\n"
     ]
    },
    {
     "name": "stderr",
     "output_type": "stream",
     "text": [
      "/mnt/home_geo/mariat/Codes/sac2wav/src_sac2wav.py:678: RuntimeWarning: invalid value encountered in true_divide\n",
      "  data = collect_tr[:,i] / abs(collect_tr[:,i]).max()\n"
     ]
    },
    {
     "name": "stdout",
     "output_type": "stream",
     "text": [
      "\t\tSearching in ['LHE', 'LHN', 'LHZ', 'LDH']\n",
      "\t\t\tFound IGLA.LHE\n",
      "\t\t\tFound IGLA.LHN\n",
      "\t\t\tFound IGLA.LHZ\n",
      "\t\t\tAdding a zero trace for the hydrophone channel...\n"
     ]
    },
    {
     "name": "stderr",
     "output_type": "stream",
     "text": [
      "/mnt/home_geo/mariat/Codes/sac2wav/src_sac2wav.py:678: RuntimeWarning: invalid value encountered in true_divide\n",
      "  data = collect_tr[:,i] / abs(collect_tr[:,i]).max()\n"
     ]
    },
    {
     "name": "stdout",
     "output_type": "stream",
     "text": [
      "\tReading for ILTH\n",
      "\t\tSearching in ['BHE', 'BHN', 'BHZ', 'BDH']\n",
      "\t\t\tFound ILTH.BHE\n",
      "\t\t\tFound ILTH.BHN\n",
      "\t\t\tFound ILTH.BHZ\n",
      "\t\t\tAdding a zero trace for the hydrophone channel...\n"
     ]
    },
    {
     "name": "stderr",
     "output_type": "stream",
     "text": [
      "/mnt/home_geo/mariat/Codes/sac2wav/src_sac2wav.py:678: RuntimeWarning: invalid value encountered in true_divide\n",
      "  data = collect_tr[:,i] / abs(collect_tr[:,i]).max()\n"
     ]
    },
    {
     "name": "stdout",
     "output_type": "stream",
     "text": [
      "\t\tSearching in ['HHE', 'HHN', 'HHZ', 'HDH']\n",
      "\t\t\tFound ILTH.HHE\n",
      "\t\t\tFound ILTH.HHN\n",
      "\t\t\tFound ILTH.HHZ\n",
      "\t\t\tAdding a zero trace for the hydrophone channel...\n"
     ]
    },
    {
     "name": "stderr",
     "output_type": "stream",
     "text": [
      "/mnt/home_geo/mariat/Codes/sac2wav/src_sac2wav.py:678: RuntimeWarning: invalid value encountered in true_divide\n",
      "  data = collect_tr[:,i] / abs(collect_tr[:,i]).max()\n"
     ]
    },
    {
     "name": "stdout",
     "output_type": "stream",
     "text": [
      "\t\tSearching in ['LHE', 'LHN', 'LHZ', 'LDH']\n",
      "\t\t\tFound ILTH.LHE\n",
      "\t\t\tFound ILTH.LHN\n",
      "\t\t\tFound ILTH.LHZ\n",
      "\t\t\tAdding a zero trace for the hydrophone channel...\n"
     ]
    },
    {
     "name": "stderr",
     "output_type": "stream",
     "text": [
      "/mnt/home_geo/mariat/Codes/sac2wav/src_sac2wav.py:678: RuntimeWarning: invalid value encountered in true_divide\n",
      "  data = collect_tr[:,i] / abs(collect_tr[:,i]).max()\n"
     ]
    },
    {
     "name": "stdout",
     "output_type": "stream",
     "text": [
      "\tReading for IWEX\n",
      "\t\tSearching in ['BHE', 'BHN', 'BHZ', 'BDH']\n",
      "\t\t\tFound IWEX.BHE\n",
      "\t\t\tFound IWEX.BHN\n",
      "\t\t\tFound IWEX.BHZ\n",
      "\t\t\tAdding a zero trace for the hydrophone channel...\n"
     ]
    },
    {
     "name": "stderr",
     "output_type": "stream",
     "text": [
      "/mnt/home_geo/mariat/Codes/sac2wav/src_sac2wav.py:678: RuntimeWarning: invalid value encountered in true_divide\n",
      "  data = collect_tr[:,i] / abs(collect_tr[:,i]).max()\n"
     ]
    },
    {
     "name": "stdout",
     "output_type": "stream",
     "text": [
      "\t\tSearching in ['HHE', 'HHN', 'HHZ', 'HDH']\n",
      "\t\t\tFound IWEX.HHE\n",
      "\t\t\tFound IWEX.HHN\n",
      "\t\t\tFound IWEX.HHZ\n",
      "\t\t\tAdding a zero trace for the hydrophone channel...\n"
     ]
    },
    {
     "name": "stderr",
     "output_type": "stream",
     "text": [
      "/mnt/home_geo/mariat/Codes/sac2wav/src_sac2wav.py:678: RuntimeWarning: invalid value encountered in true_divide\n",
      "  data = collect_tr[:,i] / abs(collect_tr[:,i]).max()\n"
     ]
    },
    {
     "name": "stdout",
     "output_type": "stream",
     "text": [
      "\t\tSearching in ['LHE', 'LHN', 'LHZ', 'LDH']\n",
      "\t\t\tFound IWEX.LHE\n",
      "\t\t\tFound IWEX.LHN\n",
      "\t\t\tFound IWEX.LHZ\n",
      "\t\t\tAdding a zero trace for the hydrophone channel...\n"
     ]
    },
    {
     "name": "stderr",
     "output_type": "stream",
     "text": [
      "/mnt/home_geo/mariat/Codes/sac2wav/src_sac2wav.py:678: RuntimeWarning: invalid value encountered in true_divide\n",
      "  data = collect_tr[:,i] / abs(collect_tr[:,i]).max()\n"
     ]
    },
    {
     "name": "stdout",
     "output_type": "stream",
     "text": [
      "\tReading for VAL\n",
      "\t\tSearching in ['BHE', 'BHN', 'BHZ', 'BDH']\n",
      "\t\t\tFound VAL.BHE\n",
      "\t\t\tFound VAL.BHN\n",
      "\t\t\tFound VAL.BHZ\n",
      "\t\t\tAdding a zero trace for the hydrophone channel...\n"
     ]
    },
    {
     "name": "stderr",
     "output_type": "stream",
     "text": [
      "/mnt/home_geo/mariat/Codes/sac2wav/src_sac2wav.py:678: RuntimeWarning: invalid value encountered in true_divide\n",
      "  data = collect_tr[:,i] / abs(collect_tr[:,i]).max()\n"
     ]
    },
    {
     "name": "stdout",
     "output_type": "stream",
     "text": [
      "\t\tSearching in ['HHE', 'HHN', 'HHZ', 'HDH']\n",
      "\t\t\tFound VAL.HHE\n",
      "\t\t\tFound VAL.HHN\n",
      "\t\t\tFound VAL.HHZ\n",
      "\t\t\tAdding a zero trace for the hydrophone channel...\n"
     ]
    },
    {
     "name": "stderr",
     "output_type": "stream",
     "text": [
      "/mnt/home_geo/mariat/Codes/sac2wav/src_sac2wav.py:678: RuntimeWarning: invalid value encountered in true_divide\n",
      "  data = collect_tr[:,i] / abs(collect_tr[:,i]).max()\n"
     ]
    },
    {
     "name": "stdout",
     "output_type": "stream",
     "text": [
      "\t\tSearching in ['LHE', 'LHN', 'LHZ', 'LDH']\n",
      "\t\t\tFound VAL.LHE\n",
      "\t\t\tFound VAL.LHN\n",
      "\t\t\tFound VAL.LHZ\n",
      "\t\t\tAdding a zero trace for the hydrophone channel...\n"
     ]
    },
    {
     "name": "stderr",
     "output_type": "stream",
     "text": [
      "/mnt/home_geo/mariat/Codes/sac2wav/src_sac2wav.py:678: RuntimeWarning: invalid value encountered in true_divide\n",
      "  data = collect_tr[:,i] / abs(collect_tr[:,i]).max()\n"
     ]
    },
    {
     "name": "stdout",
     "output_type": "stream",
     "text": [
      "Searching SACs in continuous03\n",
      "\tReading for DSB\n",
      "\t\tSearching in ['BHE', 'BHN', 'BHZ', 'BDH']\n",
      "\t\t\tFound DSB.BHE\n",
      "\t\t\tFound DSB.BHN\n",
      "\t\t\tFound DSB.BHZ\n",
      "\t\t\tAdding a zero trace for the hydrophone channel...\n"
     ]
    },
    {
     "name": "stderr",
     "output_type": "stream",
     "text": [
      "/mnt/home_geo/mariat/Codes/sac2wav/src_sac2wav.py:678: RuntimeWarning: invalid value encountered in true_divide\n",
      "  data = collect_tr[:,i] / abs(collect_tr[:,i]).max()\n"
     ]
    },
    {
     "name": "stdout",
     "output_type": "stream",
     "text": [
      "\t\tSearching in ['HHE', 'HHN', 'HHZ', 'HDH']\n",
      "\t\t\tFound DSB.HHE\n",
      "\t\t\tFound DSB.HHN\n",
      "\t\t\tFound DSB.HHZ\n",
      "\t\t\tAdding a zero trace for the hydrophone channel...\n"
     ]
    },
    {
     "name": "stderr",
     "output_type": "stream",
     "text": [
      "/mnt/home_geo/mariat/Codes/sac2wav/src_sac2wav.py:678: RuntimeWarning: invalid value encountered in true_divide\n",
      "  data = collect_tr[:,i] / abs(collect_tr[:,i]).max()\n"
     ]
    },
    {
     "name": "stdout",
     "output_type": "stream",
     "text": [
      "\t\tSearching in ['LHE', 'LHN', 'LHZ', 'LDH']\n",
      "\t\t\tFound DSB.LHE\n",
      "\t\t\tFound DSB.LHN\n",
      "\t\t\tFound DSB.LHZ\n",
      "\t\t\tAdding a zero trace for the hydrophone channel...\n"
     ]
    },
    {
     "name": "stderr",
     "output_type": "stream",
     "text": [
      "/mnt/home_geo/mariat/Codes/sac2wav/src_sac2wav.py:678: RuntimeWarning: invalid value encountered in true_divide\n",
      "  data = collect_tr[:,i] / abs(collect_tr[:,i]).max()\n"
     ]
    },
    {
     "name": "stdout",
     "output_type": "stream",
     "text": [
      "\tReading for IDGL\n",
      "\t\tSearching in ['BHE', 'BHN', 'BHZ', 'BDH']\n",
      "\t\t\tFound IDGL.BHE\n",
      "\t\t\tFound IDGL.BHN\n",
      "\t\t\tFound IDGL.BHZ\n",
      "\t\t\tAdding a zero trace for the hydrophone channel...\n"
     ]
    },
    {
     "name": "stderr",
     "output_type": "stream",
     "text": [
      "/mnt/home_geo/mariat/Codes/sac2wav/src_sac2wav.py:678: RuntimeWarning: invalid value encountered in true_divide\n",
      "  data = collect_tr[:,i] / abs(collect_tr[:,i]).max()\n"
     ]
    },
    {
     "name": "stdout",
     "output_type": "stream",
     "text": [
      "\t\tSearching in ['HHE', 'HHN', 'HHZ', 'HDH']\n",
      "\t\t\tFound IDGL.HHE\n",
      "\t\t\tFound IDGL.HHN\n",
      "\t\t\tFound IDGL.HHZ\n",
      "\t\t\tAdding a zero trace for the hydrophone channel...\n"
     ]
    },
    {
     "name": "stderr",
     "output_type": "stream",
     "text": [
      "/mnt/home_geo/mariat/Codes/sac2wav/src_sac2wav.py:678: RuntimeWarning: invalid value encountered in true_divide\n",
      "  data = collect_tr[:,i] / abs(collect_tr[:,i]).max()\n"
     ]
    },
    {
     "name": "stdout",
     "output_type": "stream",
     "text": [
      "\t\tSearching in ['LHE', 'LHN', 'LHZ', 'LDH']\n",
      "\t\t\tFound IDGL.LHE\n",
      "\t\t\tFound IDGL.LHN\n",
      "\t\t\tFound IDGL.LHZ\n",
      "\t\t\tAdding a zero trace for the hydrophone channel...\n"
     ]
    },
    {
     "name": "stderr",
     "output_type": "stream",
     "text": [
      "/mnt/home_geo/mariat/Codes/sac2wav/src_sac2wav.py:678: RuntimeWarning: invalid value encountered in true_divide\n",
      "  data = collect_tr[:,i] / abs(collect_tr[:,i]).max()\n"
     ]
    },
    {
     "name": "stdout",
     "output_type": "stream",
     "text": [
      "\tReading for IGLA\n",
      "\t\tSearching in ['BHE', 'BHN', 'BHZ', 'BDH']\n",
      "\t\t\tFound IGLA.BHE\n",
      "\t\t\tFound IGLA.BHN\n",
      "\t\t\tFound IGLA.BHZ\n",
      "\t\t\tAdding a zero trace for the hydrophone channel...\n"
     ]
    },
    {
     "name": "stderr",
     "output_type": "stream",
     "text": [
      "/mnt/home_geo/mariat/Codes/sac2wav/src_sac2wav.py:678: RuntimeWarning: invalid value encountered in true_divide\n",
      "  data = collect_tr[:,i] / abs(collect_tr[:,i]).max()\n"
     ]
    },
    {
     "name": "stdout",
     "output_type": "stream",
     "text": [
      "\t\tSearching in ['HHE', 'HHN', 'HHZ', 'HDH']\n",
      "\t\t\tFound IGLA.HHE\n",
      "\t\t\tFound IGLA.HHN\n",
      "\t\t\tFound IGLA.HHZ\n",
      "\t\t\tAdding a zero trace for the hydrophone channel...\n"
     ]
    },
    {
     "name": "stderr",
     "output_type": "stream",
     "text": [
      "/mnt/home_geo/mariat/Codes/sac2wav/src_sac2wav.py:678: RuntimeWarning: invalid value encountered in true_divide\n",
      "  data = collect_tr[:,i] / abs(collect_tr[:,i]).max()\n"
     ]
    },
    {
     "name": "stdout",
     "output_type": "stream",
     "text": [
      "\t\tSearching in ['LHE', 'LHN', 'LHZ', 'LDH']\n",
      "\t\t\tFound IGLA.LHE\n",
      "\t\t\tFound IGLA.LHN\n",
      "\t\t\tFound IGLA.LHZ\n",
      "\t\t\tAdding a zero trace for the hydrophone channel...\n"
     ]
    },
    {
     "name": "stderr",
     "output_type": "stream",
     "text": [
      "/mnt/home_geo/mariat/Codes/sac2wav/src_sac2wav.py:678: RuntimeWarning: invalid value encountered in true_divide\n",
      "  data = collect_tr[:,i] / abs(collect_tr[:,i]).max()\n"
     ]
    },
    {
     "name": "stdout",
     "output_type": "stream",
     "text": [
      "\tReading for ILTH\n",
      "\t\tSearching in ['BHE', 'BHN', 'BHZ', 'BDH']\n",
      "\t\t\tFound ILTH.BHE\n",
      "\t\t\tFound ILTH.BHN\n",
      "\t\t\tFound ILTH.BHZ\n",
      "\t\t\tAdding a zero trace for the hydrophone channel...\n"
     ]
    },
    {
     "name": "stderr",
     "output_type": "stream",
     "text": [
      "/mnt/home_geo/mariat/Codes/sac2wav/src_sac2wav.py:678: RuntimeWarning: invalid value encountered in true_divide\n",
      "  data = collect_tr[:,i] / abs(collect_tr[:,i]).max()\n"
     ]
    },
    {
     "name": "stdout",
     "output_type": "stream",
     "text": [
      "\t\tSearching in ['HHE', 'HHN', 'HHZ', 'HDH']\n",
      "\t\t\tFound ILTH.HHE\n",
      "\t\t\tFound ILTH.HHN\n",
      "\t\t\tFound ILTH.HHZ\n",
      "\t\t\tAdding a zero trace for the hydrophone channel...\n"
     ]
    },
    {
     "name": "stderr",
     "output_type": "stream",
     "text": [
      "/mnt/home_geo/mariat/Codes/sac2wav/src_sac2wav.py:678: RuntimeWarning: invalid value encountered in true_divide\n",
      "  data = collect_tr[:,i] / abs(collect_tr[:,i]).max()\n"
     ]
    },
    {
     "name": "stdout",
     "output_type": "stream",
     "text": [
      "\t\tSearching in ['LHE', 'LHN', 'LHZ', 'LDH']\n",
      "\t\t\tFound ILTH.LHE\n",
      "\t\t\tFound ILTH.LHN\n",
      "\t\t\tFound ILTH.LHZ\n",
      "\t\t\tAdding a zero trace for the hydrophone channel...\n"
     ]
    },
    {
     "name": "stderr",
     "output_type": "stream",
     "text": [
      "/mnt/home_geo/mariat/Codes/sac2wav/src_sac2wav.py:678: RuntimeWarning: invalid value encountered in true_divide\n",
      "  data = collect_tr[:,i] / abs(collect_tr[:,i]).max()\n"
     ]
    },
    {
     "name": "stdout",
     "output_type": "stream",
     "text": [
      "\tReading for IWEX\n",
      "\t\tSearching in ['BHE', 'BHN', 'BHZ', 'BDH']\n",
      "\t\t\tFound IWEX.BHE\n",
      "\t\t\tFound IWEX.BHN\n",
      "\t\t\tFound IWEX.BHZ\n",
      "\t\t\tAdding a zero trace for the hydrophone channel...\n"
     ]
    },
    {
     "name": "stderr",
     "output_type": "stream",
     "text": [
      "/mnt/home_geo/mariat/Codes/sac2wav/src_sac2wav.py:678: RuntimeWarning: invalid value encountered in true_divide\n",
      "  data = collect_tr[:,i] / abs(collect_tr[:,i]).max()\n"
     ]
    },
    {
     "name": "stdout",
     "output_type": "stream",
     "text": [
      "\t\tSearching in ['HHE', 'HHN', 'HHZ', 'HDH']\n",
      "\t\t\tFound IWEX.HHE\n",
      "\t\t\tFound IWEX.HHN\n",
      "\t\t\tFound IWEX.HHZ\n",
      "\t\t\tAdding a zero trace for the hydrophone channel...\n"
     ]
    },
    {
     "name": "stderr",
     "output_type": "stream",
     "text": [
      "/mnt/home_geo/mariat/Codes/sac2wav/src_sac2wav.py:678: RuntimeWarning: invalid value encountered in true_divide\n",
      "  data = collect_tr[:,i] / abs(collect_tr[:,i]).max()\n"
     ]
    },
    {
     "name": "stdout",
     "output_type": "stream",
     "text": [
      "\t\tSearching in ['LHE', 'LHN', 'LHZ', 'LDH']\n",
      "\t\t\tFound IWEX.LHE\n",
      "\t\t\tFound IWEX.LHN\n",
      "\t\t\tFound IWEX.LHZ\n",
      "\t\t\tAdding a zero trace for the hydrophone channel...\n"
     ]
    },
    {
     "name": "stderr",
     "output_type": "stream",
     "text": [
      "/mnt/home_geo/mariat/Codes/sac2wav/src_sac2wav.py:678: RuntimeWarning: invalid value encountered in true_divide\n",
      "  data = collect_tr[:,i] / abs(collect_tr[:,i]).max()\n"
     ]
    },
    {
     "name": "stdout",
     "output_type": "stream",
     "text": [
      "\tReading for VAL\n",
      "\t\tSearching in ['BHE', 'BHN', 'BHZ', 'BDH']\n",
      "\t\t\tFound VAL.BHE\n",
      "\t\t\tFound VAL.BHN\n",
      "\t\t\tFound VAL.BHZ\n",
      "\t\t\tAdding a zero trace for the hydrophone channel...\n"
     ]
    },
    {
     "name": "stderr",
     "output_type": "stream",
     "text": [
      "/mnt/home_geo/mariat/Codes/sac2wav/src_sac2wav.py:678: RuntimeWarning: invalid value encountered in true_divide\n",
      "  data = collect_tr[:,i] / abs(collect_tr[:,i]).max()\n"
     ]
    },
    {
     "name": "stdout",
     "output_type": "stream",
     "text": [
      "\t\tSearching in ['HHE', 'HHN', 'HHZ', 'HDH']\n",
      "\t\t\tFound VAL.HHE\n",
      "\t\t\tFound VAL.HHN\n",
      "\t\t\tFound VAL.HHZ\n",
      "\t\t\tAdding a zero trace for the hydrophone channel...\n"
     ]
    },
    {
     "name": "stderr",
     "output_type": "stream",
     "text": [
      "/mnt/home_geo/mariat/Codes/sac2wav/src_sac2wav.py:678: RuntimeWarning: invalid value encountered in true_divide\n",
      "  data = collect_tr[:,i] / abs(collect_tr[:,i]).max()\n"
     ]
    },
    {
     "name": "stdout",
     "output_type": "stream",
     "text": [
      "\t\tSearching in ['LHE', 'LHN', 'LHZ', 'LDH']\n",
      "\t\t\tFound VAL.LHE\n",
      "\t\t\tFound VAL.LHN\n",
      "\t\t\tFound VAL.LHZ\n",
      "\t\t\tAdding a zero trace for the hydrophone channel...\n"
     ]
    },
    {
     "name": "stderr",
     "output_type": "stream",
     "text": [
      "/mnt/home_geo/mariat/Codes/sac2wav/src_sac2wav.py:678: RuntimeWarning: invalid value encountered in true_divide\n",
      "  data = collect_tr[:,i] / abs(collect_tr[:,i]).max()\n"
     ]
    },
    {
     "name": "stdout",
     "output_type": "stream",
     "text": [
      "Searching SACs in continuous04\n",
      "\tReading for DSB\n",
      "\t\tSearching in ['BHE', 'BHN', 'BHZ', 'BDH']\n",
      "\t\t\tFound DSB.BHE\n",
      "\t\t\tFound DSB.BHN\n",
      "\t\t\tFound DSB.BHZ\n",
      "\t\t\tAdding a zero trace for the hydrophone channel...\n"
     ]
    },
    {
     "name": "stderr",
     "output_type": "stream",
     "text": [
      "/mnt/home_geo/mariat/Codes/sac2wav/src_sac2wav.py:678: RuntimeWarning: invalid value encountered in true_divide\n",
      "  data = collect_tr[:,i] / abs(collect_tr[:,i]).max()\n"
     ]
    },
    {
     "name": "stdout",
     "output_type": "stream",
     "text": [
      "\t\tSearching in ['HHE', 'HHN', 'HHZ', 'HDH']\n",
      "\t\t\tFound DSB.HHE\n",
      "\t\t\tFound DSB.HHN\n",
      "\t\t\tFound DSB.HHZ\n",
      "\t\t\tAdding a zero trace for the hydrophone channel...\n"
     ]
    },
    {
     "name": "stderr",
     "output_type": "stream",
     "text": [
      "/mnt/home_geo/mariat/Codes/sac2wav/src_sac2wav.py:678: RuntimeWarning: invalid value encountered in true_divide\n",
      "  data = collect_tr[:,i] / abs(collect_tr[:,i]).max()\n"
     ]
    },
    {
     "name": "stdout",
     "output_type": "stream",
     "text": [
      "\t\tSearching in ['LHE', 'LHN', 'LHZ', 'LDH']\n",
      "\t\t\tFound DSB.LHE\n",
      "\t\t\tFound DSB.LHN\n",
      "\t\t\tFound DSB.LHZ\n",
      "\t\t\tAdding a zero trace for the hydrophone channel...\n"
     ]
    },
    {
     "name": "stderr",
     "output_type": "stream",
     "text": [
      "/mnt/home_geo/mariat/Codes/sac2wav/src_sac2wav.py:678: RuntimeWarning: invalid value encountered in true_divide\n",
      "  data = collect_tr[:,i] / abs(collect_tr[:,i]).max()\n"
     ]
    },
    {
     "name": "stdout",
     "output_type": "stream",
     "text": [
      "\tReading for IDGL\n",
      "\t\tSearching in ['BHE', 'BHN', 'BHZ', 'BDH']\n",
      "\t\t\tFound IDGL.BHE\n",
      "\t\t\tFound IDGL.BHN\n",
      "\t\t\tFound IDGL.BHZ\n",
      "\t\t\tAdding a zero trace for the hydrophone channel...\n"
     ]
    },
    {
     "name": "stderr",
     "output_type": "stream",
     "text": [
      "/mnt/home_geo/mariat/Codes/sac2wav/src_sac2wav.py:678: RuntimeWarning: invalid value encountered in true_divide\n",
      "  data = collect_tr[:,i] / abs(collect_tr[:,i]).max()\n"
     ]
    },
    {
     "name": "stdout",
     "output_type": "stream",
     "text": [
      "\t\tSearching in ['HHE', 'HHN', 'HHZ', 'HDH']\n",
      "\t\t\tFound IDGL.HHE\n",
      "\t\t\tFound IDGL.HHN\n",
      "\t\t\tFound IDGL.HHZ\n",
      "\t\t\tAdding a zero trace for the hydrophone channel...\n"
     ]
    },
    {
     "name": "stderr",
     "output_type": "stream",
     "text": [
      "/mnt/home_geo/mariat/Codes/sac2wav/src_sac2wav.py:678: RuntimeWarning: invalid value encountered in true_divide\n",
      "  data = collect_tr[:,i] / abs(collect_tr[:,i]).max()\n"
     ]
    },
    {
     "name": "stdout",
     "output_type": "stream",
     "text": [
      "\t\tSearching in ['LHE', 'LHN', 'LHZ', 'LDH']\n",
      "\t\t\tFound IDGL.LHE\n",
      "\t\t\tFound IDGL.LHN\n",
      "\t\t\tFound IDGL.LHZ\n",
      "\t\t\tAdding a zero trace for the hydrophone channel...\n"
     ]
    },
    {
     "name": "stderr",
     "output_type": "stream",
     "text": [
      "/mnt/home_geo/mariat/Codes/sac2wav/src_sac2wav.py:678: RuntimeWarning: invalid value encountered in true_divide\n",
      "  data = collect_tr[:,i] / abs(collect_tr[:,i]).max()\n"
     ]
    },
    {
     "name": "stdout",
     "output_type": "stream",
     "text": [
      "\tReading for IGLA\n",
      "\t\tSearching in ['BHE', 'BHN', 'BHZ', 'BDH']\n",
      "\t\t\tFound IGLA.BHE\n",
      "\t\t\tFound IGLA.BHN\n",
      "\t\t\tFound IGLA.BHZ\n",
      "\t\t\tAdding a zero trace for the hydrophone channel...\n"
     ]
    },
    {
     "name": "stderr",
     "output_type": "stream",
     "text": [
      "/mnt/home_geo/mariat/Codes/sac2wav/src_sac2wav.py:678: RuntimeWarning: invalid value encountered in true_divide\n",
      "  data = collect_tr[:,i] / abs(collect_tr[:,i]).max()\n"
     ]
    },
    {
     "name": "stdout",
     "output_type": "stream",
     "text": [
      "\t\tSearching in ['HHE', 'HHN', 'HHZ', 'HDH']\n",
      "\t\t\tFound IGLA.HHE\n",
      "\t\t\tFound IGLA.HHN\n",
      "\t\t\tFound IGLA.HHZ\n",
      "\t\t\tAdding a zero trace for the hydrophone channel...\n"
     ]
    },
    {
     "name": "stderr",
     "output_type": "stream",
     "text": [
      "/mnt/home_geo/mariat/Codes/sac2wav/src_sac2wav.py:678: RuntimeWarning: invalid value encountered in true_divide\n",
      "  data = collect_tr[:,i] / abs(collect_tr[:,i]).max()\n"
     ]
    },
    {
     "name": "stdout",
     "output_type": "stream",
     "text": [
      "\t\tSearching in ['LHE', 'LHN', 'LHZ', 'LDH']\n",
      "\t\t\tFound IGLA.LHE\n",
      "\t\t\tFound IGLA.LHN\n",
      "\t\t\tFound IGLA.LHZ\n",
      "\t\t\tAdding a zero trace for the hydrophone channel...\n"
     ]
    },
    {
     "name": "stderr",
     "output_type": "stream",
     "text": [
      "/mnt/home_geo/mariat/Codes/sac2wav/src_sac2wav.py:678: RuntimeWarning: invalid value encountered in true_divide\n",
      "  data = collect_tr[:,i] / abs(collect_tr[:,i]).max()\n"
     ]
    },
    {
     "name": "stdout",
     "output_type": "stream",
     "text": [
      "\tReading for ILTH\n",
      "\t\tSearching in ['BHE', 'BHN', 'BHZ', 'BDH']\n",
      "\t\t\tFound ILTH.BHE\n",
      "\t\t\tFound ILTH.BHN\n",
      "\t\t\tFound ILTH.BHZ\n",
      "\t\t\tAdding a zero trace for the hydrophone channel...\n"
     ]
    },
    {
     "name": "stderr",
     "output_type": "stream",
     "text": [
      "/mnt/home_geo/mariat/Codes/sac2wav/src_sac2wav.py:678: RuntimeWarning: invalid value encountered in true_divide\n",
      "  data = collect_tr[:,i] / abs(collect_tr[:,i]).max()\n"
     ]
    },
    {
     "name": "stdout",
     "output_type": "stream",
     "text": [
      "\t\tSearching in ['HHE', 'HHN', 'HHZ', 'HDH']\n",
      "\t\t\tFound ILTH.HHE\n",
      "\t\t\tFound ILTH.HHN\n",
      "\t\t\tFound ILTH.HHZ\n",
      "\t\t\tAdding a zero trace for the hydrophone channel...\n"
     ]
    },
    {
     "name": "stderr",
     "output_type": "stream",
     "text": [
      "/mnt/home_geo/mariat/Codes/sac2wav/src_sac2wav.py:678: RuntimeWarning: invalid value encountered in true_divide\n",
      "  data = collect_tr[:,i] / abs(collect_tr[:,i]).max()\n"
     ]
    },
    {
     "name": "stdout",
     "output_type": "stream",
     "text": [
      "\t\tSearching in ['LHE', 'LHN', 'LHZ', 'LDH']\n",
      "\t\t\tFound ILTH.LHE\n",
      "\t\t\tFound ILTH.LHN\n",
      "\t\t\tFound ILTH.LHZ\n",
      "\t\t\tAdding a zero trace for the hydrophone channel...\n"
     ]
    },
    {
     "name": "stderr",
     "output_type": "stream",
     "text": [
      "/mnt/home_geo/mariat/Codes/sac2wav/src_sac2wav.py:678: RuntimeWarning: invalid value encountered in true_divide\n",
      "  data = collect_tr[:,i] / abs(collect_tr[:,i]).max()\n"
     ]
    },
    {
     "name": "stdout",
     "output_type": "stream",
     "text": [
      "\tReading for IWEX\n",
      "\t\tSearching in ['BHE', 'BHN', 'BHZ', 'BDH']\n",
      "\t\t\tFound IWEX.BHE\n",
      "\t\t\tFound IWEX.BHN\n",
      "\t\t\tFound IWEX.BHZ\n",
      "\t\t\tAdding a zero trace for the hydrophone channel...\n"
     ]
    },
    {
     "name": "stderr",
     "output_type": "stream",
     "text": [
      "/mnt/home_geo/mariat/Codes/sac2wav/src_sac2wav.py:678: RuntimeWarning: invalid value encountered in true_divide\n",
      "  data = collect_tr[:,i] / abs(collect_tr[:,i]).max()\n"
     ]
    },
    {
     "name": "stdout",
     "output_type": "stream",
     "text": [
      "\t\tSearching in ['HHE', 'HHN', 'HHZ', 'HDH']\n",
      "\t\t\tFound IWEX.HHE\n",
      "\t\t\tFound IWEX.HHN\n",
      "\t\t\tFound IWEX.HHZ\n",
      "\t\t\tAdding a zero trace for the hydrophone channel...\n"
     ]
    },
    {
     "name": "stderr",
     "output_type": "stream",
     "text": [
      "/mnt/home_geo/mariat/Codes/sac2wav/src_sac2wav.py:678: RuntimeWarning: invalid value encountered in true_divide\n",
      "  data = collect_tr[:,i] / abs(collect_tr[:,i]).max()\n"
     ]
    },
    {
     "name": "stdout",
     "output_type": "stream",
     "text": [
      "\t\tSearching in ['LHE', 'LHN', 'LHZ', 'LDH']\n",
      "\t\t\tFound IWEX.LHE\n",
      "\t\t\tFound IWEX.LHN\n",
      "\t\t\tFound IWEX.LHZ\n",
      "\t\t\tAdding a zero trace for the hydrophone channel...\n"
     ]
    },
    {
     "name": "stderr",
     "output_type": "stream",
     "text": [
      "/mnt/home_geo/mariat/Codes/sac2wav/src_sac2wav.py:678: RuntimeWarning: invalid value encountered in true_divide\n",
      "  data = collect_tr[:,i] / abs(collect_tr[:,i]).max()\n"
     ]
    },
    {
     "name": "stdout",
     "output_type": "stream",
     "text": [
      "\tReading for VAL\n",
      "\t\tSearching in ['BHE', 'BHN', 'BHZ', 'BDH']\n",
      "\t\t\tFound VAL.BHE\n",
      "\t\t\tFound VAL.BHN\n",
      "\t\t\tFound VAL.BHZ\n",
      "\t\t\tAdding a zero trace for the hydrophone channel...\n"
     ]
    },
    {
     "name": "stderr",
     "output_type": "stream",
     "text": [
      "/mnt/home_geo/mariat/Codes/sac2wav/src_sac2wav.py:678: RuntimeWarning: invalid value encountered in true_divide\n",
      "  data = collect_tr[:,i] / abs(collect_tr[:,i]).max()\n"
     ]
    },
    {
     "name": "stdout",
     "output_type": "stream",
     "text": [
      "\t\tSearching in ['HHE', 'HHN', 'HHZ', 'HDH']\n",
      "\t\t\tFound VAL.HHE\n",
      "\t\t\tFound VAL.HHN\n",
      "\t\t\tFound VAL.HHZ\n",
      "\t\t\tAdding a zero trace for the hydrophone channel...\n"
     ]
    },
    {
     "name": "stderr",
     "output_type": "stream",
     "text": [
      "/mnt/home_geo/mariat/Codes/sac2wav/src_sac2wav.py:678: RuntimeWarning: invalid value encountered in true_divide\n",
      "  data = collect_tr[:,i] / abs(collect_tr[:,i]).max()\n"
     ]
    },
    {
     "name": "stdout",
     "output_type": "stream",
     "text": [
      "\t\tSearching in ['LHE', 'LHN', 'LHZ', 'LDH']\n",
      "\t\t\tFound VAL.LHE\n",
      "\t\t\tFound VAL.LHN\n",
      "\t\t\tFound VAL.LHZ\n",
      "\t\t\tAdding a zero trace for the hydrophone channel...\n"
     ]
    },
    {
     "name": "stderr",
     "output_type": "stream",
     "text": [
      "/mnt/home_geo/mariat/Codes/sac2wav/src_sac2wav.py:678: RuntimeWarning: invalid value encountered in true_divide\n",
      "  data = collect_tr[:,i] / abs(collect_tr[:,i]).max()\n"
     ]
    },
    {
     "name": "stdout",
     "output_type": "stream",
     "text": [
      "Searching SACs in continuous05\n",
      "\tReading for DSB\n",
      "\t\tSearching in ['BHE', 'BHN', 'BHZ', 'BDH']\n",
      "\t\t\tFound DSB.BHE\n",
      "\t\t\tFound DSB.BHN\n",
      "\t\t\tFound DSB.BHZ\n",
      "\t\t\tAdding a zero trace for the hydrophone channel...\n"
     ]
    },
    {
     "name": "stderr",
     "output_type": "stream",
     "text": [
      "/mnt/home_geo/mariat/Codes/sac2wav/src_sac2wav.py:678: RuntimeWarning: invalid value encountered in true_divide\n",
      "  data = collect_tr[:,i] / abs(collect_tr[:,i]).max()\n"
     ]
    },
    {
     "name": "stdout",
     "output_type": "stream",
     "text": [
      "\t\tSearching in ['HHE', 'HHN', 'HHZ', 'HDH']\n",
      "\t\t\tFound DSB.HHE\n",
      "\t\t\tFound DSB.HHN\n",
      "\t\t\tFound DSB.HHZ\n",
      "\t\t\tAdding a zero trace for the hydrophone channel...\n"
     ]
    },
    {
     "name": "stderr",
     "output_type": "stream",
     "text": [
      "/mnt/home_geo/mariat/Codes/sac2wav/src_sac2wav.py:678: RuntimeWarning: invalid value encountered in true_divide\n",
      "  data = collect_tr[:,i] / abs(collect_tr[:,i]).max()\n"
     ]
    },
    {
     "name": "stdout",
     "output_type": "stream",
     "text": [
      "\t\tSearching in ['LHE', 'LHN', 'LHZ', 'LDH']\n",
      "\t\t\tFound DSB.LHE\n",
      "\t\t\tFound DSB.LHN\n",
      "\t\t\tFound DSB.LHZ\n",
      "\t\t\tAdding a zero trace for the hydrophone channel...\n"
     ]
    },
    {
     "name": "stderr",
     "output_type": "stream",
     "text": [
      "/mnt/home_geo/mariat/Codes/sac2wav/src_sac2wav.py:678: RuntimeWarning: invalid value encountered in true_divide\n",
      "  data = collect_tr[:,i] / abs(collect_tr[:,i]).max()\n"
     ]
    },
    {
     "name": "stdout",
     "output_type": "stream",
     "text": [
      "\tReading for IDGL\n",
      "\t\tSearching in ['BHE', 'BHN', 'BHZ', 'BDH']\n",
      "\t\t\tFound IDGL.BHE\n",
      "\t\t\tFound IDGL.BHN\n",
      "\t\t\tFound IDGL.BHZ\n",
      "\t\t\tAdding a zero trace for the hydrophone channel...\n"
     ]
    },
    {
     "name": "stderr",
     "output_type": "stream",
     "text": [
      "/mnt/home_geo/mariat/Codes/sac2wav/src_sac2wav.py:678: RuntimeWarning: invalid value encountered in true_divide\n",
      "  data = collect_tr[:,i] / abs(collect_tr[:,i]).max()\n"
     ]
    },
    {
     "name": "stdout",
     "output_type": "stream",
     "text": [
      "\t\tSearching in ['HHE', 'HHN', 'HHZ', 'HDH']\n",
      "\t\t\tFound IDGL.HHE\n",
      "\t\t\tFound IDGL.HHN\n",
      "\t\t\tFound IDGL.HHZ\n",
      "\t\t\tAdding a zero trace for the hydrophone channel...\n"
     ]
    },
    {
     "name": "stderr",
     "output_type": "stream",
     "text": [
      "/mnt/home_geo/mariat/Codes/sac2wav/src_sac2wav.py:678: RuntimeWarning: invalid value encountered in true_divide\n",
      "  data = collect_tr[:,i] / abs(collect_tr[:,i]).max()\n"
     ]
    },
    {
     "name": "stdout",
     "output_type": "stream",
     "text": [
      "\t\tSearching in ['LHE', 'LHN', 'LHZ', 'LDH']\n",
      "\t\t\tFound IDGL.LHE\n",
      "\t\t\tFound IDGL.LHN\n",
      "\t\t\tFound IDGL.LHZ\n",
      "\t\t\tAdding a zero trace for the hydrophone channel...\n"
     ]
    },
    {
     "name": "stderr",
     "output_type": "stream",
     "text": [
      "/mnt/home_geo/mariat/Codes/sac2wav/src_sac2wav.py:678: RuntimeWarning: invalid value encountered in true_divide\n",
      "  data = collect_tr[:,i] / abs(collect_tr[:,i]).max()\n"
     ]
    },
    {
     "name": "stdout",
     "output_type": "stream",
     "text": [
      "\tReading for IGLA\n",
      "\t\tSearching in ['BHE', 'BHN', 'BHZ', 'BDH']\n",
      "\t\t\tFound IGLA.BHE\n",
      "\t\t\tFound IGLA.BHN\n",
      "\t\t\tFound IGLA.BHZ\n",
      "\t\t\tAdding a zero trace for the hydrophone channel...\n"
     ]
    },
    {
     "name": "stderr",
     "output_type": "stream",
     "text": [
      "/mnt/home_geo/mariat/Codes/sac2wav/src_sac2wav.py:678: RuntimeWarning: invalid value encountered in true_divide\n",
      "  data = collect_tr[:,i] / abs(collect_tr[:,i]).max()\n"
     ]
    },
    {
     "name": "stdout",
     "output_type": "stream",
     "text": [
      "\t\tSearching in ['HHE', 'HHN', 'HHZ', 'HDH']\n",
      "\t\t\tFound IGLA.HHE\n",
      "\t\t\tFound IGLA.HHN\n",
      "\t\t\tFound IGLA.HHZ\n",
      "\t\t\tAdding a zero trace for the hydrophone channel...\n"
     ]
    },
    {
     "name": "stderr",
     "output_type": "stream",
     "text": [
      "/mnt/home_geo/mariat/Codes/sac2wav/src_sac2wav.py:678: RuntimeWarning: invalid value encountered in true_divide\n",
      "  data = collect_tr[:,i] / abs(collect_tr[:,i]).max()\n"
     ]
    },
    {
     "name": "stdout",
     "output_type": "stream",
     "text": [
      "\t\tSearching in ['LHE', 'LHN', 'LHZ', 'LDH']\n",
      "\t\t\tFound IGLA.LHE\n",
      "\t\t\tFound IGLA.LHN\n",
      "\t\t\tFound IGLA.LHZ\n",
      "\t\t\tAdding a zero trace for the hydrophone channel...\n"
     ]
    },
    {
     "name": "stderr",
     "output_type": "stream",
     "text": [
      "/mnt/home_geo/mariat/Codes/sac2wav/src_sac2wav.py:678: RuntimeWarning: invalid value encountered in true_divide\n",
      "  data = collect_tr[:,i] / abs(collect_tr[:,i]).max()\n"
     ]
    },
    {
     "name": "stdout",
     "output_type": "stream",
     "text": [
      "\tReading for ILTH\n",
      "\t\tSearching in ['BHE', 'BHN', 'BHZ', 'BDH']\n",
      "\t\t\tFound ILTH.BHE\n",
      "\t\t\tFound ILTH.BHN\n",
      "\t\t\tFound ILTH.BHZ\n",
      "\t\t\tAdding a zero trace for the hydrophone channel...\n"
     ]
    },
    {
     "name": "stderr",
     "output_type": "stream",
     "text": [
      "/mnt/home_geo/mariat/Codes/sac2wav/src_sac2wav.py:678: RuntimeWarning: invalid value encountered in true_divide\n",
      "  data = collect_tr[:,i] / abs(collect_tr[:,i]).max()\n"
     ]
    },
    {
     "name": "stdout",
     "output_type": "stream",
     "text": [
      "\t\tSearching in ['HHE', 'HHN', 'HHZ', 'HDH']\n",
      "\t\t\tFound ILTH.HHE\n",
      "\t\t\tFound ILTH.HHN\n",
      "\t\t\tILTH does not have all channels (more than 2 channels are missing). \n",
      "\t\t\tContinue to next station without writing a WAV file.\n",
      "\t\tSearching in ['LHE', 'LHN', 'LHZ', 'LDH']\n",
      "\t\t\tFound ILTH.LHE\n",
      "\t\t\tFound ILTH.LHN\n",
      "\t\t\tFound ILTH.LHZ\n",
      "\t\t\tAdding a zero trace for the hydrophone channel...\n"
     ]
    },
    {
     "name": "stderr",
     "output_type": "stream",
     "text": [
      "/mnt/home_geo/mariat/Codes/sac2wav/src_sac2wav.py:678: RuntimeWarning: invalid value encountered in true_divide\n",
      "  data = collect_tr[:,i] / abs(collect_tr[:,i]).max()\n"
     ]
    },
    {
     "name": "stdout",
     "output_type": "stream",
     "text": [
      "\tReading for IWEX\n",
      "\t\tSearching in ['BHE', 'BHN', 'BHZ', 'BDH']\n",
      "\t\t\tFound IWEX.BHE\n",
      "\t\t\tFound IWEX.BHN\n",
      "\t\t\tFound IWEX.BHZ\n",
      "\t\t\tAdding a zero trace for the hydrophone channel...\n"
     ]
    },
    {
     "name": "stderr",
     "output_type": "stream",
     "text": [
      "/mnt/home_geo/mariat/Codes/sac2wav/src_sac2wav.py:678: RuntimeWarning: invalid value encountered in true_divide\n",
      "  data = collect_tr[:,i] / abs(collect_tr[:,i]).max()\n"
     ]
    },
    {
     "name": "stdout",
     "output_type": "stream",
     "text": [
      "\t\tSearching in ['HHE', 'HHN', 'HHZ', 'HDH']\n",
      "\t\t\tIWEX does not have all channels (more than 2 channels are missing). \n",
      "\t\t\tContinue to next station without writing a WAV file.\n",
      "\t\tSearching in ['LHE', 'LHN', 'LHZ', 'LDH']\n",
      "\t\t\tFound IWEX.LHZ\n",
      "\t\t\tIWEX does not have all channels (more than 2 channels are missing). \n",
      "\t\t\tContinue to next station without writing a WAV file.\n",
      "\tReading for VAL\n",
      "\t\tSearching in ['BHE', 'BHN', 'BHZ', 'BDH']\n",
      "\t\t\tVAL does not have all channels (more than 2 channels are missing). \n",
      "\t\t\tContinue to next station without writing a WAV file.\n",
      "\t\tSearching in ['HHE', 'HHN', 'HHZ', 'HDH']\n",
      "\t\t\tVAL does not have all channels (more than 2 channels are missing). \n",
      "\t\t\tContinue to next station without writing a WAV file.\n"
     ]
    }
   ],
   "source": [
    "# %%capture\n",
    "stars = '*'*len('Mode: ' + wav_mode)\n",
    "print(f'{stars}')\n",
    "print(f'Mode: {wav_mode}')\n",
    "print(f'{stars}')\n",
    "\n",
    "# creating a new panada dataframe based on above input \n",
    "df_wav = read_station_information(dmt_folder, '*')\n",
    "# you can change the '*' to a specific event, but this wildcard will give you everything \n",
    "\n",
    "if wav_mode == 'continuous':\n",
    "    # does generate continuous wav files;\n",
    "    # ATTNENTION uses all continuous* folders in save_path\n",
    "    export_continuous(df_wav, poly_wav, dmt_folder, folder_to_process, proc_wavs_continuous, station_selection,\n",
    "                      framerate, bitrate, wav_save, plot_waveforms)\n",
    "\n",
    "elif wav_mode == 'event':\n",
    "    # genereates wav files containing specific events\n",
    "    export_event(df_wav, poly_wav, dmt_folder, folder_to_process, proc_wavs_events, station_selection,\n",
    "                 framerate, bitrate, wav_save, plot_waveforms)\n",
    "\n",
    "elif wav_mode == 'day':\n",
    "    # genereates wav files containing specific days\n",
    "    export_day(df_wav, poly_wav, dmt_folder, folder_to_process, proc_wavs_days, station_selection,\n",
    "                 framerate, bitrate, wav_save, plot_waveforms)\n",
    "else: \n",
    "    sys.exit(f'Mode: {mode} does not exist or is not implemented. Forced exit!')"
   ]
  },
  {
   "cell_type": "markdown",
   "metadata": {},
   "source": [
    "## Plot a particular station that was already downloaded"
   ]
  },
  {
   "cell_type": "code",
   "execution_count": 126,
   "metadata": {},
   "outputs": [],
   "source": [
    "# ==================\n",
    "# Post-proc and plot\n",
    "# ==================\n",
    "save_figs = True\n",
    "\n",
    "plot_instrument_response = True  # if save_figs = True -> automatically saves in plot folder, otherwise will not be saved\n",
    "\n",
    "filtering = True\n",
    "filter_type = 'bandpass'  # or 'lowpass', 'highpass'\n",
    "freqmin =  1/50 # Hz\n",
    "freqmax = 1     # Hz"
   ]
  },
  {
   "cell_type": "markdown",
   "metadata": {},
   "source": [
    "Attention: The next dataframe (df_all) gives out all download and not necessary what you converted from SAC to WAV (df_wav). "
   ]
  },
  {
   "cell_type": "code",
   "execution_count": 127,
   "metadata": {},
   "outputs": [
    {
     "name": "stdout",
     "output_type": "stream",
     "text": [
      "Available stations:\n",
      "['NV31']\n",
      "Available channels:\n",
      "['BHE' 'BHN' 'BHZ']\n",
      "Available modes/events:\n",
      "['20210304_192833.a']\n"
     ]
    }
   ],
   "source": [
    "uniq_sta = df_all['station'].unique()\n",
    "uniq_cha = df_all['channel'].unique()\n",
    "uniq_modes = df_all['mode'].unique()\n",
    "print(f'Available stations:\\n{uniq_sta}')\n",
    "print(f'Available channels:\\n{uniq_cha}')\n",
    "print(f'Available modes/events:\\n{uniq_modes}')"
   ]
  },
  {
   "cell_type": "code",
   "execution_count": 128,
   "metadata": {},
   "outputs": [],
   "source": [
    "# you could also define another folder/event that was previously downloaded, default here is save_path\n",
    "path_to_folder = save_path\n",
    "\n",
    "# specify event\n",
    "event = '20210304_192833.a'  # or \"continuous01\"\n",
    "\n",
    "# specify folder\n",
    "folder = 'processed'  # 'processed' or \"raw\"\n",
    "\n",
    "# station\n",
    "sta = 'NV31'\n",
    "\n",
    "cha = 'B*'"
   ]
  },
  {
   "cell_type": "markdown",
   "metadata": {},
   "source": [
    "### Seismograms and Spectrum"
   ]
  },
  {
   "cell_type": "markdown",
   "metadata": {},
   "source": [
    "Here you plot all available channels of this one stations. Grouped stations and channels are automatically saved when converting from SAC to WAV."
   ]
  },
  {
   "cell_type": "code",
   "execution_count": 129,
   "metadata": {
    "scrolled": false
   },
   "outputs": [
    {
     "ename": "ValueError",
     "evalue": "figure size must be positive finite not (10, 0)",
     "output_type": "error",
     "traceback": [
      "\u001b[0;31m---------------------------------------------------------------------------\u001b[0m",
      "\u001b[0;31mValueError\u001b[0m                                Traceback (most recent call last)",
      "\u001b[0;32m<ipython-input-129-3bb42701354c>\u001b[0m in \u001b[0;36m<module>\u001b[0;34m\u001b[0m\n\u001b[1;32m      2\u001b[0m \u001b[0mchans\u001b[0m\u001b[0;34m.\u001b[0m\u001b[0msort\u001b[0m\u001b[0;34m(\u001b[0m\u001b[0;34m)\u001b[0m\u001b[0;34m\u001b[0m\u001b[0;34m\u001b[0m\u001b[0m\n\u001b[1;32m      3\u001b[0m \u001b[0;34m\u001b[0m\u001b[0m\n\u001b[0;32m----> 4\u001b[0;31m \u001b[0mfig\u001b[0m\u001b[0;34m,\u001b[0m \u001b[0maxs\u001b[0m \u001b[0;34m=\u001b[0m \u001b[0mplt\u001b[0m\u001b[0;34m.\u001b[0m\u001b[0msubplots\u001b[0m\u001b[0;34m(\u001b[0m\u001b[0mlen\u001b[0m\u001b[0;34m(\u001b[0m\u001b[0mchans\u001b[0m\u001b[0;34m)\u001b[0m\u001b[0;34m,\u001b[0m\u001b[0;36m2\u001b[0m\u001b[0;34m,\u001b[0m \u001b[0mfigsize\u001b[0m\u001b[0;34m=\u001b[0m\u001b[0;34m(\u001b[0m\u001b[0;36m10\u001b[0m\u001b[0;34m,\u001b[0m \u001b[0;36m3\u001b[0m\u001b[0;34m*\u001b[0m\u001b[0mlen\u001b[0m\u001b[0;34m(\u001b[0m\u001b[0mchans\u001b[0m\u001b[0;34m)\u001b[0m\u001b[0;34m)\u001b[0m\u001b[0;34m,\u001b[0m \u001b[0mfacecolor\u001b[0m\u001b[0;34m=\u001b[0m\u001b[0;34m'w'\u001b[0m\u001b[0;34m,\u001b[0m \u001b[0medgecolor\u001b[0m\u001b[0;34m=\u001b[0m\u001b[0;34m'k'\u001b[0m\u001b[0;34m)\u001b[0m\u001b[0;34m\u001b[0m\u001b[0;34m\u001b[0m\u001b[0m\n\u001b[0m\u001b[1;32m      5\u001b[0m \u001b[0maxs\u001b[0m \u001b[0;34m=\u001b[0m \u001b[0maxs\u001b[0m\u001b[0;34m.\u001b[0m\u001b[0mravel\u001b[0m\u001b[0;34m(\u001b[0m\u001b[0;34m)\u001b[0m\u001b[0;34m\u001b[0m\u001b[0;34m\u001b[0m\u001b[0m\n\u001b[1;32m      6\u001b[0m \u001b[0mfig\u001b[0m\u001b[0;34m.\u001b[0m\u001b[0msubplots_adjust\u001b[0m\u001b[0;34m(\u001b[0m\u001b[0mhspace\u001b[0m \u001b[0;34m=\u001b[0m \u001b[0;36m1\u001b[0m\u001b[0;34m,\u001b[0m \u001b[0mwspace\u001b[0m\u001b[0;34m=\u001b[0m\u001b[0;36m0.5\u001b[0m\u001b[0;34m)\u001b[0m\u001b[0;34m\u001b[0m\u001b[0;34m\u001b[0m\u001b[0m\n",
      "\u001b[0;32m/mnt/store/mariat/anaconda3/envs/py37/lib/python3.7/site-packages/matplotlib/pyplot.py\u001b[0m in \u001b[0;36msubplots\u001b[0;34m(nrows, ncols, sharex, sharey, squeeze, subplot_kw, gridspec_kw, **fig_kw)\u001b[0m\n\u001b[1;32m   1175\u001b[0m \u001b[0;34m\u001b[0m\u001b[0m\n\u001b[1;32m   1176\u001b[0m     \"\"\"\n\u001b[0;32m-> 1177\u001b[0;31m     \u001b[0mfig\u001b[0m \u001b[0;34m=\u001b[0m \u001b[0mfigure\u001b[0m\u001b[0;34m(\u001b[0m\u001b[0;34m**\u001b[0m\u001b[0mfig_kw\u001b[0m\u001b[0;34m)\u001b[0m\u001b[0;34m\u001b[0m\u001b[0;34m\u001b[0m\u001b[0m\n\u001b[0m\u001b[1;32m   1178\u001b[0m     axs = fig.subplots(nrows=nrows, ncols=ncols, sharex=sharex, sharey=sharey,\n\u001b[1;32m   1179\u001b[0m                        \u001b[0msqueeze\u001b[0m\u001b[0;34m=\u001b[0m\u001b[0msqueeze\u001b[0m\u001b[0;34m,\u001b[0m \u001b[0msubplot_kw\u001b[0m\u001b[0;34m=\u001b[0m\u001b[0msubplot_kw\u001b[0m\u001b[0;34m,\u001b[0m\u001b[0;34m\u001b[0m\u001b[0;34m\u001b[0m\u001b[0m\n",
      "\u001b[0;32m/mnt/store/mariat/anaconda3/envs/py37/lib/python3.7/site-packages/matplotlib/pyplot.py\u001b[0m in \u001b[0;36mfigure\u001b[0;34m(num, figsize, dpi, facecolor, edgecolor, frameon, FigureClass, clear, **kwargs)\u001b[0m\n\u001b[1;32m    544\u001b[0m                                         \u001b[0mframeon\u001b[0m\u001b[0;34m=\u001b[0m\u001b[0mframeon\u001b[0m\u001b[0;34m,\u001b[0m\u001b[0;34m\u001b[0m\u001b[0;34m\u001b[0m\u001b[0m\n\u001b[1;32m    545\u001b[0m                                         \u001b[0mFigureClass\u001b[0m\u001b[0;34m=\u001b[0m\u001b[0mFigureClass\u001b[0m\u001b[0;34m,\u001b[0m\u001b[0;34m\u001b[0m\u001b[0;34m\u001b[0m\u001b[0m\n\u001b[0;32m--> 546\u001b[0;31m                                         **kwargs)\n\u001b[0m\u001b[1;32m    547\u001b[0m \u001b[0;34m\u001b[0m\u001b[0m\n\u001b[1;32m    548\u001b[0m         \u001b[0;32mif\u001b[0m \u001b[0mfigLabel\u001b[0m\u001b[0;34m:\u001b[0m\u001b[0;34m\u001b[0m\u001b[0;34m\u001b[0m\u001b[0m\n",
      "\u001b[0;32m/mnt/store/mariat/anaconda3/envs/py37/lib/python3.7/site-packages/matplotlib/backend_bases.py\u001b[0m in \u001b[0;36mnew_figure_manager\u001b[0;34m(cls, num, *args, **kwargs)\u001b[0m\n\u001b[1;32m   3334\u001b[0m         \u001b[0;32mfrom\u001b[0m \u001b[0mmatplotlib\u001b[0m\u001b[0;34m.\u001b[0m\u001b[0mfigure\u001b[0m \u001b[0;32mimport\u001b[0m \u001b[0mFigure\u001b[0m\u001b[0;34m\u001b[0m\u001b[0;34m\u001b[0m\u001b[0m\n\u001b[1;32m   3335\u001b[0m         \u001b[0mfig_cls\u001b[0m \u001b[0;34m=\u001b[0m \u001b[0mkwargs\u001b[0m\u001b[0;34m.\u001b[0m\u001b[0mpop\u001b[0m\u001b[0;34m(\u001b[0m\u001b[0;34m'FigureClass'\u001b[0m\u001b[0;34m,\u001b[0m \u001b[0mFigure\u001b[0m\u001b[0;34m)\u001b[0m\u001b[0;34m\u001b[0m\u001b[0;34m\u001b[0m\u001b[0m\n\u001b[0;32m-> 3336\u001b[0;31m         \u001b[0mfig\u001b[0m \u001b[0;34m=\u001b[0m \u001b[0mfig_cls\u001b[0m\u001b[0;34m(\u001b[0m\u001b[0;34m*\u001b[0m\u001b[0margs\u001b[0m\u001b[0;34m,\u001b[0m \u001b[0;34m**\u001b[0m\u001b[0mkwargs\u001b[0m\u001b[0;34m)\u001b[0m\u001b[0;34m\u001b[0m\u001b[0;34m\u001b[0m\u001b[0m\n\u001b[0m\u001b[1;32m   3337\u001b[0m         \u001b[0;32mreturn\u001b[0m \u001b[0mcls\u001b[0m\u001b[0;34m.\u001b[0m\u001b[0mnew_figure_manager_given_figure\u001b[0m\u001b[0;34m(\u001b[0m\u001b[0mnum\u001b[0m\u001b[0;34m,\u001b[0m \u001b[0mfig\u001b[0m\u001b[0;34m)\u001b[0m\u001b[0;34m\u001b[0m\u001b[0;34m\u001b[0m\u001b[0m\n\u001b[1;32m   3338\u001b[0m \u001b[0;34m\u001b[0m\u001b[0m\n",
      "\u001b[0;32m/mnt/store/mariat/anaconda3/envs/py37/lib/python3.7/site-packages/matplotlib/figure.py\u001b[0m in \u001b[0;36m__init__\u001b[0;34m(self, figsize, dpi, facecolor, edgecolor, linewidth, frameon, subplotpars, tight_layout, constrained_layout)\u001b[0m\n\u001b[1;32m    347\u001b[0m \u001b[0;34m\u001b[0m\u001b[0m\n\u001b[1;32m    348\u001b[0m         \u001b[0;32mif\u001b[0m \u001b[0;32mnot\u001b[0m \u001b[0mnp\u001b[0m\u001b[0;34m.\u001b[0m\u001b[0misfinite\u001b[0m\u001b[0;34m(\u001b[0m\u001b[0mfigsize\u001b[0m\u001b[0;34m)\u001b[0m\u001b[0;34m.\u001b[0m\u001b[0mall\u001b[0m\u001b[0;34m(\u001b[0m\u001b[0;34m)\u001b[0m \u001b[0;32mor\u001b[0m \u001b[0;34m(\u001b[0m\u001b[0mnp\u001b[0m\u001b[0;34m.\u001b[0m\u001b[0marray\u001b[0m\u001b[0;34m(\u001b[0m\u001b[0mfigsize\u001b[0m\u001b[0;34m)\u001b[0m \u001b[0;34m<=\u001b[0m \u001b[0;36m0\u001b[0m\u001b[0;34m)\u001b[0m\u001b[0;34m.\u001b[0m\u001b[0many\u001b[0m\u001b[0;34m(\u001b[0m\u001b[0;34m)\u001b[0m\u001b[0;34m:\u001b[0m\u001b[0;34m\u001b[0m\u001b[0;34m\u001b[0m\u001b[0m\n\u001b[0;32m--> 349\u001b[0;31m             raise ValueError('figure size must be positive finite not '\n\u001b[0m\u001b[1;32m    350\u001b[0m                              f'{figsize}')\n\u001b[1;32m    351\u001b[0m         \u001b[0mself\u001b[0m\u001b[0;34m.\u001b[0m\u001b[0mbbox_inches\u001b[0m \u001b[0;34m=\u001b[0m \u001b[0mBbox\u001b[0m\u001b[0;34m.\u001b[0m\u001b[0mfrom_bounds\u001b[0m\u001b[0;34m(\u001b[0m\u001b[0;36m0\u001b[0m\u001b[0;34m,\u001b[0m \u001b[0;36m0\u001b[0m\u001b[0;34m,\u001b[0m \u001b[0;34m*\u001b[0m\u001b[0mfigsize\u001b[0m\u001b[0;34m)\u001b[0m\u001b[0;34m\u001b[0m\u001b[0;34m\u001b[0m\u001b[0m\n",
      "\u001b[0;31mValueError\u001b[0m: figure size must be positive finite not (10, 0)"
     ]
    }
   ],
   "source": [
    "chans = glob.glob(os.path.join(path_to_folder, event, folder, f'*{sta}*{cha}*'))\n",
    "chans.sort()\n",
    "\n",
    "fig, axs = plt.subplots(len(chans),2, figsize=(10, 3*len(chans)), facecolor='w', edgecolor='k')\n",
    "axs = axs.ravel()\n",
    "fig.subplots_adjust(hspace = 1, wspace=0.5)\n",
    "\n",
    "j = 0\n",
    "for i, trace in enumerate(chans):\n",
    "\n",
    "    tr = read(trace)[0]\n",
    "    if filtering:\n",
    "        tr.filter(filter_type, freqmin=freqmin, freqmax=freqmax)\n",
    "        # tr.filter('highpass',  freqmin=1/50, freqmax=50)\n",
    "    try:\n",
    "        data = tr.data / abs(tr.data).max()\n",
    "        axs[j].plot(tr.times(), data)\n",
    "        axs[j].set_title(tr.stats.channel, weight='bold')\n",
    "        axs[j].set_xlabel('samples')\n",
    "        axs[j].set_ylabel('normalized')\n",
    "\n",
    "        axs[j+1].magnitude_spectrum(data, Fs=tr.stats.sampling_rate, color='C2', alpha=0.5)\n",
    "        axs[j+1].set_title(f'Spectrum: {tr.stats.channel}', weight='bold')\n",
    "        axs[j+1].set_xscale('log')\n",
    "        axs[j+1].set_xlim(0.001, 30)\n",
    "\n",
    "        j += 2\n",
    "    except Exception as exp:\n",
    "        axs[j].set_title(tr.stats.channel, weight='bold')\n",
    "        axs[j].set_xlabel('samples')\n",
    "        axs[j].set_ylabel('normalized')\n",
    "        axs[j+1].set_title(f'Spectrum: {tr.stats.channel}', weight='bold')\n",
    "        axs[j+1].set_xscale('log')\n",
    "        axs[j+1].set_xlim(0.001, 30)\n",
    "        j += 2\n",
    "        continue\n",
    "\n",
    "if save_figs:\n",
    "    plt.savefig(os.path.join(save_fig_path, f'{sta}_{event}_{folder}_all_channels.png'), dpi=300)\n",
    "plt.show()"
   ]
  },
  {
   "cell_type": "markdown",
   "metadata": {},
   "source": [
    "A spectrogram my take some time depending on the length of the trace and other settings. Hence for now it is done separately."
   ]
  },
  {
   "cell_type": "markdown",
   "metadata": {},
   "source": [
    "### Spectrogram"
   ]
  },
  {
   "cell_type": "markdown",
   "metadata": {},
   "source": [
    "Change following settings\n",
    "\n",
    "- fmin    \n",
    "  minimal frequency to be analyzed\n",
    "- fmax    \n",
    "  maximal frequency to be analyzed\n",
    "- nf      \n",
    "  number of frequencies (will be chosen with logarithmic spacing)\n",
    "- w0    \n",
    "  parameter for the wavelet, tradeoff between time and frequency resolution\n",
    "- fft_zero_pad_fac      \n",
    "  integer, if > 0, the signal is zero padded to nfft = next_pow_2(len(st)) * fft_zero_pad_fac to get smoother spectrum in the low frequencies\n",
    "- clim\n",
    "  limits of the colorbars\n",
    "- cmap\n",
    "  colormap for TFEM/TFPM, either a string or matplotlib.cm.Colormap instance\n",
    "  Check here:\n",
    "  https://matplotlib.org/stable/tutorials/colors/colormaps.html"
   ]
  },
  {
   "cell_type": "code",
   "execution_count": null,
   "metadata": {
    "scrolled": false
   },
   "outputs": [],
   "source": [
    "# %%capture\n",
    "# dt time step between two samples in st (automatically set)\n",
    "fmin = 0.01\n",
    "fmax = 1.\n",
    "w0=10.\n",
    "nf=64\n",
    "fft_zero_pad_fac=4\n",
    "cmap = 'inferno'\n",
    "\n",
    "chans = glob.glob(os.path.join(path_to_folder, event, folder, f'*{sta}*{cha}*'))\n",
    "chans.sort()\n",
    "for trace in chans:\n",
    "    print(f'Plotting {trace}')\n",
    "    tr = read(trace)[0]\n",
    "    plot_tfr(tr.data, \n",
    "             dt=tr.stats.delta, \n",
    "             fmin=fmin, \n",
    "             fmax=fmax, \n",
    "             w0=w0, \n",
    "             nf=nf, \n",
    "             clim=np.mean(tr.data)+np.std(tr.data),\n",
    "             cmap=cmap,\n",
    "             fft_zero_pad_fac=fft_zero_pad_fac)\n",
    "    if save_figs:\n",
    "        plt.savefig(os.path.join(save_fig_path, f'{sta}_{tr.stats.channel}_spec_{event}_{folder}.png'), dpi=300)"
   ]
  },
  {
   "cell_type": "markdown",
   "metadata": {},
   "source": [
    "### Instrument response"
   ]
  },
  {
   "cell_type": "code",
   "execution_count": null,
   "metadata": {
    "scrolled": false
   },
   "outputs": [],
   "source": [
    "from obspy import read, read_inventory\n",
    "\n",
    "chans = glob.glob(os.path.join(path_to_folder, event, folder, f'*{sta}*{cha}*'))\n",
    "chans.sort()\n",
    "inresp = glob.glob(os.path.join(path_to_folder, event, 'resp', f'*{sta}*{cha}*'))\n",
    "inresp.sort()\n",
    "\n",
    "pre_filt = [0.001, 0.005, 45, 50]\n",
    "            \n",
    "for i, trace in enumerate(chans):\n",
    "    st = read(trace)\n",
    "    tr = st[0]\n",
    "    inv = read_inventory(inresp[i])\n",
    "    \n",
    "    if save_figs:\n",
    "        out_save = os.path.join(save_fig_path, f'{sta}_{tr.stats.channel}_instrument_response_{event}_{folder}.png')\n",
    "        tr.remove_response(inventory=inv, pre_filt = pre_filt, output=\"DISP\", plot=out_save)\n",
    "    else:\n",
    "        tr.remove_response(inventory=inv, pre_filt= pre_filt,output=\"DISP\", plot=True)      "
   ]
  }
 ],
 "metadata": {
  "kernelspec": {
   "display_name": "Python 3",
   "language": "python",
   "name": "python3"
  },
  "language_info": {
   "codemirror_mode": {
    "name": "ipython",
    "version": 3
   },
   "file_extension": ".py",
   "mimetype": "text/x-python",
   "name": "python",
   "nbconvert_exporter": "python",
   "pygments_lexer": "ipython3",
   "version": "3.7.6"
  }
 },
 "nbformat": 4,
 "nbformat_minor": 4
}

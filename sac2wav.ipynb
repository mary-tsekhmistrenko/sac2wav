{
 "cells": [
  {
   "cell_type": "markdown",
   "metadata": {},
   "source": [
    "# A very simple pipeline to convert SAC to WAV files "
   ]
  },
  {
   "cell_type": "markdown",
   "metadata": {},
   "source": [
    "ATTENTION 1: \n",
    "It you have a \"%%capture\" at the top of the cell no output will be shown. If you are suspicious that something is going terribly wrong you can comment out this line and see the whole output.\n",
    "\n",
    "ATTENTION 2:\n",
    "Basemap is deprecated in favor of the Cartopy project. "
   ]
  },
  {
   "cell_type": "markdown",
   "metadata": {},
   "source": [
    "## Import \n",
    "\n",
    "You usually do not change this part."
   ]
  },
  {
   "cell_type": "code",
   "execution_count": 1,
   "metadata": {},
   "outputs": [],
   "source": [
    "# solve issue with autocomplete\n",
    "%config Completer.use_jedi = False\n",
    "%load_ext autoreload\n",
    "%autoreload 2\n",
    "%matplotlib notebook\n",
    "%matplotlib inline"
   ]
  },
  {
   "cell_type": "code",
   "execution_count": 2,
   "metadata": {},
   "outputs": [],
   "source": [
    "import os\n",
    "import sys\n",
    "import time\n",
    "import glob\n",
    "from IPython import display\n",
    "\n",
    "from soundfile import SoundFile\n",
    "from natsort import natsorted\n",
    "\n",
    "import matplotlib.pyplot as plt\n",
    "from matplotlib import cm\n",
    "import cartopy.crs as ccrs\n",
    "\n",
    "import numpy as np\n",
    "import pandas as pd\n",
    "from obspy import read, Trace\n",
    "from obspy.signal.tf_misfit import plot_tfr\n",
    "\n",
    "# the file src_sac2wav contains written functions for exporting sac to wav files\n",
    "from src_sac2wav import *"
   ]
  },
  {
   "cell_type": "markdown",
   "metadata": {},
   "source": [
    "## Download the data"
   ]
  },
  {
   "cell_type": "markdown",
   "metadata": {},
   "source": [
    "<img src=\"DMT_logo.png\" width=\"200\" align=\"center\">"
   ]
  },
  {
   "cell_type": "markdown",
   "metadata": {},
   "source": [
    "### Input for Download"
   ]
  },
  {
   "cell_type": "markdown",
   "metadata": {},
   "source": [
    "Please read the comments for an explaination of the settings."
   ]
  },
  {
   "cell_type": "code",
   "execution_count": 15,
   "metadata": {},
   "outputs": [],
   "source": [
    "# Your output path where your downloads and process is saved\n",
    "save_path = '/mnt/seismodata2/MT/_OUTPUT_/test_sac2wav_20.10.2021_continuous'\n",
    "\n",
    "# Choose between \"event\" and \"continuous\" or \"day\" mode.\n",
    "# When you are choosing \"continuous\" or \"day\" mode, day files will be downloaded regardless of the mode. \n",
    "# In continuous mode the day files are later merged to one long trace and exported as WAV. \n",
    "mode = 'continuous'\n",
    "\n",
    "# If set to \"False\" the code does not download anything but gives you a table of available \n",
    "# events in the timespan you define in start_time/end_time\n",
    "event_info = False\n",
    "\n",
    "start_time = '2013-05-28'\n",
    "end_time = '2013-06-01'\n",
    "\n",
    "# \"preset\" and \"offset\" make only sense in event mode, this will not be used in continuous or day mode!\n",
    "preset = None  # in [SEC] default: 0; put None if you want to use default values\n",
    "offset = 0  # default: 1800 for event-based mode and 0 for continuous mode\n",
    "\n",
    "min_mag = '8.0'\n",
    "max_mag = '10'\n",
    "\n",
    "samplingrate = None  # or None \n",
    "waveform_format = 'sac'  # or mseed \n",
    "\n",
    "event_catalog = 'NEIC_USGS' # you can change that, for more information check out obspyDMT\n",
    "data_source = 'RESIF'  # all or RESIF, IRIS, etc. check out obspyDMT for more information\n",
    "\n",
    "network = 'YV'  # you can also use '*' for all available notworks or stations. Attention, you might download a lot of data\n",
    "station = 'RR47'\n",
    "channel = '*'\n",
    "\n",
    "# ATTENTION!!! If this is set to TRUE and the datapath is found, delete it before running obspyDMT\n",
    "reset = True\n",
    "\n",
    "# parallel request is on default with 4 cores \n",
    "parallel_request = True\n",
    "\n",
    "# parallel processing is on default with 4 cores\n",
    "parallel_process = True\n",
    "\n",
    "# instrument response, yes/no\n",
    "instrument_correction = False\n",
    "\n",
    "# process_unit that you want to use:\n",
    "process_unit = 'process_unit_wav'\n",
    "# Apply a bandpass filter to the seismograms before deconvolution, syntax: 'None' or '(f1,f2,f3,f4)' \n",
    "# which are the four corner frequencies of a cosine taper, default: '(0.008, 0.012, 3.0, 4.0)'.\n",
    "# pre_filt = '(0.008, 0.012, 3.0, 4.0)'  # or False for default/ None for none\n",
    "pre_filt = False\n"
   ]
  },
  {
   "cell_type": "code",
   "execution_count": 23,
   "metadata": {},
   "outputs": [],
   "source": [
    "# output paths will be generated:\n",
    "wav_save, save_fig_path = generate_output_folders(mode, save_path)"
   ]
  },
  {
   "cell_type": "markdown",
   "metadata": {},
   "source": [
    "Generate the obspyDMT command first:"
   ]
  },
  {
   "cell_type": "code",
   "execution_count": 17,
   "metadata": {},
   "outputs": [
    {
     "name": "stdout",
     "output_type": "stream",
     "text": [
      "Executing following command in the next cell:\n",
      "\n",
      "obspyDMT --datapath /mnt/seismodata2/MT/_OUTPUT_/test_sac2wav_20.10.2021_continuous --min_date 2013-05-28 --max_date 2013-06-01 --waveform_format sac --data_source RESIF --pre_process process_unit_wav --continuous  --sta RR47 --net YV --req_parallel --req_np 10 --parallel_process --process_np 10  --reset\n"
     ]
    }
   ],
   "source": [
    "# here the input from above is put together for obspyDMT \n",
    "execute_DMT = generate_output_command(save_path, mode, event_info, start_time, end_time, preset, offset, min_mag, max_mag,\n",
    "                                     samplingrate, waveform_format, event_catalog, data_source, network, station, channel,\n",
    "                                     reset, parallel_request, parallel_process, instrument_correction, process_unit, pre_filt)\n",
    "\n",
    "print(f'Executing following command in the next cell:\\n\\n{execute_DMT}')"
   ]
  },
  {
   "cell_type": "markdown",
   "metadata": {},
   "source": [
    "Attention! Only execute the next line if you want to download or update your dataset. If you just want to plot or export some specific data you already downloaded then you do not have to execute the next line!\n",
    "\n",
    "You can also c+p the command in a terminal if you do not want to do it in the notebook."
   ]
  },
  {
   "cell_type": "code",
   "execution_count": 18,
   "metadata": {
    "scrolled": true
   },
   "outputs": [
    {
     "name": "stdout",
     "output_type": "stream",
     "text": [
      "/mnt/store/mariat/anaconda3/envs/py37/lib/python3.7/site-packages/obspy/clients/arclink/__init__.py:178: ObsPyDeprecationWarning: The ArcLink protocol will be deprecated in the near future. Please, use the client contacting the routing service provided by EIDA: https://docs.obspy.org/packages/obspy.clients.fdsn.html#basic-routing-clients-usage\n",
      "  warnings.warn(msg, category=ObsPyDeprecationWarning)\n",
      "\u001b[H\u001b[2J--------------------------------------------------------------------------------\n",
      "\t\t   obspyDMT (obspy Data Management Tool)\n",
      "\n",
      "\tPython Toolbox for Retrieving, Processing and Management of\n",
      "\t\t\tLarge Seismological Datasets\n",
      "\n",
      ":copyright:\n",
      "The ObsPy Development Team (devs@obspy.org)\n",
      "\n",
      "Developed by Kasra Hosseini\n",
      "email: kasra.hosseinizad@earth.ox.ac.uk\n",
      "\n",
      ":license:\n",
      "GNU General Public License, Version 3\n",
      "(http://www.gnu.org/licenses/gpl-3.0-standalone.html)\n",
      "--------------------------------------------------------------------------------\n",
      "\n",
      "\n",
      "================================\n",
      "Remove the following directory:\n",
      "/mnt/seismodata2/MT/_OUTPUT_/test_sac2wav_20.10.2021_continuous\n",
      "obspyDMT is going to re-create it...\n",
      "================================\n",
      "\n",
      "\n",
      "obspyDMT primary mode: continuous\n",
      "\n",
      "[WARNING] no local event was found!\n",
      "start identifying the intervals...DONE\n",
      "\n",
      "#N LAT     LON     DEP     DATETIME             MAG     AUTH EV_ID        \n",
      "--------------------------------------------------------------------------------\n",
      "1  -12345  -12345  -12345  2013-05-28T00:00:00  -12345  NAN  continuous1\n",
      "2  -12345  -12345  -12345  2013-05-29T00:00:00  -12345  NAN  continuous2\n",
      "3  -12345  -12345  -12345  2013-05-30T00:00:00  -12345  NAN  continuous3\n",
      "4  -12345  -12345  -12345  2013-05-31T00:00:00  -12345  NAN  continuous4\n",
      "--------------------------------------------------------------------------------\n",
      "\n",
      "Number of events/intervals: 4\n",
      "Time for retrieving and saving the event info: 0:00:00\n",
      "\n",
      "#Events after filtering: 4\n",
      "\n",
      "=============\n",
      "metadata mode\n",
      "=============\n",
      "initializing files and directories...DONE\n",
      "check the availability: RESIF\n",
      "\n",
      "availability for event: 1/4 ---> DONE\n",
      "Time for checking the availability: 0:00:01.113215\n",
      "[INFO] requested data sources:\n",
      "RESIF \n",
      "\n",
      "RESIF -- event: /mnt/seismodata2/MT/_OUTPUT_/test_sac2wav_20.10.2021_continuous/continuous1\n",
      "[1/4-1/4] -- RESIF -- saving waveform for: YV.RR47.00.BDH  ---> DONE\n",
      "[1/4-4/4] -- RESIF -- saving waveform for: YV.RR47.00.BHZ  ---> DONE\n",
      "[1/4-3/4] -- RESIF -- saving waveform for: YV.RR47.00.BH2  ---> DONE\n",
      "[1/4-2/4] -- RESIF -- saving waveform for: YV.RR47.00.BH1  ---> DONE\n",
      "[1/4-1/4] -- RESIF -- saving response for: YV.RR47.00.BDH  ---> DONE\n",
      "[1/4-3/4] -- RESIF -- saving response for: YV.RR47.00.BH2  ---> DONE\n",
      "[1/4-2/4] -- RESIF -- saving response for: YV.RR47.00.BH1  ---> DONE\n",
      "[1/4-4/4] -- RESIF -- saving response for: YV.RR47.00.BHZ  ---> DONE\n",
      "\n",
      "========================\n",
      "DONE with Event: continuous1\n",
      "Time: 0:00:04.381144\n",
      "========================\n",
      "\n",
      "=============\n",
      "metadata mode\n",
      "=============\n",
      "initializing files and directories...DONE\n",
      "check the availability: RESIF\n",
      "\n",
      "availability for event: 2/4 ---> DONE\n",
      "Time for checking the availability: 0:00:00.923508\n",
      "[INFO] requested data sources:\n",
      "RESIF \n",
      "\n",
      "RESIF -- event: /mnt/seismodata2/MT/_OUTPUT_/test_sac2wav_20.10.2021_continuous/continuous2\n",
      "[2/4-3/4] -- RESIF -- saving waveform for: YV.RR47.00.BH2  ---> DONE\n",
      "[2/4-3/4] -- RESIF -- saving response for: YV.RR47.00.BH2  ---> DONE\n",
      "[2/4-2/4] -- RESIF -- saving waveform for: YV.RR47.00.BH1  ---> DONE\n",
      "[2/4-4/4] -- RESIF -- saving waveform for: YV.RR47.00.BHZ  ---> DONE\n",
      "[2/4-1/4] -- RESIF -- saving waveform for: YV.RR47.00.BDH  ---> DONE\n",
      "[2/4-2/4] -- RESIF -- saving response for: YV.RR47.00.BH1  ---> DONE\n",
      "[2/4-4/4] -- RESIF -- saving response for: YV.RR47.00.BHZ  ---> DONE\n",
      "[2/4-1/4] -- RESIF -- saving response for: YV.RR47.00.BDH  ---> DONE\n",
      "\n",
      "========================\n",
      "DONE with Event: continuous2\n",
      "Time: 0:00:03.834044\n",
      "========================\n",
      "\n",
      "=============\n",
      "metadata mode\n",
      "=============\n",
      "initializing files and directories...DONE\n",
      "check the availability: RESIF\n",
      "\n",
      "availability for event: 3/4 ---> DONE\n",
      "Time for checking the availability: 0:00:00.948108\n",
      "[INFO] requested data sources:\n",
      "RESIF \n",
      "\n",
      "RESIF -- event: /mnt/seismodata2/MT/_OUTPUT_/test_sac2wav_20.10.2021_continuous/continuous3\n",
      "[3/4-3/4] -- RESIF -- saving waveform for: YV.RR47.00.BH2  ---> DONE\n",
      "[3/4-1/4] -- RESIF -- saving waveform for: YV.RR47.00.BDH  ---> DONE\n",
      "[3/4-4/4] -- RESIF -- saving waveform for: YV.RR47.00.BHZ  ---> DONE\n",
      "[3/4-2/4] -- RESIF -- saving waveform for: YV.RR47.00.BH1  ---> DONE\n",
      "[3/4-3/4] -- RESIF -- saving response for: YV.RR47.00.BH2  ---> DONE\n",
      "[3/4-1/4] -- RESIF -- saving response for: YV.RR47.00.BDH  ---> DONE\n",
      "[3/4-4/4] -- RESIF -- saving response for: YV.RR47.00.BHZ  ---> DONE\n",
      "[3/4-2/4] -- RESIF -- saving response for: YV.RR47.00.BH1  ---> DONE\n",
      "\n",
      "========================\n",
      "DONE with Event: continuous3\n",
      "Time: 0:00:03.627644\n",
      "========================\n",
      "\n",
      "=============\n",
      "metadata mode\n",
      "=============\n",
      "initializing files and directories...DONE\n",
      "check the availability: RESIF\n",
      "\n",
      "availability for event: 4/4 ---> DONE\n",
      "Time for checking the availability: 0:00:00.969239\n",
      "[INFO] requested data sources:\n",
      "RESIF \n",
      "\n",
      "RESIF -- event: /mnt/seismodata2/MT/_OUTPUT_/test_sac2wav_20.10.2021_continuous/continuous4\n",
      "[4/4-4/4] -- RESIF -- saving waveform for: YV.RR47.00.BHZ  ---> DONE\n",
      "[4/4-3/4] -- RESIF -- saving waveform for: YV.RR47.00.BH2  ---> DONE\n",
      "[4/4-2/4] -- RESIF -- saving waveform for: YV.RR47.00.BH1  ---> DONE\n",
      "[4/4-1/4] -- RESIF -- saving waveform for: YV.RR47.00.BDH  ---> DONE\n",
      "[4/4-4/4] -- RESIF -- saving response for: YV.RR47.00.BHZ  ---> DONE\n",
      "[4/4-1/4] -- RESIF -- saving response for: YV.RR47.00.BDH  ---> DONE\n",
      "[4/4-3/4] -- RESIF -- saving response for: YV.RR47.00.BH2  ---> DONE\n",
      "[4/4-2/4] -- RESIF -- saving response for: YV.RR47.00.BH1  ---> DONE\n",
      "\n",
      "========================\n",
      "DONE with Event: continuous4\n",
      "Time: 0:00:03.731346\n",
      "========================\n",
      "[LOCAL] Path:\n",
      "/mnt/seismodata2/MT/_OUTPUT_/test_sac2wav_20.10.2021_continuous/continuous1\n",
      "[INFO] update station_event file...\n",
      "[1/4] start processing: YV.RR47.00.BDH\n",
      "[3/4] start processing: YV.RR47.00.BH2\n",
      "Writing WAV file for YV.RR47.00.BH2\n",
      "Writing WAV file for YV.RR47.00.BDH\n",
      "[4/4] start processing: YV.RR47.00.BHZ\n",
      "[2/4] start processing: YV.RR47.00.BH1\n",
      "Writing WAV file for YV.RR47.00.BH1\n",
      "Writing WAV file for YV.RR47.00.BHZ\n",
      "\n",
      "\n",
      "================================\n",
      "All 2 processes are finished...\n",
      "================================\n",
      "[LOCAL] Path:\n",
      "/mnt/seismodata2/MT/_OUTPUT_/test_sac2wav_20.10.2021_continuous/continuous2\n",
      "[INFO] update station_event file...\n",
      "[3/4] start processing: YV.RR47.00.BH2\n",
      "[1/4] start processing: YV.RR47.00.BDH\n",
      "Writing WAV file for YV.RR47.00.BDH\n",
      "Writing WAV file for YV.RR47.00.BH2\n",
      "[2/4] start processing: YV.RR47.00.BH1\n",
      "[4/4] start processing: YV.RR47.00.BHZ\n",
      "Writing WAV file for YV.RR47.00.BH1\n",
      "Writing WAV file for YV.RR47.00.BHZ\n",
      "\n",
      "\n",
      "================================\n",
      "All 2 processes are finished...\n",
      "================================\n",
      "[LOCAL] Path:\n",
      "/mnt/seismodata2/MT/_OUTPUT_/test_sac2wav_20.10.2021_continuous/continuous3\n",
      "[INFO] update station_event file...\n",
      "[1/4] start processing: YV.RR47.00.BDH\n",
      "[3/4] start processing: YV.RR47.00.BH2\n",
      "Writing WAV file for YV.RR47.00.BDH\n",
      "Writing WAV file for YV.RR47.00.BH2\n",
      "[2/4] start processing: YV.RR47.00.BH1\n",
      "[4/4] start processing: YV.RR47.00.BHZ\n",
      "Writing WAV file for YV.RR47.00.BH1\n",
      "Writing WAV file for YV.RR47.00.BHZ\n",
      "\n",
      "\n",
      "================================\n",
      "All 2 processes are finished...\n",
      "================================\n",
      "[LOCAL] Path:\n",
      "/mnt/seismodata2/MT/_OUTPUT_/test_sac2wav_20.10.2021_continuous/continuous4\n",
      "[INFO] update station_event file...\n",
      "[1/4] start processing: YV.RR47.00.BDH\n",
      "[3/4] start processing: YV.RR47.00.BH2\n",
      "Writing WAV file for YV.RR47.00.BDH\n",
      "Writing WAV file for YV.RR47.00.BH2\n",
      "[2/4] start processing: YV.RR47.00.BH1\n",
      "[4/4] start processing: YV.RR47.00.BHZ\n",
      "Writing WAV file for YV.RR47.00.BHZ\n",
      "Writing WAV file for YV.RR47.00.BH1\n",
      "\n",
      "\n",
      "================================\n",
      "All 2 processes are finished...\n",
      "================================\n",
      "\n",
      "\n",
      "==================================================\n",
      "obspyDMT main program has finished!\n",
      "\n",
      "/mnt/seismodata2/MT/_OUTPUT_/test_sac2wav_20.10.2021_continuous\n",
      "* Total time of execution: 0:00:53 (h:m:s)\n",
      "==================================================\n",
      "\n",
      "\n"
     ]
    }
   ],
   "source": [
    "!{execute_DMT}"
   ]
  },
  {
   "cell_type": "markdown",
   "metadata": {},
   "source": [
    "In case your download was interrupted and **raw** files were not converted to **processed**, execute this next cell. Otherwise, please skip."
   ]
  },
  {
   "cell_type": "code",
   "execution_count": 14,
   "metadata": {
    "scrolled": true
   },
   "outputs": [
    {
     "name": "stdout",
     "output_type": "stream",
     "text": [
      "/mnt/store/mariat/anaconda3/envs/py37/lib/python3.7/site-packages/obspy/clients/arclink/__init__.py:178: ObsPyDeprecationWarning: The ArcLink protocol will be deprecated in the near future. Please, use the client contacting the routing service provided by EIDA: https://docs.obspy.org/packages/obspy.clients.fdsn.html#basic-routing-clients-usage\n",
      "  warnings.warn(msg, category=ObsPyDeprecationWarning)\n",
      "\u001b[H\u001b[2J--------------------------------------------------------------------------------\n",
      "\t\t   obspyDMT (obspy Data Management Tool)\n",
      "\n",
      "\tPython Toolbox for Retrieving, Processing and Management of\n",
      "\t\t\tLarge Seismological Datasets\n",
      "\n",
      ":copyright:\n",
      "The ObsPy Development Team (devs@obspy.org)\n",
      "\n",
      "Developed by Kasra Hosseini\n",
      "email: kasra.hosseinizad@earth.ox.ac.uk\n",
      "\n",
      ":license:\n",
      "GNU General Public License, Version 3\n",
      "(http://www.gnu.org/licenses/gpl-3.0-standalone.html)\n",
      "--------------------------------------------------------------------------------\n",
      "\n",
      "\n",
      "obspyDMT primary mode: local\n",
      "\n",
      "\n",
      "=========================================================\n",
      "use the local files:\n",
      "/mnt/seismodata2/MT/_OUTPUT_/test_sac2wav_20.10.2021_continuous/EVENTS-INFO/event_list_pickle\n",
      "=========================================================\n",
      "\n",
      "\n",
      "#N LAT         LON         DEP     DATETIME             MAG     AUTH EV_ID        FLY  \n",
      "--------------------------------------------------------------------------------\n",
      "1  -12345.000  -12345.000  -12345  2013-05-28T00:00:00  -12345  NAN  continuous1  NAN\n",
      "--------------------------------------------------------------------------------\n",
      "\n",
      "Number of events/intervals: 1\n",
      "Time for retrieving and saving the event info: 0:00:00\n",
      "\n",
      "#Events after filtering: 1\n",
      "[LOCAL] Path:\n",
      "/mnt/seismodata2/MT/_OUTPUT_/test_sac2wav_20.10.2021_continuous/continuous1\n",
      "[INFO] update station_event file...\n",
      "[1/4] start processing: YV.RR47.00.BDH\n",
      "[3/4] start processing: YV.RR47.00.BH2\n",
      "[2/4] start processing: YV.RR47.00.BH1\n",
      "[4/4] start processing: YV.RR47.00.BHZ\n",
      "\n",
      "\n",
      "================================\n",
      "All 2 processes are finished...\n",
      "================================\n",
      "\n",
      "\n",
      "==================================================\n",
      "obspyDMT main program has finished!\n",
      "\n",
      "/mnt/seismodata2/MT/_OUTPUT_/test_sac2wav_20.10.2021_continuous\n",
      "* Total time of execution: 0:00:01 (h:m:s)\n",
      "==================================================\n",
      "\n",
      "\n"
     ]
    }
   ],
   "source": [
    "proc_DMT = f'{execute_DMT} --local'\n",
    "!{proc_DMT}"
   ]
  },
  {
   "cell_type": "markdown",
   "metadata": {},
   "source": [
    "## Access downloaded data and save as WAV files"
   ]
  },
  {
   "cell_type": "markdown",
   "metadata": {},
   "source": [
    "### Reading station information"
   ]
  },
  {
   "cell_type": "markdown",
   "metadata": {},
   "source": [
    "No visible output generated with %%caputre.\n",
    "\n",
    "Attnetnion: In some cases there might be a gap in data and the %%capture suppress the Warning messages! If you want to see them then comment the first line of the next cell."
   ]
  },
  {
   "cell_type": "code",
   "execution_count": 19,
   "metadata": {
    "scrolled": true
   },
   "outputs": [],
   "source": [
    "%%capture\n",
    "# find read_station_information function in src_sac2wav.py if you want to know what is happening inside this function\n",
    "df_all = read_station_information(save_path, '*')\n",
    "# you can change the '*' to a specific event, but this wildcard will give you everything \n",
    "# a data frame (df) is generated with all station event information for your current download"
   ]
  },
  {
   "cell_type": "markdown",
   "metadata": {},
   "source": [
    "Here, you can look at the data frame:"
   ]
  },
  {
   "cell_type": "code",
   "execution_count": 20,
   "metadata": {
    "scrolled": true
   },
   "outputs": [
    {
     "name": "stdout",
     "output_type": "stream",
     "text": [
      "   net station location channel    stalat   stalon   staele None   cata  \\\n",
      "0   YV    RR47       00     BDH  -27.6958  65.7553  -4582.0  0.0  RESIF   \n",
      "1   YV    RR47       00     BH1  -27.6958  65.7553  -4582.0  0.0  RESIF   \n",
      "2   YV    RR47       00     BH2  -27.6958  65.7553  -4582.0  0.0  RESIF   \n",
      "3   YV    RR47       00     BHZ  -27.6958  65.7553  -4582.0  0.0  RESIF   \n",
      "4   YV    RR47       00     BDH  -27.6958  65.7553  -4582.0  0.0  RESIF   \n",
      "5   YV    RR47       00     BH1  -27.6958  65.7553  -4582.0  0.0  RESIF   \n",
      "6   YV    RR47       00     BH2  -27.6958  65.7553  -4582.0  0.0  RESIF   \n",
      "7   YV    RR47       00     BHZ  -27.6958  65.7553  -4582.0  0.0  RESIF   \n",
      "8   YV    RR47       00     BDH  -27.6958  65.7553  -4582.0  0.0  RESIF   \n",
      "9   YV    RR47       00     BH1  -27.6958  65.7553  -4582.0  0.0  RESIF   \n",
      "10  YV    RR47       00     BH2  -27.6958  65.7553  -4582.0  0.0  RESIF   \n",
      "11  YV    RR47       00     BHZ  -27.6958  65.7553  -4582.0  0.0  RESIF   \n",
      "12  YV    RR47       00     BDH  -27.6958  65.7553  -4582.0  0.0  RESIF   \n",
      "13  YV    RR47       00     BH1  -27.6958  65.7553  -4582.0  0.0  RESIF   \n",
      "14  YV    RR47       00     BH2  -27.6958  65.7553  -4582.0  0.0  RESIF   \n",
      "15  YV    RR47       00     BHZ  -27.6958  65.7553  -4582.0  0.0  RESIF   \n",
      "\n",
      "           mode   evlat   evlon   evdep     mag None   None  10 None  \n",
      "0   continuous1  -12345  -12345  -12345  -12345  0.0    0.0  10       \n",
      "1   continuous1  -12345  -12345  -12345  -12345  0.0    0.0  10       \n",
      "2   continuous1  -12345  -12345  -12345  -12345  0.0    0.0  10       \n",
      "3   continuous1  -12345  -12345  -12345  -12345  0.0  -90.0  10       \n",
      "4   continuous2  -12345  -12345  -12345  -12345  0.0    0.0  10       \n",
      "5   continuous2  -12345  -12345  -12345  -12345  0.0    0.0  10       \n",
      "6   continuous2  -12345  -12345  -12345  -12345  0.0    0.0  10       \n",
      "7   continuous2  -12345  -12345  -12345  -12345  0.0  -90.0  10       \n",
      "8   continuous3  -12345  -12345  -12345  -12345  0.0    0.0  10       \n",
      "9   continuous3  -12345  -12345  -12345  -12345  0.0    0.0  10       \n",
      "10  continuous3  -12345  -12345  -12345  -12345  0.0    0.0  10       \n",
      "11  continuous3  -12345  -12345  -12345  -12345  0.0  -90.0  10       \n",
      "12  continuous4  -12345  -12345  -12345  -12345  0.0    0.0  10       \n",
      "13  continuous4  -12345  -12345  -12345  -12345  0.0    0.0  10       \n",
      "14  continuous4  -12345  -12345  -12345  -12345  0.0    0.0  10       \n",
      "15  continuous4  -12345  -12345  -12345  -12345  0.0  -90.0  10       \n"
     ]
    }
   ],
   "source": [
    "print(df_all)"
   ]
  },
  {
   "cell_type": "markdown",
   "metadata": {},
   "source": [
    "## Plot station event distribution"
   ]
  },
  {
   "cell_type": "code",
   "execution_count": 24,
   "metadata": {
    "scrolled": false
   },
   "outputs": [
    {
     "data": {
      "image/png": "[encoded data removed]",
      "text/plain": [
       "<Figure size 720x360 with 1 Axes>"
      ]
     },
     "metadata": {
      "needs_background": "light"
     },
     "output_type": "display_data"
    }
   ],
   "source": [
    "fig = plt.figure(figsize=(10, 5))\n",
    "ax = fig.add_subplot(1, 1, 1, projection=ccrs.Robinson())\n",
    "\n",
    "ax.set_global()\n",
    "# ax.stock_img()\n",
    "ax.coastlines()\n",
    "\n",
    "df1 = df_all.drop_duplicates(['stalon','stalat'])\n",
    "ax.scatter(df1['stalon'].astype(float), df1['stalat'].astype(float), c='b', marker='v', s=15, alpha=0.7,  transform=ccrs.PlateCarree())\n",
    "\n",
    "if mode == 'event':\n",
    "    df2 = df_all.drop_duplicates(['evlon','evlat'])\n",
    "    ax.scatter(df2['evlon'].astype(float), df2['evlat'].astype(float), c='r', marker='*', s=65, alpha=0.7, transform=ccrs.PlateCarree())\n",
    "\n",
    "# always save this plot\n",
    "plt.savefig(os.path.join(save_fig_path, 'station_event_map.png'), dpi=300)\n",
    "plt.show()"
   ]
  },
  {
   "cell_type": "markdown",
   "metadata": {},
   "source": [
    "### Creating Poly-WAV's"
   ]
  },
  {
   "cell_type": "markdown",
   "metadata": {},
   "source": [
    "Seperate WAV files are automatically written when data is downloaded. When exporting poly-WAV files and Hydrophone channel is not present for landstation a zero trace is created and exportet instead.\n",
    "\n",
    "Even if you can download all possible channels (e.g. Water current, temperature, etc... see also here: https://ds.iris.edu/ds/nodes/dmc/tools/data_channels/#VOC) only seismometer channels are exported to WAV files. Only channels starting with:\n",
    "\n",
    "    XX E       Extremely Short Period  ≥ 80 to < 250< 10 sec\n",
    "    XX S       Short Period  ≥ 10 to < 80< 10 sec\n",
    "    \n",
    "    H       High Broad Band ≥ 80 to < 250≥ 10 sec\n",
    "    B       Broad Band≥ 10 to < 80≥ 10 sec\n",
    "    M       Mid Period> 1 to < 10LLong Period≈ 1\n",
    "    L\t    Long Period\t≈ 1\n",
    "    V       Very Long Period≈ 0.1\n",
    "    \n",
    "    XX U       Ultra Long Period≈ 0.01\n",
    "    XX R       Extremely Long Period≥ 0.0001 to < 0.001\n",
    "\n",
    "will be considered for converting for WAV files. There are even longer/shorter period channels which can be added at a later stage if desired.\n",
    "\n",
    "For instance\n",
    "\n",
    "    VOC measures water current\n",
    "    VKI measures inside Temperature\n",
    "and\n",
    "\n",
    "    the “LOG” channel for the console log\n",
    "    the “SOH” channel for the main state of health channel\n",
    "\n",
    "are skipped. "
   ]
  },
  {
   "cell_type": "markdown",
   "metadata": {},
   "source": [
    "**Note!** framerate and bitrate are set to 48000 and PCM_24 when downloaded for the single WAV files. You can change that for the poly files. If you want to change it for the single files you have to change it in **process_unit_wav.py** at the bottom of the file (don't forget to save your changes!). "
   ]
  },
  {
   "cell_type": "markdown",
   "metadata": {},
   "source": [
    "**Attention!** you are setting the mode (event, continous, day) on top of the notebook. Here, you can define another folder to process if you wish. Default is to use the above settings."
   ]
  },
  {
   "cell_type": "markdown",
   "metadata": {},
   "source": [
    "### There can be several processed folders depending on your above input\n",
    "\n",
    "'processed': [yes] 'sampling_rate' and [yes] 'instrument_correction'\n",
    "\n",
    "'resamp' : [yes] 'sampling_rate' and [no] 'instrument_correction'\n",
    "\n",
    "'instr': [no] 'sampling_rate' and [yes] 'instrument_correction'\n",
    "\n",
    "'noinstr_noresamp': [no] 'sampling_rate' and [no] 'instrument_correction'"
   ]
  },
  {
   "cell_type": "code",
   "execution_count": 25,
   "metadata": {},
   "outputs": [],
   "source": [
    "# ================\n",
    "# SAC to WAV input \n",
    "# ================\n",
    "\n",
    "# this is the path of the above downloaded data, but you can also put a path to other previously downloaded data\n",
    "dmt_folder = save_path\n",
    "\n",
    "# this is the mode from above or adjust to something else you already downloaded\n",
    "wav_mode = 'continuous'\n",
    "\n",
    "# which folder you want to confert to poly wavs\n",
    "# put one of these four options:\n",
    "# 'processed', 'resamp', 'instr', 'noinstr_noresamp'\n",
    "folder_to_process = 'noinstr_noresamp'\n",
    "\n",
    "# if poly_wav files should be generated. (I left this flag but theoretically if \n",
    "# you do not want poly files you already have the single files from the obspyDMT download.)\n",
    "poly_wav = True\n",
    "\n",
    "# What and how much to process depending on the wav_mode/mode\n",
    "proc_wavs_events = ['20210729_061549.a']  # or ['*_*.*'] \n",
    "proc_wavs_days = [start_time, 3]  # or for days '*'\n",
    "\n",
    "# read: start_date | how many days after startdate | how many waveforms/chunks      \n",
    "proc_wavs_continuous = [start_time, '*' , 3]  # or for days '*' | start_time can also be in this format 'YYYY-MM-DD'\n",
    "\n",
    "station_selection = '*'  # or \"RR05\" or '*' or ['PL08', 'BIG2']\n",
    "channel_selection = '*' # please just give the first letter of the channel you want, eg. B, H, L ...\n",
    "\n",
    "# WAV settings\n",
    "framerate = 48000\n",
    "bitrate = 'PCM_24'\n",
    "\n",
    "# Normalisation factor\n",
    "norm = -9 # or '-9' for chunk wise normalisation\n",
    "\n",
    "# generates automatically plots of SAC files in WAV folder\n",
    "plot_waveforms = True\n",
    "\n",
    "# just in case the paths do not exist yet\n",
    "wav_save, save_fig_path = generate_output_folders(wav_mode, dmt_folder)"
   ]
  },
  {
   "cell_type": "markdown",
   "metadata": {},
   "source": [
    "The below output shows you the maximum amplitude of each trace for your selected settings. This usually helps you to play around with the normalisation factor of the traces. Default is \"norm = -9\", the maximum amplitude of all traces is used for normalisation. Whereas if you give a value, e.g. \"norm = 59673.0\", all traces will be normalised based on that value.\n",
    "\n",
    "The next cell doesn't do anything except giving you the amplitudes and does not need to be executed every time."
   ]
  },
  {
   "cell_type": "code",
   "execution_count": 30,
   "metadata": {},
   "outputs": [
    {
     "name": "stdout",
     "output_type": "stream",
     "text": [
      "00000 | /mnt/seismodata2/MT/_OUTPUT_/test_sac2wav_20.10.2021_continuous/continuous1/proc_noinstr_noresamp/YV.RR47.00.BDH | YV.RR47.00.BDH | 8640001 | 59673.0\n",
      "00001 | /mnt/seismodata2/MT/_OUTPUT_/test_sac2wav_20.10.2021_continuous/continuous1/proc_noinstr_noresamp/YV.RR47.00.BH1 | YV.RR47.00.BH1 | 8640001 | 45434.0\n",
      "00002 | /mnt/seismodata2/MT/_OUTPUT_/test_sac2wav_20.10.2021_continuous/continuous1/proc_noinstr_noresamp/YV.RR47.00.BH2 | YV.RR47.00.BH2 | 8640001 | 55544.0\n",
      "00003 | /mnt/seismodata2/MT/_OUTPUT_/test_sac2wav_20.10.2021_continuous/continuous1/proc_noinstr_noresamp/YV.RR47.00.BHZ | YV.RR47.00.BHZ | 8640001 | 55257.0\n",
      "00004 | /mnt/seismodata2/MT/_OUTPUT_/test_sac2wav_20.10.2021_continuous/continuous2/proc_noinstr_noresamp/YV.RR47.00.BDH | YV.RR47.00.BDH | 8640001 | 50017.0\n",
      "00005 | /mnt/seismodata2/MT/_OUTPUT_/test_sac2wav_20.10.2021_continuous/continuous2/proc_noinstr_noresamp/YV.RR47.00.BH1 | YV.RR47.00.BH1 | 8640001 | 34923.0\n",
      "00006 | /mnt/seismodata2/MT/_OUTPUT_/test_sac2wav_20.10.2021_continuous/continuous2/proc_noinstr_noresamp/YV.RR47.00.BH2 | YV.RR47.00.BH2 | 8640001 | 66574.0\n",
      "00007 | /mnt/seismodata2/MT/_OUTPUT_/test_sac2wav_20.10.2021_continuous/continuous2/proc_noinstr_noresamp/YV.RR47.00.BHZ | YV.RR47.00.BHZ | 8640001 | 39242.0\n",
      "00008 | /mnt/seismodata2/MT/_OUTPUT_/test_sac2wav_20.10.2021_continuous/continuous3/proc_noinstr_noresamp/YV.RR47.00.BDH | YV.RR47.00.BDH | 8640001 | 79955.0\n",
      "00009 | /mnt/seismodata2/MT/_OUTPUT_/test_sac2wav_20.10.2021_continuous/continuous3/proc_noinstr_noresamp/YV.RR47.00.BH1 | YV.RR47.00.BH1 | 8640001 | 41941.0\n",
      "00010 | /mnt/seismodata2/MT/_OUTPUT_/test_sac2wav_20.10.2021_continuous/continuous3/proc_noinstr_noresamp/YV.RR47.00.BH2 | YV.RR47.00.BH2 | 8640001 | 42267.0\n",
      "00011 | /mnt/seismodata2/MT/_OUTPUT_/test_sac2wav_20.10.2021_continuous/continuous3/proc_noinstr_noresamp/YV.RR47.00.BHZ | YV.RR47.00.BHZ | 8640001 | 40240.0\n",
      "00012 | /mnt/seismodata2/MT/_OUTPUT_/test_sac2wav_20.10.2021_continuous/continuous4/proc_noinstr_noresamp/YV.RR47.00.BDH | YV.RR47.00.BDH | 8640001 | 114553.0\n",
      "00013 | /mnt/seismodata2/MT/_OUTPUT_/test_sac2wav_20.10.2021_continuous/continuous4/proc_noinstr_noresamp/YV.RR47.00.BH1 | YV.RR47.00.BH1 | 8640001 | 33325.0\n",
      "00014 | /mnt/seismodata2/MT/_OUTPUT_/test_sac2wav_20.10.2021_continuous/continuous4/proc_noinstr_noresamp/YV.RR47.00.BH2 | YV.RR47.00.BH2 | 8640001 | 41672.0\n",
      "00015 | /mnt/seismodata2/MT/_OUTPUT_/test_sac2wav_20.10.2021_continuous/continuous4/proc_noinstr_noresamp/YV.RR47.00.BHZ | YV.RR47.00.BHZ | 8640001 | 29232.0\n",
      "Max amplitude of all channels: 114553.0\n"
     ]
    }
   ],
   "source": [
    "all_paths = get_proc_paths(folder_to_process, dmt_folder, wav_mode, station_selection, channel_selection)\n",
    "\n",
    "collect_max = []\n",
    "\n",
    "for i, path in enumerate(all_paths):\n",
    "    tr = read(path)[0]\n",
    "    maxtr = np.max(abs(tr.data))\n",
    "    print(f'{i:05d} | {path} | {tr.id} | {tr.stats.npts} | {maxtr}')\n",
    "    collect_max.append(maxtr)\n",
    "\n",
    "print(f'Max amplitude of all channels: {max(collect_max)}')"
   ]
  },
  {
   "cell_type": "code",
   "execution_count": 31,
   "metadata": {
    "scrolled": false
   },
   "outputs": [
    {
     "name": "stdout",
     "output_type": "stream",
     "text": [
      "****************\n",
      "Mode: continuous\n",
      "****************\n",
      "Days to process:\n",
      "\t['continuous1', 'continuous2', 'continuous3']\n",
      "Working on station: RR47\n",
      "Location: 00\n",
      "Channel Group: ['BH1', 'BH2', 'BHZ', 'BDH']\n",
      "\n",
      "\tChannel BH1.\n",
      "\t\tFolder continuous1\n",
      "\t\t\tAdding YV.RR47.00.BH1.\n",
      "\t\tFolder continuous2\n",
      "\t\t\tAdding YV.RR47.00.BH1.\n",
      "\t\tFolder continuous3\n",
      "\t\t\tAdding YV.RR47.00.BH1.\n",
      "\tLength of trace: 25920001\n",
      "\n",
      "\tChannel BH2.\n",
      "\t\tFolder continuous1\n",
      "\t\t\tAdding YV.RR47.00.BH2.\n",
      "\t\tFolder continuous2\n",
      "\t\t\tAdding YV.RR47.00.BH2.\n",
      "\t\tFolder continuous3\n",
      "\t\t\tAdding YV.RR47.00.BH2.\n",
      "\tLength of trace: 25920001\n",
      "\n",
      "\tChannel BHZ.\n",
      "\t\tFolder continuous1\n",
      "\t\t\tAdding YV.RR47.00.BHZ.\n",
      "\t\tFolder continuous2\n",
      "\t\t\tAdding YV.RR47.00.BHZ.\n",
      "\t\tFolder continuous3\n",
      "\t\t\tAdding YV.RR47.00.BHZ.\n",
      "\tLength of trace: 25920001\n",
      "\n",
      "\tChannel BDH.\n",
      "\t\tFolder continuous1\n",
      "\t\t\tAdding YV.RR47.00.BDH.\n",
      "\t\tFolder continuous2\n",
      "\t\t\tAdding YV.RR47.00.BDH.\n",
      "\t\tFolder continuous3\n",
      "\t\t\tAdding YV.RR47.00.BDH.\n",
      "\tLength of trace: 25920001\n",
      "\tNormalizing after merging continuous waveforms.\n",
      "\tMax values of channels HZEN (might be useful for norm factor): 79955.0 55257.0 45434.0 66574.0\n",
      "\tNorm factor used for three components: 66574.0\n",
      "Clearing memeroy...\n",
      "Days to process:\n",
      "\t['continuous4']\n",
      "Working on station: RR47\n",
      "Location: 00\n",
      "Channel Group: ['BH1', 'BH2', 'BHZ', 'BDH']\n",
      "\n",
      "\tChannel BH1.\n",
      "\t\tFolder continuous4\n",
      "\t\t\tAdding YV.RR47.00.BH1.\n",
      "\tLength of trace: 8640001\n",
      "\n",
      "\tChannel BH2.\n",
      "\t\tFolder continuous4\n",
      "\t\t\tAdding YV.RR47.00.BH2.\n",
      "\tLength of trace: 8640001\n",
      "\n",
      "\tChannel BHZ.\n",
      "\t\tFolder continuous4\n",
      "\t\t\tAdding YV.RR47.00.BHZ.\n",
      "\tLength of trace: 8640001\n",
      "\n",
      "\tChannel BDH.\n",
      "\t\tFolder continuous4\n",
      "\t\t\tAdding YV.RR47.00.BDH.\n",
      "\tLength of trace: 8640001\n",
      "\tNormalizing after merging continuous waveforms.\n",
      "\tMax values of channels HZEN (might be useful for norm factor): 114553.0 29232.0 33325.0 41672.0\n",
      "\tNorm factor used for three components: 41672.0\n",
      "Clearing memeroy...\n"
     ]
    }
   ],
   "source": [
    "# %%capture\n",
    "stars = '*'*len('Mode: ' + wav_mode)\n",
    "print(f'{stars}')\n",
    "print(f'Mode: {wav_mode}')\n",
    "print(f'{stars}')\n",
    "\n",
    "# creating a new panada dataframe based on above input \n",
    "df_wav = read_station_information(dmt_folder, '*')\n",
    "# you can change the '*' to a specific event, but this wildcard will give you everything \n",
    "\n",
    "if wav_mode == 'continuous':\n",
    "    # does generate continuous wav files;\n",
    "    # ATTNENTION uses all continuous* folders in save_path\n",
    "    export_continuous(df_wav, poly_wav, dmt_folder, folder_to_process, proc_wavs_continuous, station_selection,\n",
    "                      channel_selection, framerate, bitrate, norm, wav_save, plot_waveforms)\n",
    "\n",
    "elif wav_mode == 'event':\n",
    "    # genereates wav files containing specific events\n",
    "    export_event(df_wav, poly_wav, dmt_folder, folder_to_process, proc_wavs_events, station_selection,\n",
    "                 channel_selection, framerate, bitrate, wav_save, plot_waveforms)\n",
    "\n",
    "elif wav_mode == 'day':\n",
    "    # genereates wav files containing specific days\n",
    "    export_day(df_wav, poly_wav, dmt_folder, folder_to_process, proc_wavs_days, station_selection,\n",
    "               channel_selection, framerate, bitrate, wav_save, plot_waveforms)\n",
    "else: \n",
    "    sys.exit(f'Mode: {mode} does not exist or is not implemented. Forced exit!')"
   ]
  },
  {
   "cell_type": "markdown",
   "metadata": {},
   "source": [
    "## Plot a particular station that was already downloaded"
   ]
  },
  {
   "cell_type": "code",
   "execution_count": null,
   "metadata": {},
   "outputs": [],
   "source": [
    "# ==================\n",
    "# Post-proc and plot\n",
    "# ==================\n",
    "save_figs = True\n",
    "\n",
    "plot_instrument_response = True  # if save_figs = True -> automatically saves in plot folder, otherwise will not be saved\n",
    "\n",
    "filtering = True\n",
    "filter_type = 'bandpass'  # or 'lowpass', 'highpass'\n",
    "freqmin =  1/50 # Hz\n",
    "freqmax = 1     # Hz"
   ]
  },
  {
   "cell_type": "markdown",
   "metadata": {},
   "source": [
    "Attention: The next dataframe (df_all) gives out all download and not necessary what you converted from SAC to WAV (df_wav). "
   ]
  },
  {
   "cell_type": "code",
   "execution_count": null,
   "metadata": {},
   "outputs": [],
   "source": [
    "uniq_sta = df_all['station'].unique()\n",
    "uniq_cha = df_all['channel'].unique()\n",
    "uniq_modes = df_all['mode'].unique()\n",
    "print(f'Available stations:\\n{uniq_sta}')\n",
    "print(f'Available channels:\\n{uniq_cha}')\n",
    "print(f'Available modes/events:\\n{uniq_modes}')"
   ]
  },
  {
   "cell_type": "code",
   "execution_count": null,
   "metadata": {},
   "outputs": [],
   "source": [
    "# you could also define another folder/event that was previously downloaded, default here is save_path\n",
    "path_to_folder = save_path\n",
    "\n",
    "# specify event\n",
    "event = \"continuous1\"   # '20210304_192833.a' or \"continuous01\" or \"continuous1\" \n",
    "\n",
    "# specify folder\n",
    "folder = 'noinstr_noresamp'  # 'processed' or \"raw\" or \"noinstr_noresamp\" or \"instr\"\n",
    "\n",
    "# station\n",
    "sta = '*'\n",
    "\n",
    "cha = 'B*'"
   ]
  },
  {
   "cell_type": "markdown",
   "metadata": {},
   "source": [
    "### Seismograms and Spectrum"
   ]
  },
  {
   "cell_type": "markdown",
   "metadata": {},
   "source": [
    "Here you plot all available channels of this one stations. Grouped stations and channels are automatically saved when converting from SAC to WAV."
   ]
  },
  {
   "cell_type": "code",
   "execution_count": null,
   "metadata": {
    "scrolled": false
   },
   "outputs": [],
   "source": [
    "chans = get_proc_paths(folder, path_to_folder, event, sta, cha)\n",
    "\n",
    "fig, axs = plt.subplots(len(chans),2, figsize=(10, 3*len(chans)), facecolor='w', edgecolor='k')\n",
    "axs = axs.ravel()\n",
    "fig.subplots_adjust(hspace = 1, wspace=0.5)\n",
    "\n",
    "j = 0\n",
    "for i, trace in enumerate(chans):\n",
    "\n",
    "    tr = read(trace)[0]\n",
    "    if filtering:\n",
    "        tr.filter(filter_type, freqmin=freqmin, freqmax=freqmax)\n",
    "        # tr.filter('highpass',  freqmin=1/50, freqmax=50)\n",
    "    try:\n",
    "        data = tr.data / abs(tr.data).max()\n",
    "        axs[j].plot(tr.times(), data)\n",
    "        axs[j].set_title(tr.stats.channel, weight='bold')\n",
    "        axs[j].set_xlabel('samples')\n",
    "        axs[j].set_ylabel('normalized')\n",
    "\n",
    "        axs[j+1].magnitude_spectrum(data, Fs=tr.stats.sampling_rate, color='C2', alpha=0.5)\n",
    "        axs[j+1].set_title(f'Spectrum: {tr.stats.channel}', weight='bold')\n",
    "        axs[j+1].set_xscale('log')\n",
    "        axs[j+1].set_xlim(0.001, 30)\n",
    "\n",
    "        j += 2\n",
    "    except Exception as exp:\n",
    "        axs[j].set_title(tr.stats.channel, weight='bold')\n",
    "        axs[j].set_xlabel('samples')\n",
    "        axs[j].set_ylabel('normalized')\n",
    "        axs[j+1].set_title(f'Spectrum: {tr.stats.channel}', weight='bold')\n",
    "        axs[j+1].set_xscale('log')\n",
    "        axs[j+1].set_xlim(0.001, 30)\n",
    "        j += 2\n",
    "        continue\n",
    "\n",
    "if save_figs:\n",
    "    plt.savefig(os.path.join(save_fig_path, f'{sta}_{event}_{folder}_all_channels.png'), dpi=300)\n",
    "plt.show()"
   ]
  },
  {
   "cell_type": "markdown",
   "metadata": {},
   "source": [
    "### Spectrogram"
   ]
  },
  {
   "cell_type": "markdown",
   "metadata": {},
   "source": [
    "A spectrogram may take some time depending on the length of the trace and other settings. Hence for now it is done separately."
   ]
  },
  {
   "cell_type": "markdown",
   "metadata": {},
   "source": [
    "Change following settings\n",
    "\n",
    "- fmin    \n",
    "  minimal frequency to be analyzed\n",
    "- fmax    \n",
    "  maximal frequency to be analyzed\n",
    "- nf      \n",
    "  number of frequencies (will be chosen with logarithmic spacing)\n",
    "- w0    \n",
    "  parameter for the wavelet, tradeoff between time and frequency resolution\n",
    "- fft_zero_pad_fac      \n",
    "  integer, if > 0, the signal is zero padded to nfft = next_pow_2(len(st)) * fft_zero_pad_fac to get smoother spectrum in the low frequencies\n",
    "- clim\n",
    "  limits of the colorbars\n",
    "- cmap\n",
    "  colormap for TFEM/TFPM, either a string or matplotlib.cm.Colormap instance\n",
    "  Check here:\n",
    "  https://matplotlib.org/stable/tutorials/colors/colormaps.html"
   ]
  },
  {
   "cell_type": "code",
   "execution_count": null,
   "metadata": {
    "scrolled": false
   },
   "outputs": [],
   "source": [
    "# %%capture\n",
    "# dt time step between two samples in st (automatically set)\n",
    "fmin = 0.01\n",
    "fmax = 1.\n",
    "w0=4.\n",
    "nf=64\n",
    "fft_zero_pad_fac=4\n",
    "cmap = 'inferno'\n",
    "\n",
    "chans = get_proc_paths(folder, path_to_folder, event, sta, cha)\n",
    "\n",
    "for trace in chans:\n",
    "    print(f'Plotting {trace}')\n",
    "    tr = read(trace)[0]\n",
    "    plot_tfr(tr.data, \n",
    "             dt=tr.stats.delta, \n",
    "             fmin=fmin, \n",
    "             fmax=fmax, \n",
    "             w0=w0, \n",
    "             nf=nf, \n",
    "             clim= np.mean(tr.data) + 4 * np.std(tr.data),\n",
    "             cmap=cmap,\n",
    "             fft_zero_pad_fac=fft_zero_pad_fac)\n",
    "    if save_figs:\n",
    "        plt.savefig(os.path.join(save_fig_path, f'{sta}_{tr.stats.channel}_spec_{event}_{folder}.png'), dpi=300)"
   ]
  },
  {
   "cell_type": "markdown",
   "metadata": {},
   "source": [
    "### Instrument response"
   ]
  },
  {
   "cell_type": "code",
   "execution_count": null,
   "metadata": {
    "scrolled": false
   },
   "outputs": [],
   "source": [
    "from obspy import read, read_inventory\n",
    "\n",
    "chans = glob.glob(os.path.join(path_to_folder, event, folder, f'*{sta}*{cha}*'))\n",
    "chans.sort()\n",
    "inresp = glob.glob(os.path.join(path_to_folder, event, 'resp', f'*{sta}*{cha}*'))\n",
    "inresp.sort()\n",
    "\n",
    "pre_filt = [0.001, 0.005, 45, 50]\n",
    "            \n",
    "for i, trace in enumerate(chans):\n",
    "    st = read(trace)\n",
    "    tr = st[0]\n",
    "    inv = read_inventory(inresp[i])\n",
    "    \n",
    "    if save_figs:\n",
    "        out_save = os.path.join(save_fig_path, f'{sta}_{tr.stats.channel}_instrument_response_{event}_{folder}.png')\n",
    "        tr.remove_response(inventory=inv, pre_filt = pre_filt, output=\"DISP\", plot=out_save)\n",
    "    else:\n",
    "        tr.remove_response(inventory=inv, pre_filt= pre_filt,output=\"DISP\", plot=True)      "
   ]
  },
  {
   "cell_type": "code",
   "execution_count": null,
   "metadata": {},
   "outputs": [],
   "source": []
  }
 ],
 "metadata": {
  "kernelspec": {
   "display_name": "Python 3",
   "language": "python",
   "name": "python3"
  },
  "language_info": {
   "codemirror_mode": {
    "name": "ipython",
    "version": 3
   },
   "file_extension": ".py",
   "mimetype": "text/x-python",
   "name": "python",
   "nbconvert_exporter": "python",
   "pygments_lexer": "ipython3",
   "version": "3.7.11"
  }
 },
 "nbformat": 4,
 "nbformat_minor": 4
}
